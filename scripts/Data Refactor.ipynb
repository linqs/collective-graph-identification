{
 "cells": [
  {
   "cell_type": "markdown",
   "id": "2f5c40c3",
   "metadata": {
    "tags": []
   },
   "source": [
    "# This notebook stores each step of refactoring the graph data into PSL data"
   ]
  },
  {
   "cell_type": "code",
   "execution_count": 1,
   "id": "6411d281-8dec-4dc2-a5ac-556ff4f07f88",
   "metadata": {
    "tags": []
   },
   "outputs": [],
   "source": [
    "# No space between equals sign is necessary, so we can treat these as Bash variables as well.\n",
    "FILE_GROUND_TRUTH_EMAIL_NODES='../c3/namata-kdd11-data/enron/enron-samples-lowunk/outputgraph/enron.NODE.email.tab'\n",
    "FILE_GROUND_TRUTH_COREF_EDGES='../c3/namata-kdd11-data/enron/enron-samples-lowunk/outputgraph/enron.UNDIRECTED.coref.tab'\n",
    "FILE_GROUND_TRUTH_MANAGES_EDGES='../c3/namata-kdd11-data/enron/enron-samples-lowunk/outputgraph/enron.UNDIRECTED.email-submgr.tab'\n",
    "FILE_GROUND_TRUTH_COMMUNICATION_EDGES='../c3/namata-kdd11-data/enron/enron-samples-lowunk/outputgraph/enron.DIRECTED.sentto.tab'\n",
    "\n",
    "\n",
    "FILE_SAMPLE_EMAIL_NODES='../c3/namata-kdd11-data/enron/enron-samples-lowunk/enron-sample-lowunk-1of6/sample-enron.NODE.email.tab'\n",
    "FILE_SAMPLE_COREF_EDGES='../c3/namata-kdd11-data/enron/enron-samples-lowunk/enron-sample-lowunk-1of6/sample-enron.UNDIRECTED.coref.tab'\n",
    "FILE_SAMPLE_MANAGES_EDGES='../c3/namata-kdd11-data/enron/enron-samples-lowunk/enron-sample-lowunk-1of6/sample-enron.UNDIRECTED.email-submgr.tab'\n"
   ]
  },
  {
   "cell_type": "markdown",
   "id": "5b913c78",
   "metadata": {
    "jp-MarkdownHeadingCollapsed": true,
    "tags": []
   },
   "source": [
    "## These functions help parse the .tab files."
   ]
  },
  {
   "cell_type": "code",
   "execution_count": 2,
   "id": "d983d7bb",
   "metadata": {},
   "outputs": [],
   "source": [
    "import pandas as pd\n",
    "import numpy as np\n",
    "import re\n",
    "import itertools # for cross products when filling in a full PSL dataset"
   ]
  },
  {
   "cell_type": "code",
   "execution_count": 3,
   "id": "57353b11",
   "metadata": {},
   "outputs": [],
   "source": [
    "# assigns types to each column\n",
    "def resolve_column_type(table):\n",
    "    for column in table.columns:\n",
    "        if column in {'id', 'email', 'alt_email', 'other_email' , 'numsent', 'numreceived', 'numexchanged'}:\n",
    "            table[column] = table[column].astype(str).astype(float).astype(int)\n",
    "        # convert bag-of-words columns to floats (since ints won't take NaNs)\n",
    "        elif re.match(\"w-\", column):\n",
    "            table[column] = table[column].astype(str).astype(float)\n",
    "\n",
    "# extracts feature name from an element in a raw tab row\n",
    "# returns: tuple (feature_name, feature_value, optional_value)\n",
    "def get_feature_tuple(feature):\n",
    "    feature_data = re.split(r\"[:=]\", feature)\n",
    "    return feature_data\n",
    "    \n",
    "\n",
    "# loads the *.tab files into a Pandas Dataframe.\n",
    "# returns: pd.DataFrame(columns=features)\n",
    "def load_table(filename):\n",
    "\n",
    "    # initialize the pandas dataframe\n",
    "    node_data = pd.DataFrame()\n",
    "\n",
    "\n",
    "    with open(filename) as infile:\n",
    "        i = 0\n",
    "        row_list = []\n",
    "        for row in infile:\n",
    "    \n",
    "            #print('i is: ', i)\n",
    "\n",
    "            if i == 0:\n",
    "                # Skip non-useful first line\n",
    "                print(\"Header: \", row)\n",
    "            elif i == 1:\n",
    "                # Prepare dataframe column labels\n",
    "                tokens = row.split()\n",
    "                if len(tokens) == 1:\n",
    "                    print(\"This is not a NODE file, so don't load this row\")\n",
    "                else:  \n",
    "                    features = [\"id\"] + [get_feature_tuple(feature)[1] for feature in tokens]\n",
    "                    node_data = pd.DataFrame(columns=features)\n",
    "            else:\n",
    "          \n",
    "                # this is to help the function generalize among the NODE and EDGE files.\n",
    "                # EDGE files have a \"|\" character, which needs to be removed for proper feature decoupling\n",
    "                row = re.sub(r'\\|','', row)\n",
    "            \n",
    "                tokens = row.split()\n",
    "\n",
    "                # the first token doesn't need splitting\n",
    "                row_dict = {'id':tokens[0]}\n",
    "                row_dict.update({get_feature_tuple(token)[0]:get_feature_tuple(token)[1] for token in tokens[1:]})\n",
    "                row_list.append(row_dict)\n",
    "        \n",
    "            i += 1\n",
    "        \n",
    "        # Fill in rows\n",
    "        node_data = pd.concat([node_data, pd.DataFrame(row_list)], ignore_index=True)\n",
    "\n",
    "    return node_data"
   ]
  },
  {
   "cell_type": "markdown",
   "id": "7e08167d",
   "metadata": {
    "tags": []
   },
   "source": [
    "# Process the email nodes"
   ]
  },
  {
   "cell_type": "markdown",
   "id": "48daee0e-d2bc-46e2-a209-403371aa8d47",
   "metadata": {
    "tags": []
   },
   "source": [
    "## Get ground truth"
   ]
  },
  {
   "cell_type": "code",
   "execution_count": 4,
   "id": "d21fa39d",
   "metadata": {},
   "outputs": [
    {
     "name": "stdout",
     "output_type": "stream",
     "text": [
      "Header:  NODE\temail\n",
      "\n"
     ]
    },
    {
     "data": {
      "text/plain": [
       "id                int64\n",
       "emailaddress     object\n",
       "numsent           int64\n",
       "numreceived       int64\n",
       "numexchanged      int64\n",
       "                 ...   \n",
       "w-kinney        float64\n",
       "w-veselack      float64\n",
       "w-mwhitt        float64\n",
       "w-jarnold       float64\n",
       "title            object\n",
       "Length: 5119, dtype: object"
      ]
     },
     "execution_count": 4,
     "metadata": {},
     "output_type": "execute_result"
    }
   ],
   "source": [
    "email_nodes = load_table(FILE_GROUND_TRUTH_EMAIL_NODES)\n",
    "# remove the (unnecessary) second to last column (it came from an ambiguous parse splits)\n",
    "email_nodes.drop('other,manager,specialist,director,executive', axis=1, inplace=True)\n",
    "resolve_column_type(email_nodes)\n",
    "\n",
    "email_nodes.dtypes"
   ]
  },
  {
   "cell_type": "code",
   "execution_count": 5,
   "id": "dd5f0110",
   "metadata": {
    "scrolled": true,
    "tags": []
   },
   "outputs": [
    {
     "data": {
      "text/html": [
       "<div>\n",
       "<style scoped>\n",
       "    .dataframe tbody tr th:only-of-type {\n",
       "        vertical-align: middle;\n",
       "    }\n",
       "\n",
       "    .dataframe tbody tr th {\n",
       "        vertical-align: top;\n",
       "    }\n",
       "\n",
       "    .dataframe thead th {\n",
       "        text-align: right;\n",
       "    }\n",
       "</style>\n",
       "<table border=\"1\" class=\"dataframe\">\n",
       "  <thead>\n",
       "    <tr style=\"text-align: right;\">\n",
       "      <th></th>\n",
       "      <th>id</th>\n",
       "      <th>emailaddress</th>\n",
       "      <th>numsent</th>\n",
       "      <th>numreceived</th>\n",
       "      <th>numexchanged</th>\n",
       "      <th>w-gerald</th>\n",
       "      <th>w-know</th>\n",
       "      <th>w-busi</th>\n",
       "      <th>w-mexicana</th>\n",
       "      <th>w-transact</th>\n",
       "      <th>...</th>\n",
       "      <th>w-bartlo</th>\n",
       "      <th>w-columbiagassubject</th>\n",
       "      <th>w-perron</th>\n",
       "      <th>w-coh</th>\n",
       "      <th>w-agl</th>\n",
       "      <th>w-kinney</th>\n",
       "      <th>w-veselack</th>\n",
       "      <th>w-mwhitt</th>\n",
       "      <th>w-jarnold</th>\n",
       "      <th>title</th>\n",
       "    </tr>\n",
       "  </thead>\n",
       "  <tbody>\n",
       "    <tr>\n",
       "      <th>0</th>\n",
       "      <td>283</td>\n",
       "      <td>c..koehler@enron.com</td>\n",
       "      <td>128</td>\n",
       "      <td>606</td>\n",
       "      <td>734</td>\n",
       "      <td>1.0</td>\n",
       "      <td>1.0</td>\n",
       "      <td>1.0</td>\n",
       "      <td>NaN</td>\n",
       "      <td>1.0</td>\n",
       "      <td>...</td>\n",
       "      <td>NaN</td>\n",
       "      <td>NaN</td>\n",
       "      <td>NaN</td>\n",
       "      <td>NaN</td>\n",
       "      <td>NaN</td>\n",
       "      <td>NaN</td>\n",
       "      <td>NaN</td>\n",
       "      <td>NaN</td>\n",
       "      <td>NaN</td>\n",
       "      <td>director</td>\n",
       "    </tr>\n",
       "    <tr>\n",
       "      <th>1</th>\n",
       "      <td>98</td>\n",
       "      <td>scott.goodell@enron.com</td>\n",
       "      <td>98</td>\n",
       "      <td>607</td>\n",
       "      <td>705</td>\n",
       "      <td>1.0</td>\n",
       "      <td>1.0</td>\n",
       "      <td>1.0</td>\n",
       "      <td>NaN</td>\n",
       "      <td>1.0</td>\n",
       "      <td>...</td>\n",
       "      <td>1.0</td>\n",
       "      <td>1.0</td>\n",
       "      <td>1.0</td>\n",
       "      <td>1.0</td>\n",
       "      <td>1.0</td>\n",
       "      <td>1.0</td>\n",
       "      <td>1.0</td>\n",
       "      <td>NaN</td>\n",
       "      <td>NaN</td>\n",
       "      <td>specialist</td>\n",
       "    </tr>\n",
       "    <tr>\n",
       "      <th>2</th>\n",
       "      <td>183</td>\n",
       "      <td>p..south@enron.com</td>\n",
       "      <td>8</td>\n",
       "      <td>351</td>\n",
       "      <td>359</td>\n",
       "      <td>1.0</td>\n",
       "      <td>1.0</td>\n",
       "      <td>1.0</td>\n",
       "      <td>NaN</td>\n",
       "      <td>NaN</td>\n",
       "      <td>...</td>\n",
       "      <td>NaN</td>\n",
       "      <td>NaN</td>\n",
       "      <td>NaN</td>\n",
       "      <td>NaN</td>\n",
       "      <td>NaN</td>\n",
       "      <td>NaN</td>\n",
       "      <td>NaN</td>\n",
       "      <td>NaN</td>\n",
       "      <td>NaN</td>\n",
       "      <td>director</td>\n",
       "    </tr>\n",
       "    <tr>\n",
       "      <th>3</th>\n",
       "      <td>204</td>\n",
       "      <td>lavorato@enron.com</td>\n",
       "      <td>388</td>\n",
       "      <td>3</td>\n",
       "      <td>391</td>\n",
       "      <td>NaN</td>\n",
       "      <td>1.0</td>\n",
       "      <td>1.0</td>\n",
       "      <td>NaN</td>\n",
       "      <td>1.0</td>\n",
       "      <td>...</td>\n",
       "      <td>NaN</td>\n",
       "      <td>NaN</td>\n",
       "      <td>NaN</td>\n",
       "      <td>NaN</td>\n",
       "      <td>NaN</td>\n",
       "      <td>NaN</td>\n",
       "      <td>NaN</td>\n",
       "      <td>NaN</td>\n",
       "      <td>NaN</td>\n",
       "      <td>executive</td>\n",
       "    </tr>\n",
       "    <tr>\n",
       "      <th>4</th>\n",
       "      <td>318</td>\n",
       "      <td>mike.grigsby@enron.com</td>\n",
       "      <td>3702</td>\n",
       "      <td>490</td>\n",
       "      <td>4192</td>\n",
       "      <td>1.0</td>\n",
       "      <td>1.0</td>\n",
       "      <td>1.0</td>\n",
       "      <td>1.0</td>\n",
       "      <td>1.0</td>\n",
       "      <td>...</td>\n",
       "      <td>NaN</td>\n",
       "      <td>NaN</td>\n",
       "      <td>NaN</td>\n",
       "      <td>NaN</td>\n",
       "      <td>NaN</td>\n",
       "      <td>NaN</td>\n",
       "      <td>NaN</td>\n",
       "      <td>NaN</td>\n",
       "      <td>NaN</td>\n",
       "      <td>executive</td>\n",
       "    </tr>\n",
       "    <tr>\n",
       "      <th>...</th>\n",
       "      <td>...</td>\n",
       "      <td>...</td>\n",
       "      <td>...</td>\n",
       "      <td>...</td>\n",
       "      <td>...</td>\n",
       "      <td>...</td>\n",
       "      <td>...</td>\n",
       "      <td>...</td>\n",
       "      <td>...</td>\n",
       "      <td>...</td>\n",
       "      <td>...</td>\n",
       "      <td>...</td>\n",
       "      <td>...</td>\n",
       "      <td>...</td>\n",
       "      <td>...</td>\n",
       "      <td>...</td>\n",
       "      <td>...</td>\n",
       "      <td>...</td>\n",
       "      <td>...</td>\n",
       "      <td>...</td>\n",
       "      <td>...</td>\n",
       "    </tr>\n",
       "    <tr>\n",
       "      <th>206</th>\n",
       "      <td>114</td>\n",
       "      <td>vkamins@enron.com</td>\n",
       "      <td>0</td>\n",
       "      <td>12</td>\n",
       "      <td>12</td>\n",
       "      <td>NaN</td>\n",
       "      <td>1.0</td>\n",
       "      <td>1.0</td>\n",
       "      <td>NaN</td>\n",
       "      <td>1.0</td>\n",
       "      <td>...</td>\n",
       "      <td>NaN</td>\n",
       "      <td>NaN</td>\n",
       "      <td>NaN</td>\n",
       "      <td>NaN</td>\n",
       "      <td>NaN</td>\n",
       "      <td>NaN</td>\n",
       "      <td>NaN</td>\n",
       "      <td>NaN</td>\n",
       "      <td>NaN</td>\n",
       "      <td>director</td>\n",
       "    </tr>\n",
       "    <tr>\n",
       "      <th>207</th>\n",
       "      <td>270</td>\n",
       "      <td>david.duran@enron.com</td>\n",
       "      <td>7</td>\n",
       "      <td>145</td>\n",
       "      <td>152</td>\n",
       "      <td>NaN</td>\n",
       "      <td>1.0</td>\n",
       "      <td>1.0</td>\n",
       "      <td>NaN</td>\n",
       "      <td>1.0</td>\n",
       "      <td>...</td>\n",
       "      <td>NaN</td>\n",
       "      <td>NaN</td>\n",
       "      <td>NaN</td>\n",
       "      <td>NaN</td>\n",
       "      <td>NaN</td>\n",
       "      <td>NaN</td>\n",
       "      <td>NaN</td>\n",
       "      <td>NaN</td>\n",
       "      <td>NaN</td>\n",
       "      <td>director</td>\n",
       "    </tr>\n",
       "    <tr>\n",
       "      <th>208</th>\n",
       "      <td>282</td>\n",
       "      <td>sean.crandall@enron.com</td>\n",
       "      <td>94</td>\n",
       "      <td>138</td>\n",
       "      <td>232</td>\n",
       "      <td>NaN</td>\n",
       "      <td>1.0</td>\n",
       "      <td>1.0</td>\n",
       "      <td>NaN</td>\n",
       "      <td>1.0</td>\n",
       "      <td>...</td>\n",
       "      <td>NaN</td>\n",
       "      <td>NaN</td>\n",
       "      <td>NaN</td>\n",
       "      <td>NaN</td>\n",
       "      <td>NaN</td>\n",
       "      <td>NaN</td>\n",
       "      <td>NaN</td>\n",
       "      <td>NaN</td>\n",
       "      <td>NaN</td>\n",
       "      <td>director</td>\n",
       "    </tr>\n",
       "    <tr>\n",
       "      <th>209</th>\n",
       "      <td>243</td>\n",
       "      <td>kevin.presto@enron.com</td>\n",
       "      <td>248</td>\n",
       "      <td>198</td>\n",
       "      <td>446</td>\n",
       "      <td>1.0</td>\n",
       "      <td>1.0</td>\n",
       "      <td>1.0</td>\n",
       "      <td>NaN</td>\n",
       "      <td>1.0</td>\n",
       "      <td>...</td>\n",
       "      <td>NaN</td>\n",
       "      <td>NaN</td>\n",
       "      <td>NaN</td>\n",
       "      <td>NaN</td>\n",
       "      <td>NaN</td>\n",
       "      <td>NaN</td>\n",
       "      <td>NaN</td>\n",
       "      <td>NaN</td>\n",
       "      <td>NaN</td>\n",
       "      <td>executive</td>\n",
       "    </tr>\n",
       "    <tr>\n",
       "      <th>210</th>\n",
       "      <td>131</td>\n",
       "      <td>dave.fuller@enron.com</td>\n",
       "      <td>165</td>\n",
       "      <td>129</td>\n",
       "      <td>294</td>\n",
       "      <td>1.0</td>\n",
       "      <td>1.0</td>\n",
       "      <td>1.0</td>\n",
       "      <td>NaN</td>\n",
       "      <td>1.0</td>\n",
       "      <td>...</td>\n",
       "      <td>NaN</td>\n",
       "      <td>NaN</td>\n",
       "      <td>NaN</td>\n",
       "      <td>NaN</td>\n",
       "      <td>NaN</td>\n",
       "      <td>NaN</td>\n",
       "      <td>NaN</td>\n",
       "      <td>NaN</td>\n",
       "      <td>NaN</td>\n",
       "      <td>manager</td>\n",
       "    </tr>\n",
       "  </tbody>\n",
       "</table>\n",
       "<p>211 rows × 5119 columns</p>\n",
       "</div>"
      ],
      "text/plain": [
       "      id             emailaddress  numsent  numreceived  numexchanged  \\\n",
       "0    283     c..koehler@enron.com      128          606           734   \n",
       "1     98  scott.goodell@enron.com       98          607           705   \n",
       "2    183       p..south@enron.com        8          351           359   \n",
       "3    204       lavorato@enron.com      388            3           391   \n",
       "4    318   mike.grigsby@enron.com     3702          490          4192   \n",
       "..   ...                      ...      ...          ...           ...   \n",
       "206  114        vkamins@enron.com        0           12            12   \n",
       "207  270    david.duran@enron.com        7          145           152   \n",
       "208  282  sean.crandall@enron.com       94          138           232   \n",
       "209  243   kevin.presto@enron.com      248          198           446   \n",
       "210  131    dave.fuller@enron.com      165          129           294   \n",
       "\n",
       "     w-gerald  w-know  w-busi  w-mexicana  w-transact  ...  w-bartlo  \\\n",
       "0         1.0     1.0     1.0         NaN         1.0  ...       NaN   \n",
       "1         1.0     1.0     1.0         NaN         1.0  ...       1.0   \n",
       "2         1.0     1.0     1.0         NaN         NaN  ...       NaN   \n",
       "3         NaN     1.0     1.0         NaN         1.0  ...       NaN   \n",
       "4         1.0     1.0     1.0         1.0         1.0  ...       NaN   \n",
       "..        ...     ...     ...         ...         ...  ...       ...   \n",
       "206       NaN     1.0     1.0         NaN         1.0  ...       NaN   \n",
       "207       NaN     1.0     1.0         NaN         1.0  ...       NaN   \n",
       "208       NaN     1.0     1.0         NaN         1.0  ...       NaN   \n",
       "209       1.0     1.0     1.0         NaN         1.0  ...       NaN   \n",
       "210       1.0     1.0     1.0         NaN         1.0  ...       NaN   \n",
       "\n",
       "     w-columbiagassubject  w-perron  w-coh  w-agl  w-kinney  w-veselack  \\\n",
       "0                     NaN       NaN    NaN    NaN       NaN         NaN   \n",
       "1                     1.0       1.0    1.0    1.0       1.0         1.0   \n",
       "2                     NaN       NaN    NaN    NaN       NaN         NaN   \n",
       "3                     NaN       NaN    NaN    NaN       NaN         NaN   \n",
       "4                     NaN       NaN    NaN    NaN       NaN         NaN   \n",
       "..                    ...       ...    ...    ...       ...         ...   \n",
       "206                   NaN       NaN    NaN    NaN       NaN         NaN   \n",
       "207                   NaN       NaN    NaN    NaN       NaN         NaN   \n",
       "208                   NaN       NaN    NaN    NaN       NaN         NaN   \n",
       "209                   NaN       NaN    NaN    NaN       NaN         NaN   \n",
       "210                   NaN       NaN    NaN    NaN       NaN         NaN   \n",
       "\n",
       "     w-mwhitt  w-jarnold       title  \n",
       "0         NaN        NaN    director  \n",
       "1         NaN        NaN  specialist  \n",
       "2         NaN        NaN    director  \n",
       "3         NaN        NaN   executive  \n",
       "4         NaN        NaN   executive  \n",
       "..        ...        ...         ...  \n",
       "206       NaN        NaN    director  \n",
       "207       NaN        NaN    director  \n",
       "208       NaN        NaN    director  \n",
       "209       NaN        NaN   executive  \n",
       "210       NaN        NaN     manager  \n",
       "\n",
       "[211 rows x 5119 columns]"
      ]
     },
     "execution_count": 5,
     "metadata": {},
     "output_type": "execute_result"
    }
   ],
   "source": [
    "email_nodes"
   ]
  },
  {
   "cell_type": "code",
   "execution_count": 6,
   "id": "9be8f0c9",
   "metadata": {
    "tags": []
   },
   "outputs": [],
   "source": [
    "# Takes a table and fills the missing pairs and values to specify a full, sufficient set\n",
    "# So far it only works with binary predicates\n",
    "def fill_observed_missing_possibilities(table, arguments, values):\n",
    "    total_possibilities = set(itertools.product(list(table[arguments[0]]), values))\n",
    "    already_observed_possibilities = set((table.loc[index][arguments[0]], table.loc[index][arguments[1]]) for index in table.index)\n",
    "\n",
    "    missing_possibilities = total_possibilities - already_observed_possibilities\n",
    "    row_list = []\n",
    "    for arg_0, arg_1 in missing_possibilities:\n",
    "        row_dict = {arguments[0]:arg_0, arguments[1]:arg_1, arguments[2]:0 }\n",
    "        row_list.append(row_dict)\n",
    "        \n",
    "    return pd.concat([table, pd.DataFrame(row_list)], ignore_index=True)"
   ]
  },
  {
   "cell_type": "code",
   "execution_count": 7,
   "id": "ab43913d-8454-48dc-8456-94bda2a96c3a",
   "metadata": {
    "tags": []
   },
   "outputs": [
    {
     "data": {
      "text/html": [
       "<div>\n",
       "<style scoped>\n",
       "    .dataframe tbody tr th:only-of-type {\n",
       "        vertical-align: middle;\n",
       "    }\n",
       "\n",
       "    .dataframe tbody tr th {\n",
       "        vertical-align: top;\n",
       "    }\n",
       "\n",
       "    .dataframe thead th {\n",
       "        text-align: right;\n",
       "    }\n",
       "</style>\n",
       "<table border=\"1\" class=\"dataframe\">\n",
       "  <thead>\n",
       "    <tr style=\"text-align: right;\">\n",
       "      <th></th>\n",
       "      <th>id</th>\n",
       "      <th>title</th>\n",
       "      <th>exists</th>\n",
       "    </tr>\n",
       "  </thead>\n",
       "  <tbody>\n",
       "    <tr>\n",
       "      <th>0</th>\n",
       "      <td>283</td>\n",
       "      <td>3</td>\n",
       "      <td>1.0</td>\n",
       "    </tr>\n",
       "    <tr>\n",
       "      <th>1</th>\n",
       "      <td>98</td>\n",
       "      <td>2</td>\n",
       "      <td>1.0</td>\n",
       "    </tr>\n",
       "    <tr>\n",
       "      <th>2</th>\n",
       "      <td>183</td>\n",
       "      <td>3</td>\n",
       "      <td>1.0</td>\n",
       "    </tr>\n",
       "    <tr>\n",
       "      <th>3</th>\n",
       "      <td>204</td>\n",
       "      <td>4</td>\n",
       "      <td>1.0</td>\n",
       "    </tr>\n",
       "    <tr>\n",
       "      <th>4</th>\n",
       "      <td>318</td>\n",
       "      <td>4</td>\n",
       "      <td>1.0</td>\n",
       "    </tr>\n",
       "    <tr>\n",
       "      <th>...</th>\n",
       "      <td>...</td>\n",
       "      <td>...</td>\n",
       "      <td>...</td>\n",
       "    </tr>\n",
       "    <tr>\n",
       "      <th>1050</th>\n",
       "      <td>182</td>\n",
       "      <td>4</td>\n",
       "      <td>0.0</td>\n",
       "    </tr>\n",
       "    <tr>\n",
       "      <th>1051</th>\n",
       "      <td>308</td>\n",
       "      <td>0</td>\n",
       "      <td>0.0</td>\n",
       "    </tr>\n",
       "    <tr>\n",
       "      <th>1052</th>\n",
       "      <td>46</td>\n",
       "      <td>0</td>\n",
       "      <td>0.0</td>\n",
       "    </tr>\n",
       "    <tr>\n",
       "      <th>1053</th>\n",
       "      <td>202</td>\n",
       "      <td>0</td>\n",
       "      <td>0.0</td>\n",
       "    </tr>\n",
       "    <tr>\n",
       "      <th>1054</th>\n",
       "      <td>26</td>\n",
       "      <td>3</td>\n",
       "      <td>0.0</td>\n",
       "    </tr>\n",
       "  </tbody>\n",
       "</table>\n",
       "<p>1055 rows × 3 columns</p>\n",
       "</div>"
      ],
      "text/plain": [
       "       id  title  exists\n",
       "0     283      3     1.0\n",
       "1      98      2     1.0\n",
       "2     183      3     1.0\n",
       "3     204      4     1.0\n",
       "4     318      4     1.0\n",
       "...   ...    ...     ...\n",
       "1050  182      4     0.0\n",
       "1051  308      0     0.0\n",
       "1052   46      0     0.0\n",
       "1053  202      0     0.0\n",
       "1054   26      3     0.0\n",
       "\n",
       "[1055 rows x 3 columns]"
      ]
     },
     "execution_count": 7,
     "metadata": {},
     "output_type": "execute_result"
    }
   ],
   "source": [
    "# Grab necessary columns, in preparation for dumping the whole ground truth data\n",
    "email_nodes_data = email_nodes[['id','title']].copy()\n",
    "\n",
    "# convert titles to integers, so PSL can ground faster\n",
    "title_map = {\"other\": 0, \"manager\": 1, \"specialist\": 2, \"director\": 3, \"executive\": 4}\n",
    "\n",
    "email_nodes_data = email_nodes_data.replace({'title': title_map})\n",
    "email_nodes_data['exists'] = 1.0\n",
    "\n",
    "full_set_email_has_label_data = fill_observed_missing_possibilities(email_nodes_data, ['id', 'title', 'exists'], list(title_map.values()))\n",
    "full_set_email_has_label_data"
   ]
  },
  {
   "cell_type": "code",
   "execution_count": 8,
   "id": "9801aa44-28d7-4efd-b7bc-2661d59dd7b3",
   "metadata": {},
   "outputs": [],
   "source": [
    "# Outputs all data (obs+truth)\n",
    "# full_set_email_has_label_data.to_csv('EmailHasLabel_data.csv', sep ='\\t', index=False, header=False, columns=['id', 'title', 'exists'])"
   ]
  },
  {
   "cell_type": "markdown",
   "id": "711200e4-4ae7-4b81-8cf2-4b3e09dcf4e1",
   "metadata": {
    "jp-MarkdownHeadingCollapsed": true,
    "tags": []
   },
   "source": [
    "## Calculate splits for PSL predicates"
   ]
  },
  {
   "cell_type": "code",
   "execution_count": 9,
   "id": "b20698d4-a4eb-4eed-a47c-cbed34fac003",
   "metadata": {},
   "outputs": [
    {
     "name": "stdout",
     "output_type": "stream",
     "text": [
      "Header:  NODE\temail\n",
      "\n"
     ]
    }
   ],
   "source": [
    "# Grab the sample from the original experiment, this will allow us to calculate observations and targets.\n",
    "sample_email_nodes = load_table(FILE_SAMPLE_EMAIL_NODES)\n",
    "# remove the (unnecessary) second to last column (it came from an ambiguous parse splits)\n",
    "sample_email_nodes.drop('other,manager,specialist,director,executive', axis=1, inplace=True)\n",
    "resolve_column_type(sample_email_nodes)"
   ]
  },
  {
   "cell_type": "code",
   "execution_count": 10,
   "id": "5d21aaed-5e18-4966-b998-61cb0826ff2f",
   "metadata": {},
   "outputs": [],
   "source": [
    "# Split data into observed and targets (AKA train and test)\n",
    "email_nodes_obs = email_nodes[email_nodes['id'].isin(sample_email_nodes[sample_email_nodes['title'].notna()]['id'])]\n",
    "email_nodes_truth = email_nodes[email_nodes['id'].isin(sample_email_nodes[sample_email_nodes['title'].isna()]['id'])]"
   ]
  },
  {
   "cell_type": "code",
   "execution_count": 11,
   "id": "32b69008-a437-4649-ac72-25d54c74ca22",
   "metadata": {},
   "outputs": [],
   "source": [
    "# Grab the necessary columns\n",
    "email_has_label_obs = email_nodes_obs[['id','title']].copy()\n",
    "email_has_label_truth = email_nodes_truth[['id','title']].copy()\n",
    "\n",
    "# convert titles to integers, so PSL can ground faster\n",
    "email_has_label_obs = email_has_label_obs.replace({'title': title_map})\n",
    "email_has_label_truth = email_has_label_truth.replace({'title': title_map})\n",
    "\n",
    "# add in an existence column\n",
    "email_has_label_obs['exists'] = 1.0\n",
    "email_has_label_truth['exists'] = 1.0\n",
    "\n",
    "# email_has_label_obs"
   ]
  },
  {
   "cell_type": "code",
   "execution_count": 12,
   "id": "f655a04f-b6bb-488e-9003-486424a24869",
   "metadata": {},
   "outputs": [],
   "source": [
    "# Add in the the non existent observations\n",
    "full_set_email_has_label_obs = fill_observed_missing_possibilities(email_has_label_obs, ['id', 'title', 'exists'], list(title_map.values()))\n",
    "full_set_email_has_label_truth = fill_observed_missing_possibilities(email_has_label_truth, ['id', 'title', 'exists'], list(title_map.values()))"
   ]
  },
  {
   "cell_type": "code",
   "execution_count": 13,
   "id": "8f33d9ed-0700-4e2a-adbb-dab78b3a7104",
   "metadata": {},
   "outputs": [],
   "source": [
    "# Outputs splits to file\n",
    "# full_set_email_has_label_obs.to_csv('EmailHasLabel_obs.csv', sep ='\\t', index=False, header=False)\n",
    "# full_set_email_has_label_truth.to_csv('EmailHasLabel_truth.csv', sep ='\\t', index=False, header=False)"
   ]
  },
  {
   "cell_type": "markdown",
   "id": "a6b8581e",
   "metadata": {
    "tags": []
   },
   "source": [
    "# Process the CoRef edges"
   ]
  },
  {
   "cell_type": "markdown",
   "id": "46c8b54f-4ee2-4988-8fc0-a4ed4970bf67",
   "metadata": {
    "tags": []
   },
   "source": [
    "## Get ground truth"
   ]
  },
  {
   "cell_type": "code",
   "execution_count": 14,
   "id": "1d78f98a",
   "metadata": {
    "tags": []
   },
   "outputs": [
    {
     "name": "stdout",
     "output_type": "stream",
     "text": [
      "Header:  UNDIRECTED\tcoref\n",
      "\n",
      "This is not a NODE file, so don't load this row\n"
     ]
    },
    {
     "data": {
      "text/plain": [
       "id            int64\n",
       "email         int64\n",
       "alt_email     int64\n",
       "exists       object\n",
       "dtype: object"
      ]
     },
     "execution_count": 14,
     "metadata": {},
     "output_type": "execute_result"
    }
   ],
   "source": [
    "# need to rename one of the columns due to key collision\n",
    "# use copy for safety\n",
    "\n",
    "!cp $FILE_GROUND_TRUTH_COREF_EDGES .\n",
    "!sed -i 's/email/alt_email/2g' enron.UNDIRECTED.coref.tab\n",
    "\n",
    "coref_edges = load_table('enron.UNDIRECTED.coref.tab')\n",
    "resolve_column_type(coref_edges)\n",
    "\n",
    "coref_edges.dtypes"
   ]
  },
  {
   "cell_type": "code",
   "execution_count": 15,
   "id": "c4cad36a",
   "metadata": {
    "tags": []
   },
   "outputs": [
    {
     "data": {
      "text/html": [
       "<div>\n",
       "<style scoped>\n",
       "    .dataframe tbody tr th:only-of-type {\n",
       "        vertical-align: middle;\n",
       "    }\n",
       "\n",
       "    .dataframe tbody tr th {\n",
       "        vertical-align: top;\n",
       "    }\n",
       "\n",
       "    .dataframe thead th {\n",
       "        text-align: right;\n",
       "    }\n",
       "</style>\n",
       "<table border=\"1\" class=\"dataframe\">\n",
       "  <thead>\n",
       "    <tr style=\"text-align: right;\">\n",
       "      <th></th>\n",
       "      <th>id</th>\n",
       "      <th>email</th>\n",
       "      <th>alt_email</th>\n",
       "      <th>exists</th>\n",
       "    </tr>\n",
       "  </thead>\n",
       "  <tbody>\n",
       "    <tr>\n",
       "      <th>0</th>\n",
       "      <td>2856</td>\n",
       "      <td>265</td>\n",
       "      <td>141</td>\n",
       "      <td>NOTEXIST</td>\n",
       "    </tr>\n",
       "    <tr>\n",
       "      <th>1</th>\n",
       "      <td>18491</td>\n",
       "      <td>310</td>\n",
       "      <td>295</td>\n",
       "      <td>NOTEXIST</td>\n",
       "    </tr>\n",
       "    <tr>\n",
       "      <th>2</th>\n",
       "      <td>516</td>\n",
       "      <td>272</td>\n",
       "      <td>183</td>\n",
       "      <td>NOTEXIST</td>\n",
       "    </tr>\n",
       "    <tr>\n",
       "      <th>3</th>\n",
       "      <td>5131</td>\n",
       "      <td>201</td>\n",
       "      <td>19</td>\n",
       "      <td>NOTEXIST</td>\n",
       "    </tr>\n",
       "    <tr>\n",
       "      <th>4</th>\n",
       "      <td>12417</td>\n",
       "      <td>138</td>\n",
       "      <td>78</td>\n",
       "      <td>NOTEXIST</td>\n",
       "    </tr>\n",
       "    <tr>\n",
       "      <th>...</th>\n",
       "      <td>...</td>\n",
       "      <td>...</td>\n",
       "      <td>...</td>\n",
       "      <td>...</td>\n",
       "    </tr>\n",
       "    <tr>\n",
       "      <th>20776</th>\n",
       "      <td>15003</td>\n",
       "      <td>135</td>\n",
       "      <td>208</td>\n",
       "      <td>NOTEXIST</td>\n",
       "    </tr>\n",
       "    <tr>\n",
       "      <th>20777</th>\n",
       "      <td>4450</td>\n",
       "      <td>197</td>\n",
       "      <td>47</td>\n",
       "      <td>NOTEXIST</td>\n",
       "    </tr>\n",
       "    <tr>\n",
       "      <th>20778</th>\n",
       "      <td>20302</td>\n",
       "      <td>248</td>\n",
       "      <td>25</td>\n",
       "      <td>NOTEXIST</td>\n",
       "    </tr>\n",
       "    <tr>\n",
       "      <th>20779</th>\n",
       "      <td>12985</td>\n",
       "      <td>222</td>\n",
       "      <td>118</td>\n",
       "      <td>NOTEXIST</td>\n",
       "    </tr>\n",
       "    <tr>\n",
       "      <th>20780</th>\n",
       "      <td>19684</td>\n",
       "      <td>248</td>\n",
       "      <td>54</td>\n",
       "      <td>NOTEXIST</td>\n",
       "    </tr>\n",
       "  </tbody>\n",
       "</table>\n",
       "<p>20781 rows × 4 columns</p>\n",
       "</div>"
      ],
      "text/plain": [
       "          id  email  alt_email    exists\n",
       "0       2856    265        141  NOTEXIST\n",
       "1      18491    310        295  NOTEXIST\n",
       "2        516    272        183  NOTEXIST\n",
       "3       5131    201         19  NOTEXIST\n",
       "4      12417    138         78  NOTEXIST\n",
       "...      ...    ...        ...       ...\n",
       "20776  15003    135        208  NOTEXIST\n",
       "20777   4450    197         47  NOTEXIST\n",
       "20778  20302    248         25  NOTEXIST\n",
       "20779  12985    222        118  NOTEXIST\n",
       "20780  19684    248         54  NOTEXIST\n",
       "\n",
       "[20781 rows x 4 columns]"
      ]
     },
     "execution_count": 15,
     "metadata": {},
     "output_type": "execute_result"
    }
   ],
   "source": [
    "coref_edges"
   ]
  },
  {
   "cell_type": "code",
   "execution_count": 16,
   "id": "f72fc11f-0132-44ac-b59f-368e79ccae8a",
   "metadata": {
    "tags": []
   },
   "outputs": [],
   "source": [
    "# Grab necessary columns, in preparation for dumping the whole ground truth data\n",
    "coref_edges_data = coref_edges[['email','alt_email', 'exists']].copy()\n",
    "\n",
    "# convert existence column to boolean, so PSL can ground faster\n",
    "exists_map = {\"NOTEXIST\": 0.0, \"EXIST\": 1.0}\n",
    "coref_edges_data = coref_edges_data.replace({'exists': exists_map})\n",
    "\n",
    "# Since it's undirected, add in the reverse edges.\n",
    "coref_edges_data_sym = coref_edges_data[['alt_email', 'email', 'exists']].copy()\n",
    "coref_edges_data_sym.rename(columns = {'alt_email':'email', 'email':'alt_email'}, inplace = True)\n",
    "\n",
    "coref_edges_data = pd.concat([coref_edges_data, coref_edges_data_sym])\n",
    "\n",
    "# Calculated the missing edges that were blocked.\n",
    "missing_edges = {pair for pair in itertools.permutations(email_nodes['id'], 2)} - {pair for pair in zip(coref_edges_data['email'], coref_edges_data['alt_email'])}\n",
    "\n",
    "# add in the missing edges\n",
    "row_list = []\n",
    "for email, alt_email in missing_edges:\n",
    "    row_dict = {'email':email, 'alt_email':alt_email, 'exists':0 }\n",
    "    row_list.append(row_dict)\n",
    "\n",
    "full_set_coref_edges_data = pd.concat([coref_edges_data, pd.DataFrame(row_list)], ignore_index=True)"
   ]
  },
  {
   "cell_type": "code",
   "execution_count": 17,
   "id": "78b9b44c-038c-4adb-a5d9-80ee9d9b875c",
   "metadata": {},
   "outputs": [],
   "source": [
    "# Outputs to file\n",
    "# full_set_coref_edges_data.to_csv('CoRef_data.csv', sep ='\\t', index=False, header=False, columns=['email', 'alt_email', 'exists'])"
   ]
  },
  {
   "cell_type": "code",
   "execution_count": 18,
   "id": "e1a82ec7",
   "metadata": {},
   "outputs": [],
   "source": [
    "# Sanity Check: These should print pairs of the same people\n",
    "# for index in full_set_coref_edges_data[full_set_coref_edges_data['exists'] == 1.0][['email', 'alt_email']].index:\n",
    "#     email_id  = full_set_coref_edges_data.loc[index]['email'].iloc[0]\n",
    "#     alt_email_id = full_set_coref_edges_data.loc[index]['alt_email'].iloc[0]\n",
    "    \n",
    "#     print(email_nodes[email_nodes['id'] == email_id]['emailaddress'])\n",
    "#     print(email_nodes[email_nodes['id'] == alt_email_id]['emailaddress'])\n",
    "#     print(\"------------------------------------------------\")\n",
    "    "
   ]
  },
  {
   "cell_type": "markdown",
   "id": "8ccf9df6-8805-4575-89fc-d549bb462d12",
   "metadata": {
    "jp-MarkdownHeadingCollapsed": true,
    "tags": []
   },
   "source": [
    "## Calculate splits for PSL predicates"
   ]
  },
  {
   "cell_type": "code",
   "execution_count": 19,
   "id": "89e13159-d275-447c-88a5-6a4631ddb688",
   "metadata": {},
   "outputs": [
    {
     "name": "stdout",
     "output_type": "stream",
     "text": [
      "Header:  UNDIRECTED\tcoref\n",
      "\n",
      "This is not a NODE file, so don't load this row\n"
     ]
    }
   ],
   "source": [
    "# Grab the sample from the original experiment, this will allow us to calculate observations and targets.\n",
    "sample_coref_edges = load_table(FILE_SAMPLE_COREF_EDGES)\n",
    "resolve_column_type(sample_coref_edges)\n"
   ]
  },
  {
   "cell_type": "code",
   "execution_count": 20,
   "id": "a9f4b581-b7fc-4a86-a9ef-1a70a88e86ea",
   "metadata": {},
   "outputs": [],
   "source": [
    "# Split data into observed and targets (AKA train and test)\n",
    "coref_edges_obs = coref_edges[coref_edges['id'].isin(sample_coref_edges[sample_coref_edges['exists'].notna()]['id'])]\n",
    "coref_edges_truth = coref_edges[coref_edges['id'].isin(sample_coref_edges[sample_coref_edges['exists'].isna()]['id'])]"
   ]
  },
  {
   "cell_type": "code",
   "execution_count": 21,
   "id": "43183cbf-d700-4d4e-aa59-9888ff135021",
   "metadata": {},
   "outputs": [],
   "source": [
    "# Grab the necessary columns\n",
    "coref_obs = coref_edges_obs[['email', 'alt_email', 'exists']].copy()\n",
    "coref_truth = coref_edges_truth[['email', 'alt_email', 'exists']].copy()\n",
    "\n",
    "# convert existence column to boolean, so PSL can ground faster\n",
    "coref_obs = coref_obs.replace({'exists': exists_map})\n",
    "coref_truth = coref_truth.replace({'exists': exists_map})\n",
    "\n",
    "# Since it's undirected, add in the reverse edges.\n",
    "coref_obs_sym = coref_obs[['alt_email', 'email', 'exists']].copy()\n",
    "coref_truth_sym = coref_truth[['alt_email', 'email', 'exists']].copy()\n",
    "\n",
    "coref_obs_sym.rename(columns = {'alt_email':'email', 'email':'alt_email'}, inplace = True)\n",
    "coref_truth_sym.rename(columns = {'alt_email':'email', 'email':'alt_email'}, inplace = True)\n",
    "\n",
    "coref_obs = pd.concat([coref_obs, coref_obs_sym], ignore_index=True)\n",
    "coref_truth = pd.concat([coref_truth, coref_truth_sym], ignore_index=True)\n",
    "\n",
    "# Calculated the missing edges that were blocked. Note the last set prevents cross contamination\n",
    "missing_edges = {pair for pair in itertools.permutations(email_nodes['id'], 2)} - {pair for pair in zip(coref_obs['email'], coref_obs['alt_email'])} - {pair for pair in zip(coref_truth['email'], coref_truth['alt_email'])}\n",
    "\n",
    "# add in the missing edges\n",
    "row_list = []\n",
    "for email, alt_email in missing_edges:\n",
    "    row_dict = {'email':email, 'alt_email':alt_email, 'exists':0 }\n",
    "    row_list.append(row_dict)\n",
    "\n",
    "full_set_coref_edges_obs = pd.concat([coref_obs, pd.DataFrame(row_list)], ignore_index=True)"
   ]
  },
  {
   "cell_type": "code",
   "execution_count": 22,
   "id": "8d80264a-a7d7-4ef3-8597-6968b968239c",
   "metadata": {},
   "outputs": [],
   "source": [
    "# Outputs splits to file\n",
    "# full_set_coref_edges_obs.to_csv('CoRef_obs.csv', sep ='\\t', index=False, header=False, columns=['email', 'alt_email', 'exists'])\n",
    "# coref_truth.to_csv('CoRef_truth.csv', sep ='\\t', index=False, header=False, columns=['email', 'alt_email', 'exists'])"
   ]
  },
  {
   "cell_type": "markdown",
   "id": "66d5640e",
   "metadata": {
    "tags": []
   },
   "source": [
    "# Process the Manager edges"
   ]
  },
  {
   "cell_type": "markdown",
   "id": "86749e40-88ec-4689-9f3e-819bbc6539b8",
   "metadata": {
    "jp-MarkdownHeadingCollapsed": true,
    "tags": []
   },
   "source": [
    "## Get ground truth"
   ]
  },
  {
   "cell_type": "code",
   "execution_count": 23,
   "id": "4a2a88af",
   "metadata": {
    "tags": []
   },
   "outputs": [
    {
     "name": "stdout",
     "output_type": "stream",
     "text": [
      "Header:  UNDIRECTED\temail-submgr\n",
      "\n"
     ]
    },
    {
     "data": {
      "text/plain": [
       "id                int64\n",
       "w-gerald        float64\n",
       "w-know          float64\n",
       "w-busi          float64\n",
       "w-mexicana      float64\n",
       "                 ...   \n",
       "w-jarnold       float64\n",
       "numexchanged      int64\n",
       "email             int64\n",
       "other_email       int64\n",
       "exists           object\n",
       "Length: 5118, dtype: object"
      ]
     },
     "execution_count": 23,
     "metadata": {},
     "output_type": "execute_result"
    }
   ],
   "source": [
    "# Load in the observed email-submgr.\n",
    "# need to rename one of the columns due to key collision\n",
    "# use copy for safety\n",
    "!cp $FILE_GROUND_TRUTH_MANAGES_EDGES .\n",
    "!sed -i 's/\\temail/\\tother_email/2g' enron.UNDIRECTED.email-submgr.tab\n",
    "\n",
    "manager_edges = load_table('enron.UNDIRECTED.email-submgr.tab')\n",
    "\n",
    "# FIXME: can probably omit this line\n",
    "manager_edges.drop('NOTEXIST,EXIST', axis=1, inplace=True)\n",
    "\n",
    "resolve_column_type(manager_edges)\n",
    "\n",
    "manager_edges.dtypes"
   ]
  },
  {
   "cell_type": "code",
   "execution_count": 24,
   "id": "7843325f",
   "metadata": {
    "tags": []
   },
   "outputs": [
    {
     "data": {
      "text/html": [
       "<div>\n",
       "<style scoped>\n",
       "    .dataframe tbody tr th:only-of-type {\n",
       "        vertical-align: middle;\n",
       "    }\n",
       "\n",
       "    .dataframe tbody tr th {\n",
       "        vertical-align: top;\n",
       "    }\n",
       "\n",
       "    .dataframe thead th {\n",
       "        text-align: right;\n",
       "    }\n",
       "</style>\n",
       "<table border=\"1\" class=\"dataframe\">\n",
       "  <thead>\n",
       "    <tr style=\"text-align: right;\">\n",
       "      <th></th>\n",
       "      <th>id</th>\n",
       "      <th>w-gerald</th>\n",
       "      <th>w-know</th>\n",
       "      <th>w-busi</th>\n",
       "      <th>w-mexicana</th>\n",
       "      <th>w-transact</th>\n",
       "      <th>w-want</th>\n",
       "      <th>w-thing</th>\n",
       "      <th>w-review</th>\n",
       "      <th>w-questar</th>\n",
       "      <th>...</th>\n",
       "      <th>w-coh</th>\n",
       "      <th>w-agl</th>\n",
       "      <th>w-kinney</th>\n",
       "      <th>w-veselack</th>\n",
       "      <th>w-mwhitt</th>\n",
       "      <th>w-jarnold</th>\n",
       "      <th>numexchanged</th>\n",
       "      <th>email</th>\n",
       "      <th>other_email</th>\n",
       "      <th>exists</th>\n",
       "    </tr>\n",
       "  </thead>\n",
       "  <tbody>\n",
       "    <tr>\n",
       "      <th>0</th>\n",
       "      <td>2693</td>\n",
       "      <td>NaN</td>\n",
       "      <td>1.0</td>\n",
       "      <td>NaN</td>\n",
       "      <td>NaN</td>\n",
       "      <td>1.0</td>\n",
       "      <td>1.0</td>\n",
       "      <td>NaN</td>\n",
       "      <td>1.0</td>\n",
       "      <td>NaN</td>\n",
       "      <td>...</td>\n",
       "      <td>NaN</td>\n",
       "      <td>NaN</td>\n",
       "      <td>NaN</td>\n",
       "      <td>NaN</td>\n",
       "      <td>NaN</td>\n",
       "      <td>NaN</td>\n",
       "      <td>6</td>\n",
       "      <td>286</td>\n",
       "      <td>324</td>\n",
       "      <td>EXIST</td>\n",
       "    </tr>\n",
       "    <tr>\n",
       "      <th>1</th>\n",
       "      <td>2634</td>\n",
       "      <td>NaN</td>\n",
       "      <td>1.0</td>\n",
       "      <td>NaN</td>\n",
       "      <td>NaN</td>\n",
       "      <td>NaN</td>\n",
       "      <td>1.0</td>\n",
       "      <td>NaN</td>\n",
       "      <td>NaN</td>\n",
       "      <td>NaN</td>\n",
       "      <td>...</td>\n",
       "      <td>NaN</td>\n",
       "      <td>NaN</td>\n",
       "      <td>NaN</td>\n",
       "      <td>NaN</td>\n",
       "      <td>NaN</td>\n",
       "      <td>NaN</td>\n",
       "      <td>3</td>\n",
       "      <td>74</td>\n",
       "      <td>37</td>\n",
       "      <td>NOTEXIST</td>\n",
       "    </tr>\n",
       "    <tr>\n",
       "      <th>2</th>\n",
       "      <td>1256</td>\n",
       "      <td>NaN</td>\n",
       "      <td>1.0</td>\n",
       "      <td>1.0</td>\n",
       "      <td>NaN</td>\n",
       "      <td>NaN</td>\n",
       "      <td>1.0</td>\n",
       "      <td>1.0</td>\n",
       "      <td>1.0</td>\n",
       "      <td>NaN</td>\n",
       "      <td>...</td>\n",
       "      <td>NaN</td>\n",
       "      <td>NaN</td>\n",
       "      <td>NaN</td>\n",
       "      <td>NaN</td>\n",
       "      <td>NaN</td>\n",
       "      <td>NaN</td>\n",
       "      <td>14</td>\n",
       "      <td>148</td>\n",
       "      <td>131</td>\n",
       "      <td>NOTEXIST</td>\n",
       "    </tr>\n",
       "    <tr>\n",
       "      <th>3</th>\n",
       "      <td>1406</td>\n",
       "      <td>NaN</td>\n",
       "      <td>NaN</td>\n",
       "      <td>NaN</td>\n",
       "      <td>NaN</td>\n",
       "      <td>1.0</td>\n",
       "      <td>1.0</td>\n",
       "      <td>NaN</td>\n",
       "      <td>NaN</td>\n",
       "      <td>NaN</td>\n",
       "      <td>...</td>\n",
       "      <td>NaN</td>\n",
       "      <td>NaN</td>\n",
       "      <td>NaN</td>\n",
       "      <td>NaN</td>\n",
       "      <td>NaN</td>\n",
       "      <td>NaN</td>\n",
       "      <td>3</td>\n",
       "      <td>57</td>\n",
       "      <td>313</td>\n",
       "      <td>EXIST</td>\n",
       "    </tr>\n",
       "    <tr>\n",
       "      <th>4</th>\n",
       "      <td>3129</td>\n",
       "      <td>NaN</td>\n",
       "      <td>1.0</td>\n",
       "      <td>1.0</td>\n",
       "      <td>NaN</td>\n",
       "      <td>1.0</td>\n",
       "      <td>1.0</td>\n",
       "      <td>1.0</td>\n",
       "      <td>1.0</td>\n",
       "      <td>NaN</td>\n",
       "      <td>...</td>\n",
       "      <td>NaN</td>\n",
       "      <td>NaN</td>\n",
       "      <td>NaN</td>\n",
       "      <td>NaN</td>\n",
       "      <td>NaN</td>\n",
       "      <td>NaN</td>\n",
       "      <td>43</td>\n",
       "      <td>34</td>\n",
       "      <td>236</td>\n",
       "      <td>NOTEXIST</td>\n",
       "    </tr>\n",
       "    <tr>\n",
       "      <th>...</th>\n",
       "      <td>...</td>\n",
       "      <td>...</td>\n",
       "      <td>...</td>\n",
       "      <td>...</td>\n",
       "      <td>...</td>\n",
       "      <td>...</td>\n",
       "      <td>...</td>\n",
       "      <td>...</td>\n",
       "      <td>...</td>\n",
       "      <td>...</td>\n",
       "      <td>...</td>\n",
       "      <td>...</td>\n",
       "      <td>...</td>\n",
       "      <td>...</td>\n",
       "      <td>...</td>\n",
       "      <td>...</td>\n",
       "      <td>...</td>\n",
       "      <td>...</td>\n",
       "      <td>...</td>\n",
       "      <td>...</td>\n",
       "      <td>...</td>\n",
       "    </tr>\n",
       "    <tr>\n",
       "      <th>2046</th>\n",
       "      <td>2105</td>\n",
       "      <td>NaN</td>\n",
       "      <td>1.0</td>\n",
       "      <td>NaN</td>\n",
       "      <td>NaN</td>\n",
       "      <td>1.0</td>\n",
       "      <td>NaN</td>\n",
       "      <td>NaN</td>\n",
       "      <td>1.0</td>\n",
       "      <td>NaN</td>\n",
       "      <td>...</td>\n",
       "      <td>NaN</td>\n",
       "      <td>NaN</td>\n",
       "      <td>NaN</td>\n",
       "      <td>NaN</td>\n",
       "      <td>NaN</td>\n",
       "      <td>NaN</td>\n",
       "      <td>13</td>\n",
       "      <td>67</td>\n",
       "      <td>288</td>\n",
       "      <td>NOTEXIST</td>\n",
       "    </tr>\n",
       "    <tr>\n",
       "      <th>2047</th>\n",
       "      <td>2374</td>\n",
       "      <td>1.0</td>\n",
       "      <td>1.0</td>\n",
       "      <td>NaN</td>\n",
       "      <td>NaN</td>\n",
       "      <td>1.0</td>\n",
       "      <td>1.0</td>\n",
       "      <td>1.0</td>\n",
       "      <td>1.0</td>\n",
       "      <td>NaN</td>\n",
       "      <td>...</td>\n",
       "      <td>NaN</td>\n",
       "      <td>NaN</td>\n",
       "      <td>NaN</td>\n",
       "      <td>NaN</td>\n",
       "      <td>NaN</td>\n",
       "      <td>NaN</td>\n",
       "      <td>237</td>\n",
       "      <td>198</td>\n",
       "      <td>212</td>\n",
       "      <td>NOTEXIST</td>\n",
       "    </tr>\n",
       "    <tr>\n",
       "      <th>2048</th>\n",
       "      <td>3464</td>\n",
       "      <td>NaN</td>\n",
       "      <td>NaN</td>\n",
       "      <td>NaN</td>\n",
       "      <td>NaN</td>\n",
       "      <td>NaN</td>\n",
       "      <td>1.0</td>\n",
       "      <td>1.0</td>\n",
       "      <td>NaN</td>\n",
       "      <td>NaN</td>\n",
       "      <td>...</td>\n",
       "      <td>NaN</td>\n",
       "      <td>NaN</td>\n",
       "      <td>NaN</td>\n",
       "      <td>NaN</td>\n",
       "      <td>NaN</td>\n",
       "      <td>NaN</td>\n",
       "      <td>1</td>\n",
       "      <td>210</td>\n",
       "      <td>160</td>\n",
       "      <td>NOTEXIST</td>\n",
       "    </tr>\n",
       "    <tr>\n",
       "      <th>2049</th>\n",
       "      <td>531</td>\n",
       "      <td>NaN</td>\n",
       "      <td>NaN</td>\n",
       "      <td>NaN</td>\n",
       "      <td>NaN</td>\n",
       "      <td>NaN</td>\n",
       "      <td>1.0</td>\n",
       "      <td>NaN</td>\n",
       "      <td>NaN</td>\n",
       "      <td>NaN</td>\n",
       "      <td>...</td>\n",
       "      <td>NaN</td>\n",
       "      <td>NaN</td>\n",
       "      <td>NaN</td>\n",
       "      <td>NaN</td>\n",
       "      <td>NaN</td>\n",
       "      <td>NaN</td>\n",
       "      <td>9</td>\n",
       "      <td>316</td>\n",
       "      <td>188</td>\n",
       "      <td>NOTEXIST</td>\n",
       "    </tr>\n",
       "    <tr>\n",
       "      <th>2050</th>\n",
       "      <td>2026</td>\n",
       "      <td>NaN</td>\n",
       "      <td>1.0</td>\n",
       "      <td>1.0</td>\n",
       "      <td>NaN</td>\n",
       "      <td>1.0</td>\n",
       "      <td>1.0</td>\n",
       "      <td>1.0</td>\n",
       "      <td>1.0</td>\n",
       "      <td>NaN</td>\n",
       "      <td>...</td>\n",
       "      <td>NaN</td>\n",
       "      <td>NaN</td>\n",
       "      <td>NaN</td>\n",
       "      <td>NaN</td>\n",
       "      <td>NaN</td>\n",
       "      <td>NaN</td>\n",
       "      <td>8</td>\n",
       "      <td>34</td>\n",
       "      <td>273</td>\n",
       "      <td>NOTEXIST</td>\n",
       "    </tr>\n",
       "  </tbody>\n",
       "</table>\n",
       "<p>2051 rows × 5118 columns</p>\n",
       "</div>"
      ],
      "text/plain": [
       "        id  w-gerald  w-know  w-busi  w-mexicana  w-transact  w-want  w-thing  \\\n",
       "0     2693       NaN     1.0     NaN         NaN         1.0     1.0      NaN   \n",
       "1     2634       NaN     1.0     NaN         NaN         NaN     1.0      NaN   \n",
       "2     1256       NaN     1.0     1.0         NaN         NaN     1.0      1.0   \n",
       "3     1406       NaN     NaN     NaN         NaN         1.0     1.0      NaN   \n",
       "4     3129       NaN     1.0     1.0         NaN         1.0     1.0      1.0   \n",
       "...    ...       ...     ...     ...         ...         ...     ...      ...   \n",
       "2046  2105       NaN     1.0     NaN         NaN         1.0     NaN      NaN   \n",
       "2047  2374       1.0     1.0     NaN         NaN         1.0     1.0      1.0   \n",
       "2048  3464       NaN     NaN     NaN         NaN         NaN     1.0      1.0   \n",
       "2049   531       NaN     NaN     NaN         NaN         NaN     1.0      NaN   \n",
       "2050  2026       NaN     1.0     1.0         NaN         1.0     1.0      1.0   \n",
       "\n",
       "      w-review  w-questar  ...  w-coh  w-agl  w-kinney  w-veselack  w-mwhitt  \\\n",
       "0          1.0        NaN  ...    NaN    NaN       NaN         NaN       NaN   \n",
       "1          NaN        NaN  ...    NaN    NaN       NaN         NaN       NaN   \n",
       "2          1.0        NaN  ...    NaN    NaN       NaN         NaN       NaN   \n",
       "3          NaN        NaN  ...    NaN    NaN       NaN         NaN       NaN   \n",
       "4          1.0        NaN  ...    NaN    NaN       NaN         NaN       NaN   \n",
       "...        ...        ...  ...    ...    ...       ...         ...       ...   \n",
       "2046       1.0        NaN  ...    NaN    NaN       NaN         NaN       NaN   \n",
       "2047       1.0        NaN  ...    NaN    NaN       NaN         NaN       NaN   \n",
       "2048       NaN        NaN  ...    NaN    NaN       NaN         NaN       NaN   \n",
       "2049       NaN        NaN  ...    NaN    NaN       NaN         NaN       NaN   \n",
       "2050       1.0        NaN  ...    NaN    NaN       NaN         NaN       NaN   \n",
       "\n",
       "      w-jarnold  numexchanged  email  other_email    exists  \n",
       "0           NaN             6    286          324     EXIST  \n",
       "1           NaN             3     74           37  NOTEXIST  \n",
       "2           NaN            14    148          131  NOTEXIST  \n",
       "3           NaN             3     57          313     EXIST  \n",
       "4           NaN            43     34          236  NOTEXIST  \n",
       "...         ...           ...    ...          ...       ...  \n",
       "2046        NaN            13     67          288  NOTEXIST  \n",
       "2047        NaN           237    198          212  NOTEXIST  \n",
       "2048        NaN             1    210          160  NOTEXIST  \n",
       "2049        NaN             9    316          188  NOTEXIST  \n",
       "2050        NaN             8     34          273  NOTEXIST  \n",
       "\n",
       "[2051 rows x 5118 columns]"
      ]
     },
     "execution_count": 24,
     "metadata": {},
     "output_type": "execute_result"
    }
   ],
   "source": [
    "manager_edges"
   ]
  },
  {
   "cell_type": "code",
   "execution_count": 25,
   "id": "5b6562e1-e3a6-4136-888d-cb2441f07dad",
   "metadata": {
    "tags": []
   },
   "outputs": [],
   "source": [
    "# Grab necessary columns, in preparation for dumping the whole ground truth data\n",
    "manager_edges_data = manager_edges[['email','other_email', 'exists']].copy()\n",
    "\n",
    "# convert existence column to boolean, so PSL can ground faster\n",
    "manager_edges_data = manager_edges_data.replace({'exists': exists_map})\n",
    "\n",
    "# Since it's undirected, add in the reverse edges.\n",
    "manager_edges_data_sym = manager_edges_data[['other_email', 'email', 'exists']].copy()\n",
    "manager_edges_data_sym.rename(columns = {'other_email':'email', 'email':'other_email'}, inplace = True)\n",
    "\n",
    "manager_edges_data = pd.concat([manager_edges_data, manager_edges_data_sym])\n",
    "\n",
    "# Calculated the missing edges that were blocked.\n",
    "missing_edges = {pair for pair in itertools.permutations(email_nodes['id'], 2)} - {pair for pair in zip(manager_edges_data['email'], manager_edges_data['other_email'])}\n",
    "\n",
    "# add in the missing edges\n",
    "row_list = []\n",
    "for email, other_email in missing_edges:\n",
    "    row_dict = {'email':email, 'other_email':other_email, 'exists':0 }\n",
    "    row_list.append(row_dict)\n",
    "\n",
    "full_set_manager_edges_data = pd.concat([manager_edges_data, pd.DataFrame(row_list)], ignore_index=True)\n"
   ]
  },
  {
   "cell_type": "code",
   "execution_count": 26,
   "id": "a317ea38-d577-48b9-831c-3fee59f6599d",
   "metadata": {
    "tags": []
   },
   "outputs": [],
   "source": [
    "# Outputs to file\n",
    "# full_set_manager_edges_data.to_csv('Manages_data.csv', sep ='\\t', index=False, header=False, columns=['email', 'other_email', 'exists'])"
   ]
  },
  {
   "cell_type": "markdown",
   "id": "29e5d542-835f-42f8-9ff4-0f9d5cb3a684",
   "metadata": {
    "tags": []
   },
   "source": [
    "## Calculate splits for PSL predicates "
   ]
  },
  {
   "cell_type": "code",
   "execution_count": 27,
   "id": "81e82ddb-5ef1-4bc8-96bd-a0fc04b8ef72",
   "metadata": {
    "tags": []
   },
   "outputs": [
    {
     "name": "stdout",
     "output_type": "stream",
     "text": [
      "Header:  UNDIRECTED\temail-submgr\n",
      "\n"
     ]
    }
   ],
   "source": [
    "# Grab the sample from the original experiment, this will allow us to calculate observations and targets.\n",
    "sample_manager_edges = load_table(FILE_SAMPLE_MANAGES_EDGES)\n",
    "resolve_column_type(sample_manager_edges)"
   ]
  },
  {
   "cell_type": "code",
   "execution_count": 28,
   "id": "182e8ebc-9975-4531-bdef-8cbcf3b7b9be",
   "metadata": {
    "tags": []
   },
   "outputs": [],
   "source": [
    "# Split data into observed and targets (AKA train and test)\n",
    "manager_edges_obs = manager_edges[manager_edges['id'].isin(sample_manager_edges[sample_manager_edges['exists'].notna()]['id'])]\n",
    "manager_edges_truth = manager_edges[manager_edges['id'].isin(sample_manager_edges[sample_manager_edges['exists'].isna()]['id'])]"
   ]
  },
  {
   "cell_type": "code",
   "execution_count": 29,
   "id": "7dff2da2-19e6-45b3-b252-c21e43634149",
   "metadata": {
    "tags": []
   },
   "outputs": [
    {
     "name": "stdout",
     "output_type": "stream",
     "text": [
      "1642\n",
      "409\n"
     ]
    }
   ],
   "source": [
    "print(len(manager_edges_obs))\n",
    "print(len(manager_edges_truth))"
   ]
  },
  {
   "cell_type": "code",
   "execution_count": 30,
   "id": "6b64120c-1136-45e9-8195-af01d11be92b",
   "metadata": {},
   "outputs": [],
   "source": [
    "# Grab the necessary columns\n",
    "manages_obs = manager_edges_obs[['email', 'other_email', 'exists']].copy()\n",
    "manages_truth = manager_edges_truth[['email', 'other_email', 'exists']].copy()\n",
    "\n",
    "# convert existence column to boolean, so PSL can ground faster\n",
    "manages_obs = manages_obs.replace({'exists': exists_map})\n",
    "manages_truth = manages_truth.replace({'exists': exists_map})\n",
    "\n",
    "# Since it's undirected, add in the reverse edges.\n",
    "manages_obs_sym = manages_obs[['other_email', 'email', 'exists']].copy()\n",
    "manages_truth_sym = manages_truth[['other_email', 'email', 'exists']].copy()\n",
    "\n",
    "manages_obs_sym.rename(columns = {'other_email':'email', 'email':'other_email'}, inplace = True)\n",
    "manages_truth_sym.rename(columns = {'other_email':'email', 'email':'other_email'}, inplace = True)\n",
    "\n",
    "manages_obs = pd.concat([manages_obs, manages_obs_sym])\n",
    "manages_truth = pd.concat([manages_truth, manages_truth_sym])\n",
    "\n",
    "# Calculated the missing edges that were blocked. Note the last set prevents cross contamination\n",
    "missing_edges = {pair for pair in itertools.permutations(email_nodes['id'], 2)} - {pair for pair in zip(manages_obs['email'], manages_obs['other_email'])} - {pair for pair in zip(manages_truth['email'], manages_truth['other_email'])}\n",
    "\n",
    "# add in the missing edges\n",
    "row_list = []\n",
    "for email, other_email in missing_edges:\n",
    "    row_dict = {'email':email, 'other_email':other_email, 'exists':0 }\n",
    "    row_list.append(row_dict)\n",
    "\n",
    "full_set_manages_obs = pd.concat([manages_obs, pd.DataFrame(row_list)], ignore_index=True)"
   ]
  },
  {
   "cell_type": "code",
   "execution_count": 31,
   "id": "644930fb-35b8-4332-8de9-522cc549b184",
   "metadata": {},
   "outputs": [],
   "source": [
    "# full_set_manages_obs.to_csv('Manages_obs.csv', sep ='\\t', index=False, header=False, columns=['email', 'other_email', 'exists'])\n",
    "# manages_truth.to_csv('Manages_truth.csv', sep ='\\t', index=False, header=False, columns=['email', 'other_email', 'exists'])"
   ]
  },
  {
   "cell_type": "markdown",
   "id": "a1cfb500-d84b-438a-90be-2b756b8f3ac0",
   "metadata": {
    "tags": []
   },
   "source": [
    "# Train a local classifier/model"
   ]
  },
  {
   "cell_type": "code",
   "execution_count": 32,
   "id": "19deb381-edd3-4fb1-a637-52f5e80c37f9",
   "metadata": {
    "tags": []
   },
   "outputs": [],
   "source": [
    "from sklearn import svm\n",
    "from sklearn.linear_model import LogisticRegression\n",
    "from sklearn.metrics import recall_score\n",
    "from sklearn.metrics import f1_score"
   ]
  },
  {
   "cell_type": "markdown",
   "id": "97162ad9-f8b0-4130-92a7-839736c0a8b7",
   "metadata": {
    "tags": []
   },
   "source": [
    "## Node Labeling"
   ]
  },
  {
   "cell_type": "code",
   "execution_count": 33,
   "id": "af3af3d1-d9d5-4286-90b2-885c0c3e694f",
   "metadata": {},
   "outputs": [
    {
     "data": {
      "text/html": [
       "<div>\n",
       "<style scoped>\n",
       "    .dataframe tbody tr th:only-of-type {\n",
       "        vertical-align: middle;\n",
       "    }\n",
       "\n",
       "    .dataframe tbody tr th {\n",
       "        vertical-align: top;\n",
       "    }\n",
       "\n",
       "    .dataframe thead th {\n",
       "        text-align: right;\n",
       "    }\n",
       "</style>\n",
       "<table border=\"1\" class=\"dataframe\">\n",
       "  <thead>\n",
       "    <tr style=\"text-align: right;\">\n",
       "      <th></th>\n",
       "      <th>id</th>\n",
       "      <th>emailaddress</th>\n",
       "      <th>numsent</th>\n",
       "      <th>numreceived</th>\n",
       "      <th>numexchanged</th>\n",
       "      <th>w-gerald</th>\n",
       "      <th>w-know</th>\n",
       "      <th>w-busi</th>\n",
       "      <th>w-mexicana</th>\n",
       "      <th>w-transact</th>\n",
       "      <th>...</th>\n",
       "      <th>w-bartlo</th>\n",
       "      <th>w-columbiagassubject</th>\n",
       "      <th>w-perron</th>\n",
       "      <th>w-coh</th>\n",
       "      <th>w-agl</th>\n",
       "      <th>w-kinney</th>\n",
       "      <th>w-veselack</th>\n",
       "      <th>w-mwhitt</th>\n",
       "      <th>w-jarnold</th>\n",
       "      <th>title</th>\n",
       "    </tr>\n",
       "  </thead>\n",
       "  <tbody>\n",
       "    <tr>\n",
       "      <th>0</th>\n",
       "      <td>283</td>\n",
       "      <td>c..koehler@enron.com</td>\n",
       "      <td>128</td>\n",
       "      <td>606</td>\n",
       "      <td>734</td>\n",
       "      <td>1.0</td>\n",
       "      <td>1.0</td>\n",
       "      <td>1.0</td>\n",
       "      <td>NaN</td>\n",
       "      <td>1.0</td>\n",
       "      <td>...</td>\n",
       "      <td>NaN</td>\n",
       "      <td>NaN</td>\n",
       "      <td>NaN</td>\n",
       "      <td>NaN</td>\n",
       "      <td>NaN</td>\n",
       "      <td>NaN</td>\n",
       "      <td>NaN</td>\n",
       "      <td>NaN</td>\n",
       "      <td>NaN</td>\n",
       "      <td>director</td>\n",
       "    </tr>\n",
       "    <tr>\n",
       "      <th>1</th>\n",
       "      <td>98</td>\n",
       "      <td>scott.goodell@enron.com</td>\n",
       "      <td>98</td>\n",
       "      <td>607</td>\n",
       "      <td>705</td>\n",
       "      <td>1.0</td>\n",
       "      <td>1.0</td>\n",
       "      <td>1.0</td>\n",
       "      <td>NaN</td>\n",
       "      <td>1.0</td>\n",
       "      <td>...</td>\n",
       "      <td>1.0</td>\n",
       "      <td>1.0</td>\n",
       "      <td>1.0</td>\n",
       "      <td>1.0</td>\n",
       "      <td>1.0</td>\n",
       "      <td>1.0</td>\n",
       "      <td>1.0</td>\n",
       "      <td>NaN</td>\n",
       "      <td>NaN</td>\n",
       "      <td>specialist</td>\n",
       "    </tr>\n",
       "    <tr>\n",
       "      <th>2</th>\n",
       "      <td>183</td>\n",
       "      <td>p..south@enron.com</td>\n",
       "      <td>8</td>\n",
       "      <td>351</td>\n",
       "      <td>359</td>\n",
       "      <td>1.0</td>\n",
       "      <td>1.0</td>\n",
       "      <td>1.0</td>\n",
       "      <td>NaN</td>\n",
       "      <td>NaN</td>\n",
       "      <td>...</td>\n",
       "      <td>NaN</td>\n",
       "      <td>NaN</td>\n",
       "      <td>NaN</td>\n",
       "      <td>NaN</td>\n",
       "      <td>NaN</td>\n",
       "      <td>NaN</td>\n",
       "      <td>NaN</td>\n",
       "      <td>NaN</td>\n",
       "      <td>NaN</td>\n",
       "      <td>director</td>\n",
       "    </tr>\n",
       "    <tr>\n",
       "      <th>3</th>\n",
       "      <td>204</td>\n",
       "      <td>lavorato@enron.com</td>\n",
       "      <td>388</td>\n",
       "      <td>3</td>\n",
       "      <td>391</td>\n",
       "      <td>NaN</td>\n",
       "      <td>1.0</td>\n",
       "      <td>1.0</td>\n",
       "      <td>NaN</td>\n",
       "      <td>1.0</td>\n",
       "      <td>...</td>\n",
       "      <td>NaN</td>\n",
       "      <td>NaN</td>\n",
       "      <td>NaN</td>\n",
       "      <td>NaN</td>\n",
       "      <td>NaN</td>\n",
       "      <td>NaN</td>\n",
       "      <td>NaN</td>\n",
       "      <td>NaN</td>\n",
       "      <td>NaN</td>\n",
       "      <td>executive</td>\n",
       "    </tr>\n",
       "    <tr>\n",
       "      <th>4</th>\n",
       "      <td>318</td>\n",
       "      <td>mike.grigsby@enron.com</td>\n",
       "      <td>3702</td>\n",
       "      <td>490</td>\n",
       "      <td>4192</td>\n",
       "      <td>1.0</td>\n",
       "      <td>1.0</td>\n",
       "      <td>1.0</td>\n",
       "      <td>1.0</td>\n",
       "      <td>1.0</td>\n",
       "      <td>...</td>\n",
       "      <td>NaN</td>\n",
       "      <td>NaN</td>\n",
       "      <td>NaN</td>\n",
       "      <td>NaN</td>\n",
       "      <td>NaN</td>\n",
       "      <td>NaN</td>\n",
       "      <td>NaN</td>\n",
       "      <td>NaN</td>\n",
       "      <td>NaN</td>\n",
       "      <td>executive</td>\n",
       "    </tr>\n",
       "    <tr>\n",
       "      <th>...</th>\n",
       "      <td>...</td>\n",
       "      <td>...</td>\n",
       "      <td>...</td>\n",
       "      <td>...</td>\n",
       "      <td>...</td>\n",
       "      <td>...</td>\n",
       "      <td>...</td>\n",
       "      <td>...</td>\n",
       "      <td>...</td>\n",
       "      <td>...</td>\n",
       "      <td>...</td>\n",
       "      <td>...</td>\n",
       "      <td>...</td>\n",
       "      <td>...</td>\n",
       "      <td>...</td>\n",
       "      <td>...</td>\n",
       "      <td>...</td>\n",
       "      <td>...</td>\n",
       "      <td>...</td>\n",
       "      <td>...</td>\n",
       "      <td>...</td>\n",
       "    </tr>\n",
       "    <tr>\n",
       "      <th>205</th>\n",
       "      <td>310</td>\n",
       "      <td>jay.reitmeyer@enron.com</td>\n",
       "      <td>55</td>\n",
       "      <td>529</td>\n",
       "      <td>584</td>\n",
       "      <td>1.0</td>\n",
       "      <td>1.0</td>\n",
       "      <td>1.0</td>\n",
       "      <td>NaN</td>\n",
       "      <td>1.0</td>\n",
       "      <td>...</td>\n",
       "      <td>NaN</td>\n",
       "      <td>NaN</td>\n",
       "      <td>NaN</td>\n",
       "      <td>NaN</td>\n",
       "      <td>NaN</td>\n",
       "      <td>NaN</td>\n",
       "      <td>NaN</td>\n",
       "      <td>1.0</td>\n",
       "      <td>NaN</td>\n",
       "      <td>other</td>\n",
       "    </tr>\n",
       "    <tr>\n",
       "      <th>206</th>\n",
       "      <td>114</td>\n",
       "      <td>vkamins@enron.com</td>\n",
       "      <td>0</td>\n",
       "      <td>12</td>\n",
       "      <td>12</td>\n",
       "      <td>NaN</td>\n",
       "      <td>1.0</td>\n",
       "      <td>1.0</td>\n",
       "      <td>NaN</td>\n",
       "      <td>1.0</td>\n",
       "      <td>...</td>\n",
       "      <td>NaN</td>\n",
       "      <td>NaN</td>\n",
       "      <td>NaN</td>\n",
       "      <td>NaN</td>\n",
       "      <td>NaN</td>\n",
       "      <td>NaN</td>\n",
       "      <td>NaN</td>\n",
       "      <td>NaN</td>\n",
       "      <td>NaN</td>\n",
       "      <td>director</td>\n",
       "    </tr>\n",
       "    <tr>\n",
       "      <th>207</th>\n",
       "      <td>270</td>\n",
       "      <td>david.duran@enron.com</td>\n",
       "      <td>7</td>\n",
       "      <td>145</td>\n",
       "      <td>152</td>\n",
       "      <td>NaN</td>\n",
       "      <td>1.0</td>\n",
       "      <td>1.0</td>\n",
       "      <td>NaN</td>\n",
       "      <td>1.0</td>\n",
       "      <td>...</td>\n",
       "      <td>NaN</td>\n",
       "      <td>NaN</td>\n",
       "      <td>NaN</td>\n",
       "      <td>NaN</td>\n",
       "      <td>NaN</td>\n",
       "      <td>NaN</td>\n",
       "      <td>NaN</td>\n",
       "      <td>NaN</td>\n",
       "      <td>NaN</td>\n",
       "      <td>director</td>\n",
       "    </tr>\n",
       "    <tr>\n",
       "      <th>208</th>\n",
       "      <td>282</td>\n",
       "      <td>sean.crandall@enron.com</td>\n",
       "      <td>94</td>\n",
       "      <td>138</td>\n",
       "      <td>232</td>\n",
       "      <td>NaN</td>\n",
       "      <td>1.0</td>\n",
       "      <td>1.0</td>\n",
       "      <td>NaN</td>\n",
       "      <td>1.0</td>\n",
       "      <td>...</td>\n",
       "      <td>NaN</td>\n",
       "      <td>NaN</td>\n",
       "      <td>NaN</td>\n",
       "      <td>NaN</td>\n",
       "      <td>NaN</td>\n",
       "      <td>NaN</td>\n",
       "      <td>NaN</td>\n",
       "      <td>NaN</td>\n",
       "      <td>NaN</td>\n",
       "      <td>director</td>\n",
       "    </tr>\n",
       "    <tr>\n",
       "      <th>209</th>\n",
       "      <td>243</td>\n",
       "      <td>kevin.presto@enron.com</td>\n",
       "      <td>248</td>\n",
       "      <td>198</td>\n",
       "      <td>446</td>\n",
       "      <td>1.0</td>\n",
       "      <td>1.0</td>\n",
       "      <td>1.0</td>\n",
       "      <td>NaN</td>\n",
       "      <td>1.0</td>\n",
       "      <td>...</td>\n",
       "      <td>NaN</td>\n",
       "      <td>NaN</td>\n",
       "      <td>NaN</td>\n",
       "      <td>NaN</td>\n",
       "      <td>NaN</td>\n",
       "      <td>NaN</td>\n",
       "      <td>NaN</td>\n",
       "      <td>NaN</td>\n",
       "      <td>NaN</td>\n",
       "      <td>executive</td>\n",
       "    </tr>\n",
       "  </tbody>\n",
       "</table>\n",
       "<p>171 rows × 5119 columns</p>\n",
       "</div>"
      ],
      "text/plain": [
       "      id             emailaddress  numsent  numreceived  numexchanged  \\\n",
       "0    283     c..koehler@enron.com      128          606           734   \n",
       "1     98  scott.goodell@enron.com       98          607           705   \n",
       "2    183       p..south@enron.com        8          351           359   \n",
       "3    204       lavorato@enron.com      388            3           391   \n",
       "4    318   mike.grigsby@enron.com     3702          490          4192   \n",
       "..   ...                      ...      ...          ...           ...   \n",
       "205  310  jay.reitmeyer@enron.com       55          529           584   \n",
       "206  114        vkamins@enron.com        0           12            12   \n",
       "207  270    david.duran@enron.com        7          145           152   \n",
       "208  282  sean.crandall@enron.com       94          138           232   \n",
       "209  243   kevin.presto@enron.com      248          198           446   \n",
       "\n",
       "     w-gerald  w-know  w-busi  w-mexicana  w-transact  ...  w-bartlo  \\\n",
       "0         1.0     1.0     1.0         NaN         1.0  ...       NaN   \n",
       "1         1.0     1.0     1.0         NaN         1.0  ...       1.0   \n",
       "2         1.0     1.0     1.0         NaN         NaN  ...       NaN   \n",
       "3         NaN     1.0     1.0         NaN         1.0  ...       NaN   \n",
       "4         1.0     1.0     1.0         1.0         1.0  ...       NaN   \n",
       "..        ...     ...     ...         ...         ...  ...       ...   \n",
       "205       1.0     1.0     1.0         NaN         1.0  ...       NaN   \n",
       "206       NaN     1.0     1.0         NaN         1.0  ...       NaN   \n",
       "207       NaN     1.0     1.0         NaN         1.0  ...       NaN   \n",
       "208       NaN     1.0     1.0         NaN         1.0  ...       NaN   \n",
       "209       1.0     1.0     1.0         NaN         1.0  ...       NaN   \n",
       "\n",
       "     w-columbiagassubject  w-perron  w-coh  w-agl  w-kinney  w-veselack  \\\n",
       "0                     NaN       NaN    NaN    NaN       NaN         NaN   \n",
       "1                     1.0       1.0    1.0    1.0       1.0         1.0   \n",
       "2                     NaN       NaN    NaN    NaN       NaN         NaN   \n",
       "3                     NaN       NaN    NaN    NaN       NaN         NaN   \n",
       "4                     NaN       NaN    NaN    NaN       NaN         NaN   \n",
       "..                    ...       ...    ...    ...       ...         ...   \n",
       "205                   NaN       NaN    NaN    NaN       NaN         NaN   \n",
       "206                   NaN       NaN    NaN    NaN       NaN         NaN   \n",
       "207                   NaN       NaN    NaN    NaN       NaN         NaN   \n",
       "208                   NaN       NaN    NaN    NaN       NaN         NaN   \n",
       "209                   NaN       NaN    NaN    NaN       NaN         NaN   \n",
       "\n",
       "     w-mwhitt  w-jarnold       title  \n",
       "0         NaN        NaN    director  \n",
       "1         NaN        NaN  specialist  \n",
       "2         NaN        NaN    director  \n",
       "3         NaN        NaN   executive  \n",
       "4         NaN        NaN   executive  \n",
       "..        ...        ...         ...  \n",
       "205       1.0        NaN       other  \n",
       "206       NaN        NaN    director  \n",
       "207       NaN        NaN    director  \n",
       "208       NaN        NaN    director  \n",
       "209       NaN        NaN   executive  \n",
       "\n",
       "[171 rows x 5119 columns]"
      ]
     },
     "execution_count": 33,
     "metadata": {},
     "output_type": "execute_result"
    }
   ],
   "source": [
    "email_nodes_obs"
   ]
  },
  {
   "cell_type": "code",
   "execution_count": 34,
   "id": "f4ee8c31-5a59-47e3-ade1-a0171371504e",
   "metadata": {},
   "outputs": [],
   "source": [
    "train_x = email_nodes_obs.drop(['id', 'emailaddress', 'title', 'numsent', 'numreceived', 'numexchanged'], axis = 1).fillna(0)\n",
    "train_y = email_nodes_obs['title']\n",
    "\n",
    "test_x = email_nodes_truth.drop(['id', 'emailaddress', 'title', 'numsent', 'numreceived', 'numexchanged'], axis = 1).fillna(0)\n",
    "test_y = email_nodes_truth['title']"
   ]
  },
  {
   "cell_type": "code",
   "execution_count": 35,
   "id": "9eb29f6f-a33d-4f86-beaf-4e13092a473f",
   "metadata": {},
   "outputs": [
    {
     "data": {
      "text/html": [
       "<style>#sk-container-id-1 {color: black;background-color: white;}#sk-container-id-1 pre{padding: 0;}#sk-container-id-1 div.sk-toggleable {background-color: white;}#sk-container-id-1 label.sk-toggleable__label {cursor: pointer;display: block;width: 100%;margin-bottom: 0;padding: 0.3em;box-sizing: border-box;text-align: center;}#sk-container-id-1 label.sk-toggleable__label-arrow:before {content: \"▸\";float: left;margin-right: 0.25em;color: #696969;}#sk-container-id-1 label.sk-toggleable__label-arrow:hover:before {color: black;}#sk-container-id-1 div.sk-estimator:hover label.sk-toggleable__label-arrow:before {color: black;}#sk-container-id-1 div.sk-toggleable__content {max-height: 0;max-width: 0;overflow: hidden;text-align: left;background-color: #f0f8ff;}#sk-container-id-1 div.sk-toggleable__content pre {margin: 0.2em;color: black;border-radius: 0.25em;background-color: #f0f8ff;}#sk-container-id-1 input.sk-toggleable__control:checked~div.sk-toggleable__content {max-height: 200px;max-width: 100%;overflow: auto;}#sk-container-id-1 input.sk-toggleable__control:checked~label.sk-toggleable__label-arrow:before {content: \"▾\";}#sk-container-id-1 div.sk-estimator input.sk-toggleable__control:checked~label.sk-toggleable__label {background-color: #d4ebff;}#sk-container-id-1 div.sk-label input.sk-toggleable__control:checked~label.sk-toggleable__label {background-color: #d4ebff;}#sk-container-id-1 input.sk-hidden--visually {border: 0;clip: rect(1px 1px 1px 1px);clip: rect(1px, 1px, 1px, 1px);height: 1px;margin: -1px;overflow: hidden;padding: 0;position: absolute;width: 1px;}#sk-container-id-1 div.sk-estimator {font-family: monospace;background-color: #f0f8ff;border: 1px dotted black;border-radius: 0.25em;box-sizing: border-box;margin-bottom: 0.5em;}#sk-container-id-1 div.sk-estimator:hover {background-color: #d4ebff;}#sk-container-id-1 div.sk-parallel-item::after {content: \"\";width: 100%;border-bottom: 1px solid gray;flex-grow: 1;}#sk-container-id-1 div.sk-label:hover label.sk-toggleable__label {background-color: #d4ebff;}#sk-container-id-1 div.sk-serial::before {content: \"\";position: absolute;border-left: 1px solid gray;box-sizing: border-box;top: 0;bottom: 0;left: 50%;z-index: 0;}#sk-container-id-1 div.sk-serial {display: flex;flex-direction: column;align-items: center;background-color: white;padding-right: 0.2em;padding-left: 0.2em;position: relative;}#sk-container-id-1 div.sk-item {position: relative;z-index: 1;}#sk-container-id-1 div.sk-parallel {display: flex;align-items: stretch;justify-content: center;background-color: white;position: relative;}#sk-container-id-1 div.sk-item::before, #sk-container-id-1 div.sk-parallel-item::before {content: \"\";position: absolute;border-left: 1px solid gray;box-sizing: border-box;top: 0;bottom: 0;left: 50%;z-index: -1;}#sk-container-id-1 div.sk-parallel-item {display: flex;flex-direction: column;z-index: 1;position: relative;background-color: white;}#sk-container-id-1 div.sk-parallel-item:first-child::after {align-self: flex-end;width: 50%;}#sk-container-id-1 div.sk-parallel-item:last-child::after {align-self: flex-start;width: 50%;}#sk-container-id-1 div.sk-parallel-item:only-child::after {width: 0;}#sk-container-id-1 div.sk-dashed-wrapped {border: 1px dashed gray;margin: 0 0.4em 0.5em 0.4em;box-sizing: border-box;padding-bottom: 0.4em;background-color: white;}#sk-container-id-1 div.sk-label label {font-family: monospace;font-weight: bold;display: inline-block;line-height: 1.2em;}#sk-container-id-1 div.sk-label-container {text-align: center;}#sk-container-id-1 div.sk-container {/* jupyter's `normalize.less` sets `[hidden] { display: none; }` but bootstrap.min.css set `[hidden] { display: none !important; }` so we also need the `!important` here to be able to override the default hidden behavior on the sphinx rendered scikit-learn.org. See: https://github.com/scikit-learn/scikit-learn/issues/21755 */display: inline-block !important;position: relative;}#sk-container-id-1 div.sk-text-repr-fallback {display: none;}</style><div id=\"sk-container-id-1\" class=\"sk-top-container\"><div class=\"sk-text-repr-fallback\"><pre>LogisticRegression(max_iter=300)</pre><b>In a Jupyter environment, please rerun this cell to show the HTML representation or trust the notebook. <br />On GitHub, the HTML representation is unable to render, please try loading this page with nbviewer.org.</b></div><div class=\"sk-container\" hidden><div class=\"sk-item\"><div class=\"sk-estimator sk-toggleable\"><input class=\"sk-toggleable__control sk-hidden--visually\" id=\"sk-estimator-id-1\" type=\"checkbox\" checked><label for=\"sk-estimator-id-1\" class=\"sk-toggleable__label sk-toggleable__label-arrow\">LogisticRegression</label><div class=\"sk-toggleable__content\"><pre>LogisticRegression(max_iter=300)</pre></div></div></div></div></div>"
      ],
      "text/plain": [
       "LogisticRegression(max_iter=300)"
      ]
     },
     "execution_count": 35,
     "metadata": {},
     "output_type": "execute_result"
    }
   ],
   "source": [
    "# classifier = svm.LinearSVC()\n",
    "classifier = LogisticRegression(max_iter=300)\n",
    "classifier.fit(train_x, train_y)"
   ]
  },
  {
   "cell_type": "code",
   "execution_count": 36,
   "id": "bfafc5b6-275d-4a61-a7ad-086fa3c268ef",
   "metadata": {},
   "outputs": [],
   "source": [
    "predictions = classifier.predict(test_x)"
   ]
  },
  {
   "cell_type": "code",
   "execution_count": 37,
   "id": "39cde8e9-95ae-43d9-8c4d-b1db8dafd0ef",
   "metadata": {},
   "outputs": [
    {
     "data": {
      "text/plain": [
       "0.45"
      ]
     },
     "execution_count": 37,
     "metadata": {},
     "output_type": "execute_result"
    }
   ],
   "source": [
    "classifier.score(test_x, test_y)"
   ]
  },
  {
   "cell_type": "code",
   "execution_count": 38,
   "id": "c32f6f75-da1b-491a-8f7f-feb5566eec28",
   "metadata": {},
   "outputs": [
    {
     "data": {
      "text/plain": [
       "array(['director', 'director', 'director', 'director', 'specialist',\n",
       "       'executive', 'director', 'specialist', 'director', 'manager',\n",
       "       'director', 'specialist', 'other', 'manager', 'specialist',\n",
       "       'director', 'director', 'director', 'manager', 'director',\n",
       "       'director', 'specialist', 'specialist', 'director', 'specialist',\n",
       "       'director', 'executive', 'specialist', 'executive', 'director',\n",
       "       'other', 'executive', 'director', 'executive', 'executive',\n",
       "       'executive', 'manager', 'specialist', 'director', 'director'],\n",
       "      dtype=object)"
      ]
     },
     "execution_count": 38,
     "metadata": {},
     "output_type": "execute_result"
    }
   ],
   "source": [
    "predictions"
   ]
  },
  {
   "cell_type": "code",
   "execution_count": 39,
   "id": "01e5c3d9-8db3-4118-a70a-444f8086b659",
   "metadata": {},
   "outputs": [
    {
     "data": {
      "text/plain": [
       "array(['director', 'executive', 'manager', 'other', 'specialist'],\n",
       "      dtype=object)"
      ]
     },
     "execution_count": 39,
     "metadata": {},
     "output_type": "execute_result"
    }
   ],
   "source": [
    "# title_map = {\"other\": 0, \"manager\": 1, \"specialist\": 2, \"director\": 3, \"executive\": 4}\n",
    "\n",
    "classifier.classes_"
   ]
  },
  {
   "cell_type": "markdown",
   "id": "629f47db-c363-4b39-abba-ee95f2718588",
   "metadata": {
    "tags": []
   },
   "source": [
    "### Use probabilities for PSL observed data."
   ]
  },
  {
   "cell_type": "code",
   "execution_count": 40,
   "id": "e2d2e4ec-389c-4165-9ae3-2c38a6b783b2",
   "metadata": {},
   "outputs": [],
   "source": [
    "local_EmailHasTitle_probabilities = classifier.predict_proba(test_x)"
   ]
  },
  {
   "cell_type": "code",
   "execution_count": 41,
   "id": "d908e94d-9dc2-44a2-994f-8c69d67457cb",
   "metadata": {},
   "outputs": [],
   "source": [
    "local_EmailHasTitle_obs = pd.DataFrame()\n",
    "row_list = []\n",
    "# build a table\n",
    "for index, probabilities in enumerate(local_EmailHasTitle_probabilities):\n",
    "    for class_index, probability in enumerate(probabilities):\n",
    "        row_dict = {'id': email_nodes_truth.iloc[index]['id'], 'title': title_map[classifier.classes_[class_index]], 'exists': probability}\n",
    "        row_list.append(row_dict)\n",
    "        #print(email_nodes_truth.iloc[index]['id'], \"\\t\", title_map[classifier.classes_[class_index]], \"\\t\", probability)\n",
    "\n",
    "local_EmailHasTitle_obs = pd.concat([local_EmailHasTitle_obs, pd.DataFrame(row_list)], ignore_index=True)"
   ]
  },
  {
   "cell_type": "code",
   "execution_count": 42,
   "id": "4cd751dd-373e-4cc1-a6fd-a94b920c1928",
   "metadata": {},
   "outputs": [],
   "source": [
    "# local_EmailHasTitle_obs.to_csv('Local_EmailHasLabel_obs.csv', sep ='\\t', index=False, header=False, columns=['id', 'title', 'exists'])"
   ]
  },
  {
   "cell_type": "markdown",
   "id": "6ce84efb-d998-4a59-ae6b-66173af05b74",
   "metadata": {
    "jp-MarkdownHeadingCollapsed": true,
    "tags": []
   },
   "source": [
    "## Link Prediction"
   ]
  },
  {
   "cell_type": "code",
   "execution_count": 43,
   "id": "62b39144-e3bf-4ea8-92ca-44bba23765ea",
   "metadata": {},
   "outputs": [
    {
     "data": {
      "text/html": [
       "<div>\n",
       "<style scoped>\n",
       "    .dataframe tbody tr th:only-of-type {\n",
       "        vertical-align: middle;\n",
       "    }\n",
       "\n",
       "    .dataframe tbody tr th {\n",
       "        vertical-align: top;\n",
       "    }\n",
       "\n",
       "    .dataframe thead th {\n",
       "        text-align: right;\n",
       "    }\n",
       "</style>\n",
       "<table border=\"1\" class=\"dataframe\">\n",
       "  <thead>\n",
       "    <tr style=\"text-align: right;\">\n",
       "      <th></th>\n",
       "      <th>id</th>\n",
       "      <th>w-gerald</th>\n",
       "      <th>w-know</th>\n",
       "      <th>w-busi</th>\n",
       "      <th>w-mexicana</th>\n",
       "      <th>w-transact</th>\n",
       "      <th>w-want</th>\n",
       "      <th>w-thing</th>\n",
       "      <th>w-review</th>\n",
       "      <th>w-questar</th>\n",
       "      <th>...</th>\n",
       "      <th>w-coh</th>\n",
       "      <th>w-agl</th>\n",
       "      <th>w-kinney</th>\n",
       "      <th>w-veselack</th>\n",
       "      <th>w-mwhitt</th>\n",
       "      <th>w-jarnold</th>\n",
       "      <th>numexchanged</th>\n",
       "      <th>email</th>\n",
       "      <th>other_email</th>\n",
       "      <th>exists</th>\n",
       "    </tr>\n",
       "  </thead>\n",
       "  <tbody>\n",
       "    <tr>\n",
       "      <th>0</th>\n",
       "      <td>2693</td>\n",
       "      <td>NaN</td>\n",
       "      <td>1.0</td>\n",
       "      <td>NaN</td>\n",
       "      <td>NaN</td>\n",
       "      <td>1.0</td>\n",
       "      <td>1.0</td>\n",
       "      <td>NaN</td>\n",
       "      <td>1.0</td>\n",
       "      <td>NaN</td>\n",
       "      <td>...</td>\n",
       "      <td>NaN</td>\n",
       "      <td>NaN</td>\n",
       "      <td>NaN</td>\n",
       "      <td>NaN</td>\n",
       "      <td>NaN</td>\n",
       "      <td>NaN</td>\n",
       "      <td>6</td>\n",
       "      <td>286</td>\n",
       "      <td>324</td>\n",
       "      <td>EXIST</td>\n",
       "    </tr>\n",
       "    <tr>\n",
       "      <th>1</th>\n",
       "      <td>2634</td>\n",
       "      <td>NaN</td>\n",
       "      <td>1.0</td>\n",
       "      <td>NaN</td>\n",
       "      <td>NaN</td>\n",
       "      <td>NaN</td>\n",
       "      <td>1.0</td>\n",
       "      <td>NaN</td>\n",
       "      <td>NaN</td>\n",
       "      <td>NaN</td>\n",
       "      <td>...</td>\n",
       "      <td>NaN</td>\n",
       "      <td>NaN</td>\n",
       "      <td>NaN</td>\n",
       "      <td>NaN</td>\n",
       "      <td>NaN</td>\n",
       "      <td>NaN</td>\n",
       "      <td>3</td>\n",
       "      <td>74</td>\n",
       "      <td>37</td>\n",
       "      <td>NOTEXIST</td>\n",
       "    </tr>\n",
       "    <tr>\n",
       "      <th>4</th>\n",
       "      <td>3129</td>\n",
       "      <td>NaN</td>\n",
       "      <td>1.0</td>\n",
       "      <td>1.0</td>\n",
       "      <td>NaN</td>\n",
       "      <td>1.0</td>\n",
       "      <td>1.0</td>\n",
       "      <td>1.0</td>\n",
       "      <td>1.0</td>\n",
       "      <td>NaN</td>\n",
       "      <td>...</td>\n",
       "      <td>NaN</td>\n",
       "      <td>NaN</td>\n",
       "      <td>NaN</td>\n",
       "      <td>NaN</td>\n",
       "      <td>NaN</td>\n",
       "      <td>NaN</td>\n",
       "      <td>43</td>\n",
       "      <td>34</td>\n",
       "      <td>236</td>\n",
       "      <td>NOTEXIST</td>\n",
       "    </tr>\n",
       "    <tr>\n",
       "      <th>5</th>\n",
       "      <td>1344</td>\n",
       "      <td>NaN</td>\n",
       "      <td>1.0</td>\n",
       "      <td>1.0</td>\n",
       "      <td>NaN</td>\n",
       "      <td>NaN</td>\n",
       "      <td>1.0</td>\n",
       "      <td>1.0</td>\n",
       "      <td>1.0</td>\n",
       "      <td>NaN</td>\n",
       "      <td>...</td>\n",
       "      <td>NaN</td>\n",
       "      <td>NaN</td>\n",
       "      <td>NaN</td>\n",
       "      <td>NaN</td>\n",
       "      <td>NaN</td>\n",
       "      <td>NaN</td>\n",
       "      <td>13</td>\n",
       "      <td>24</td>\n",
       "      <td>170</td>\n",
       "      <td>NOTEXIST</td>\n",
       "    </tr>\n",
       "    <tr>\n",
       "      <th>6</th>\n",
       "      <td>989</td>\n",
       "      <td>1.0</td>\n",
       "      <td>1.0</td>\n",
       "      <td>1.0</td>\n",
       "      <td>NaN</td>\n",
       "      <td>1.0</td>\n",
       "      <td>1.0</td>\n",
       "      <td>1.0</td>\n",
       "      <td>1.0</td>\n",
       "      <td>NaN</td>\n",
       "      <td>...</td>\n",
       "      <td>NaN</td>\n",
       "      <td>NaN</td>\n",
       "      <td>NaN</td>\n",
       "      <td>NaN</td>\n",
       "      <td>NaN</td>\n",
       "      <td>NaN</td>\n",
       "      <td>313</td>\n",
       "      <td>195</td>\n",
       "      <td>318</td>\n",
       "      <td>NOTEXIST</td>\n",
       "    </tr>\n",
       "    <tr>\n",
       "      <th>...</th>\n",
       "      <td>...</td>\n",
       "      <td>...</td>\n",
       "      <td>...</td>\n",
       "      <td>...</td>\n",
       "      <td>...</td>\n",
       "      <td>...</td>\n",
       "      <td>...</td>\n",
       "      <td>...</td>\n",
       "      <td>...</td>\n",
       "      <td>...</td>\n",
       "      <td>...</td>\n",
       "      <td>...</td>\n",
       "      <td>...</td>\n",
       "      <td>...</td>\n",
       "      <td>...</td>\n",
       "      <td>...</td>\n",
       "      <td>...</td>\n",
       "      <td>...</td>\n",
       "      <td>...</td>\n",
       "      <td>...</td>\n",
       "      <td>...</td>\n",
       "    </tr>\n",
       "    <tr>\n",
       "      <th>2042</th>\n",
       "      <td>1716</td>\n",
       "      <td>NaN</td>\n",
       "      <td>1.0</td>\n",
       "      <td>NaN</td>\n",
       "      <td>NaN</td>\n",
       "      <td>NaN</td>\n",
       "      <td>NaN</td>\n",
       "      <td>NaN</td>\n",
       "      <td>1.0</td>\n",
       "      <td>NaN</td>\n",
       "      <td>...</td>\n",
       "      <td>NaN</td>\n",
       "      <td>NaN</td>\n",
       "      <td>NaN</td>\n",
       "      <td>NaN</td>\n",
       "      <td>NaN</td>\n",
       "      <td>NaN</td>\n",
       "      <td>8</td>\n",
       "      <td>303</td>\n",
       "      <td>283</td>\n",
       "      <td>NOTEXIST</td>\n",
       "    </tr>\n",
       "    <tr>\n",
       "      <th>2046</th>\n",
       "      <td>2105</td>\n",
       "      <td>NaN</td>\n",
       "      <td>1.0</td>\n",
       "      <td>NaN</td>\n",
       "      <td>NaN</td>\n",
       "      <td>1.0</td>\n",
       "      <td>NaN</td>\n",
       "      <td>NaN</td>\n",
       "      <td>1.0</td>\n",
       "      <td>NaN</td>\n",
       "      <td>...</td>\n",
       "      <td>NaN</td>\n",
       "      <td>NaN</td>\n",
       "      <td>NaN</td>\n",
       "      <td>NaN</td>\n",
       "      <td>NaN</td>\n",
       "      <td>NaN</td>\n",
       "      <td>13</td>\n",
       "      <td>67</td>\n",
       "      <td>288</td>\n",
       "      <td>NOTEXIST</td>\n",
       "    </tr>\n",
       "    <tr>\n",
       "      <th>2048</th>\n",
       "      <td>3464</td>\n",
       "      <td>NaN</td>\n",
       "      <td>NaN</td>\n",
       "      <td>NaN</td>\n",
       "      <td>NaN</td>\n",
       "      <td>NaN</td>\n",
       "      <td>1.0</td>\n",
       "      <td>1.0</td>\n",
       "      <td>NaN</td>\n",
       "      <td>NaN</td>\n",
       "      <td>...</td>\n",
       "      <td>NaN</td>\n",
       "      <td>NaN</td>\n",
       "      <td>NaN</td>\n",
       "      <td>NaN</td>\n",
       "      <td>NaN</td>\n",
       "      <td>NaN</td>\n",
       "      <td>1</td>\n",
       "      <td>210</td>\n",
       "      <td>160</td>\n",
       "      <td>NOTEXIST</td>\n",
       "    </tr>\n",
       "    <tr>\n",
       "      <th>2049</th>\n",
       "      <td>531</td>\n",
       "      <td>NaN</td>\n",
       "      <td>NaN</td>\n",
       "      <td>NaN</td>\n",
       "      <td>NaN</td>\n",
       "      <td>NaN</td>\n",
       "      <td>1.0</td>\n",
       "      <td>NaN</td>\n",
       "      <td>NaN</td>\n",
       "      <td>NaN</td>\n",
       "      <td>...</td>\n",
       "      <td>NaN</td>\n",
       "      <td>NaN</td>\n",
       "      <td>NaN</td>\n",
       "      <td>NaN</td>\n",
       "      <td>NaN</td>\n",
       "      <td>NaN</td>\n",
       "      <td>9</td>\n",
       "      <td>316</td>\n",
       "      <td>188</td>\n",
       "      <td>NOTEXIST</td>\n",
       "    </tr>\n",
       "    <tr>\n",
       "      <th>2050</th>\n",
       "      <td>2026</td>\n",
       "      <td>NaN</td>\n",
       "      <td>1.0</td>\n",
       "      <td>1.0</td>\n",
       "      <td>NaN</td>\n",
       "      <td>1.0</td>\n",
       "      <td>1.0</td>\n",
       "      <td>1.0</td>\n",
       "      <td>1.0</td>\n",
       "      <td>NaN</td>\n",
       "      <td>...</td>\n",
       "      <td>NaN</td>\n",
       "      <td>NaN</td>\n",
       "      <td>NaN</td>\n",
       "      <td>NaN</td>\n",
       "      <td>NaN</td>\n",
       "      <td>NaN</td>\n",
       "      <td>8</td>\n",
       "      <td>34</td>\n",
       "      <td>273</td>\n",
       "      <td>NOTEXIST</td>\n",
       "    </tr>\n",
       "  </tbody>\n",
       "</table>\n",
       "<p>1642 rows × 5118 columns</p>\n",
       "</div>"
      ],
      "text/plain": [
       "        id  w-gerald  w-know  w-busi  w-mexicana  w-transact  w-want  w-thing  \\\n",
       "0     2693       NaN     1.0     NaN         NaN         1.0     1.0      NaN   \n",
       "1     2634       NaN     1.0     NaN         NaN         NaN     1.0      NaN   \n",
       "4     3129       NaN     1.0     1.0         NaN         1.0     1.0      1.0   \n",
       "5     1344       NaN     1.0     1.0         NaN         NaN     1.0      1.0   \n",
       "6      989       1.0     1.0     1.0         NaN         1.0     1.0      1.0   \n",
       "...    ...       ...     ...     ...         ...         ...     ...      ...   \n",
       "2042  1716       NaN     1.0     NaN         NaN         NaN     NaN      NaN   \n",
       "2046  2105       NaN     1.0     NaN         NaN         1.0     NaN      NaN   \n",
       "2048  3464       NaN     NaN     NaN         NaN         NaN     1.0      1.0   \n",
       "2049   531       NaN     NaN     NaN         NaN         NaN     1.0      NaN   \n",
       "2050  2026       NaN     1.0     1.0         NaN         1.0     1.0      1.0   \n",
       "\n",
       "      w-review  w-questar  ...  w-coh  w-agl  w-kinney  w-veselack  w-mwhitt  \\\n",
       "0          1.0        NaN  ...    NaN    NaN       NaN         NaN       NaN   \n",
       "1          NaN        NaN  ...    NaN    NaN       NaN         NaN       NaN   \n",
       "4          1.0        NaN  ...    NaN    NaN       NaN         NaN       NaN   \n",
       "5          1.0        NaN  ...    NaN    NaN       NaN         NaN       NaN   \n",
       "6          1.0        NaN  ...    NaN    NaN       NaN         NaN       NaN   \n",
       "...        ...        ...  ...    ...    ...       ...         ...       ...   \n",
       "2042       1.0        NaN  ...    NaN    NaN       NaN         NaN       NaN   \n",
       "2046       1.0        NaN  ...    NaN    NaN       NaN         NaN       NaN   \n",
       "2048       NaN        NaN  ...    NaN    NaN       NaN         NaN       NaN   \n",
       "2049       NaN        NaN  ...    NaN    NaN       NaN         NaN       NaN   \n",
       "2050       1.0        NaN  ...    NaN    NaN       NaN         NaN       NaN   \n",
       "\n",
       "      w-jarnold  numexchanged  email  other_email    exists  \n",
       "0           NaN             6    286          324     EXIST  \n",
       "1           NaN             3     74           37  NOTEXIST  \n",
       "4           NaN            43     34          236  NOTEXIST  \n",
       "5           NaN            13     24          170  NOTEXIST  \n",
       "6           NaN           313    195          318  NOTEXIST  \n",
       "...         ...           ...    ...          ...       ...  \n",
       "2042        NaN             8    303          283  NOTEXIST  \n",
       "2046        NaN            13     67          288  NOTEXIST  \n",
       "2048        NaN             1    210          160  NOTEXIST  \n",
       "2049        NaN             9    316          188  NOTEXIST  \n",
       "2050        NaN             8     34          273  NOTEXIST  \n",
       "\n",
       "[1642 rows x 5118 columns]"
      ]
     },
     "execution_count": 43,
     "metadata": {},
     "output_type": "execute_result"
    }
   ],
   "source": [
    "manager_edges_obs"
   ]
  },
  {
   "cell_type": "code",
   "execution_count": 44,
   "id": "6b16e26e-20d3-4fd7-82ef-3ad16e0f310c",
   "metadata": {},
   "outputs": [],
   "source": [
    "train_x = manager_edges_obs.drop(['id', 'numexchanged', 'email', 'other_email', 'exists'], axis = 1).fillna(0)\n",
    "train_y = manager_edges_obs['exists']\n",
    "\n",
    "test_x = manager_edges_truth.drop(['id', 'numexchanged', 'email', 'other_email', 'exists'], axis = 1).fillna(0)\n",
    "test_y = manager_edges_truth['exists']"
   ]
  },
  {
   "cell_type": "code",
   "execution_count": 45,
   "id": "1c3d569a-0462-46ee-b3d7-9fa855be4a6f",
   "metadata": {},
   "outputs": [
    {
     "data": {
      "text/plain": [
       "w-gerald      float64\n",
       "w-know        float64\n",
       "w-busi        float64\n",
       "w-mexicana    float64\n",
       "w-transact    float64\n",
       "               ...   \n",
       "w-agl         float64\n",
       "w-kinney      float64\n",
       "w-veselack    float64\n",
       "w-mwhitt      float64\n",
       "w-jarnold     float64\n",
       "Length: 5113, dtype: object"
      ]
     },
     "execution_count": 45,
     "metadata": {},
     "output_type": "execute_result"
    }
   ],
   "source": [
    "train_x.dtypes"
   ]
  },
  {
   "cell_type": "code",
   "execution_count": 46,
   "id": "78f49109-1029-43d9-9c55-3d14265d4d58",
   "metadata": {},
   "outputs": [
    {
     "data": {
      "text/html": [
       "<style>#sk-container-id-2 {color: black;background-color: white;}#sk-container-id-2 pre{padding: 0;}#sk-container-id-2 div.sk-toggleable {background-color: white;}#sk-container-id-2 label.sk-toggleable__label {cursor: pointer;display: block;width: 100%;margin-bottom: 0;padding: 0.3em;box-sizing: border-box;text-align: center;}#sk-container-id-2 label.sk-toggleable__label-arrow:before {content: \"▸\";float: left;margin-right: 0.25em;color: #696969;}#sk-container-id-2 label.sk-toggleable__label-arrow:hover:before {color: black;}#sk-container-id-2 div.sk-estimator:hover label.sk-toggleable__label-arrow:before {color: black;}#sk-container-id-2 div.sk-toggleable__content {max-height: 0;max-width: 0;overflow: hidden;text-align: left;background-color: #f0f8ff;}#sk-container-id-2 div.sk-toggleable__content pre {margin: 0.2em;color: black;border-radius: 0.25em;background-color: #f0f8ff;}#sk-container-id-2 input.sk-toggleable__control:checked~div.sk-toggleable__content {max-height: 200px;max-width: 100%;overflow: auto;}#sk-container-id-2 input.sk-toggleable__control:checked~label.sk-toggleable__label-arrow:before {content: \"▾\";}#sk-container-id-2 div.sk-estimator input.sk-toggleable__control:checked~label.sk-toggleable__label {background-color: #d4ebff;}#sk-container-id-2 div.sk-label input.sk-toggleable__control:checked~label.sk-toggleable__label {background-color: #d4ebff;}#sk-container-id-2 input.sk-hidden--visually {border: 0;clip: rect(1px 1px 1px 1px);clip: rect(1px, 1px, 1px, 1px);height: 1px;margin: -1px;overflow: hidden;padding: 0;position: absolute;width: 1px;}#sk-container-id-2 div.sk-estimator {font-family: monospace;background-color: #f0f8ff;border: 1px dotted black;border-radius: 0.25em;box-sizing: border-box;margin-bottom: 0.5em;}#sk-container-id-2 div.sk-estimator:hover {background-color: #d4ebff;}#sk-container-id-2 div.sk-parallel-item::after {content: \"\";width: 100%;border-bottom: 1px solid gray;flex-grow: 1;}#sk-container-id-2 div.sk-label:hover label.sk-toggleable__label {background-color: #d4ebff;}#sk-container-id-2 div.sk-serial::before {content: \"\";position: absolute;border-left: 1px solid gray;box-sizing: border-box;top: 0;bottom: 0;left: 50%;z-index: 0;}#sk-container-id-2 div.sk-serial {display: flex;flex-direction: column;align-items: center;background-color: white;padding-right: 0.2em;padding-left: 0.2em;position: relative;}#sk-container-id-2 div.sk-item {position: relative;z-index: 1;}#sk-container-id-2 div.sk-parallel {display: flex;align-items: stretch;justify-content: center;background-color: white;position: relative;}#sk-container-id-2 div.sk-item::before, #sk-container-id-2 div.sk-parallel-item::before {content: \"\";position: absolute;border-left: 1px solid gray;box-sizing: border-box;top: 0;bottom: 0;left: 50%;z-index: -1;}#sk-container-id-2 div.sk-parallel-item {display: flex;flex-direction: column;z-index: 1;position: relative;background-color: white;}#sk-container-id-2 div.sk-parallel-item:first-child::after {align-self: flex-end;width: 50%;}#sk-container-id-2 div.sk-parallel-item:last-child::after {align-self: flex-start;width: 50%;}#sk-container-id-2 div.sk-parallel-item:only-child::after {width: 0;}#sk-container-id-2 div.sk-dashed-wrapped {border: 1px dashed gray;margin: 0 0.4em 0.5em 0.4em;box-sizing: border-box;padding-bottom: 0.4em;background-color: white;}#sk-container-id-2 div.sk-label label {font-family: monospace;font-weight: bold;display: inline-block;line-height: 1.2em;}#sk-container-id-2 div.sk-label-container {text-align: center;}#sk-container-id-2 div.sk-container {/* jupyter's `normalize.less` sets `[hidden] { display: none; }` but bootstrap.min.css set `[hidden] { display: none !important; }` so we also need the `!important` here to be able to override the default hidden behavior on the sphinx rendered scikit-learn.org. See: https://github.com/scikit-learn/scikit-learn/issues/21755 */display: inline-block !important;position: relative;}#sk-container-id-2 div.sk-text-repr-fallback {display: none;}</style><div id=\"sk-container-id-2\" class=\"sk-top-container\"><div class=\"sk-text-repr-fallback\"><pre>LogisticRegression(max_iter=300)</pre><b>In a Jupyter environment, please rerun this cell to show the HTML representation or trust the notebook. <br />On GitHub, the HTML representation is unable to render, please try loading this page with nbviewer.org.</b></div><div class=\"sk-container\" hidden><div class=\"sk-item\"><div class=\"sk-estimator sk-toggleable\"><input class=\"sk-toggleable__control sk-hidden--visually\" id=\"sk-estimator-id-2\" type=\"checkbox\" checked><label for=\"sk-estimator-id-2\" class=\"sk-toggleable__label sk-toggleable__label-arrow\">LogisticRegression</label><div class=\"sk-toggleable__content\"><pre>LogisticRegression(max_iter=300)</pre></div></div></div></div></div>"
      ],
      "text/plain": [
       "LogisticRegression(max_iter=300)"
      ]
     },
     "execution_count": 46,
     "metadata": {},
     "output_type": "execute_result"
    }
   ],
   "source": [
    "classifier = LogisticRegression(max_iter=300)\n",
    "classifier.fit(train_x, train_y)"
   ]
  },
  {
   "cell_type": "code",
   "execution_count": 47,
   "id": "a747ccb9-4f5e-4a66-88a3-c9746190e941",
   "metadata": {},
   "outputs": [],
   "source": [
    "predictions = classifier.predict(test_x)"
   ]
  },
  {
   "cell_type": "code",
   "execution_count": 48,
   "id": "7be4925b-f34f-45d0-aed2-66f43dc737a6",
   "metadata": {},
   "outputs": [
    {
     "data": {
      "text/plain": [
       "0.9070904645476773"
      ]
     },
     "execution_count": 48,
     "metadata": {},
     "output_type": "execute_result"
    }
   ],
   "source": [
    "classifier.score(test_x, test_y)"
   ]
  },
  {
   "cell_type": "markdown",
   "id": "c96d14ce-56ce-42ec-83c3-ca334059bd0a",
   "metadata": {
    "tags": []
   },
   "source": [
    "### Use probabilities for PSL observed data."
   ]
  },
  {
   "cell_type": "code",
   "execution_count": 49,
   "id": "29ce15c4-4de3-4215-ad05-f25270f4b7ff",
   "metadata": {},
   "outputs": [],
   "source": [
    "local_Manages_probabilities = classifier.predict_proba(test_x)"
   ]
  },
  {
   "cell_type": "code",
   "execution_count": 50,
   "id": "1538253a-284e-4f26-9611-2497a2db5f53",
   "metadata": {},
   "outputs": [],
   "source": [
    "local_Manages_obs = pd.DataFrame()\n",
    "row_list = []\n",
    "# build a table\n",
    "for index, probabilities in enumerate(local_Manages_probabilities):\n",
    "    row_dict = {'email': manager_edges_truth.iloc[index]['email'], 'other_email': manager_edges_truth.iloc[index]['other_email'], 'exists': exists_map[classifier.classes_[np.argmax(probabilities)]]}\n",
    "    row_list.append(row_dict)\n",
    "    #print(email_nodes_truth.iloc[index]['id'], \"\\t\", title_map[classifier.classes_[class_index]], \"\\t\", probability)\n",
    "\n",
    "local_Manages_obs = pd.concat([local_Manages_obs, pd.DataFrame(row_list)])"
   ]
  },
  {
   "cell_type": "code",
   "execution_count": 51,
   "id": "bf55a131-02cd-4b7f-ab8c-4f90ba83d178",
   "metadata": {},
   "outputs": [
    {
     "data": {
      "text/html": [
       "<div>\n",
       "<style scoped>\n",
       "    .dataframe tbody tr th:only-of-type {\n",
       "        vertical-align: middle;\n",
       "    }\n",
       "\n",
       "    .dataframe tbody tr th {\n",
       "        vertical-align: top;\n",
       "    }\n",
       "\n",
       "    .dataframe thead th {\n",
       "        text-align: right;\n",
       "    }\n",
       "</style>\n",
       "<table border=\"1\" class=\"dataframe\">\n",
       "  <thead>\n",
       "    <tr style=\"text-align: right;\">\n",
       "      <th></th>\n",
       "      <th>email</th>\n",
       "      <th>other_email</th>\n",
       "      <th>exists</th>\n",
       "    </tr>\n",
       "  </thead>\n",
       "  <tbody>\n",
       "    <tr>\n",
       "      <th>0</th>\n",
       "      <td>148</td>\n",
       "      <td>131</td>\n",
       "      <td>0.0</td>\n",
       "    </tr>\n",
       "    <tr>\n",
       "      <th>1</th>\n",
       "      <td>57</td>\n",
       "      <td>313</td>\n",
       "      <td>0.0</td>\n",
       "    </tr>\n",
       "    <tr>\n",
       "      <th>2</th>\n",
       "      <td>267</td>\n",
       "      <td>249</td>\n",
       "      <td>0.0</td>\n",
       "    </tr>\n",
       "    <tr>\n",
       "      <th>3</th>\n",
       "      <td>304</td>\n",
       "      <td>208</td>\n",
       "      <td>0.0</td>\n",
       "    </tr>\n",
       "    <tr>\n",
       "      <th>4</th>\n",
       "      <td>186</td>\n",
       "      <td>193</td>\n",
       "      <td>0.0</td>\n",
       "    </tr>\n",
       "    <tr>\n",
       "      <th>...</th>\n",
       "      <td>...</td>\n",
       "      <td>...</td>\n",
       "      <td>...</td>\n",
       "    </tr>\n",
       "    <tr>\n",
       "      <th>404</th>\n",
       "      <td>104</td>\n",
       "      <td>137</td>\n",
       "      <td>0.0</td>\n",
       "    </tr>\n",
       "    <tr>\n",
       "      <th>405</th>\n",
       "      <td>207</td>\n",
       "      <td>172</td>\n",
       "      <td>0.0</td>\n",
       "    </tr>\n",
       "    <tr>\n",
       "      <th>406</th>\n",
       "      <td>318</td>\n",
       "      <td>46</td>\n",
       "      <td>0.0</td>\n",
       "    </tr>\n",
       "    <tr>\n",
       "      <th>407</th>\n",
       "      <td>101</td>\n",
       "      <td>208</td>\n",
       "      <td>0.0</td>\n",
       "    </tr>\n",
       "    <tr>\n",
       "      <th>408</th>\n",
       "      <td>198</td>\n",
       "      <td>212</td>\n",
       "      <td>0.0</td>\n",
       "    </tr>\n",
       "  </tbody>\n",
       "</table>\n",
       "<p>409 rows × 3 columns</p>\n",
       "</div>"
      ],
      "text/plain": [
       "     email  other_email  exists\n",
       "0      148          131     0.0\n",
       "1       57          313     0.0\n",
       "2      267          249     0.0\n",
       "3      304          208     0.0\n",
       "4      186          193     0.0\n",
       "..     ...          ...     ...\n",
       "404    104          137     0.0\n",
       "405    207          172     0.0\n",
       "406    318           46     0.0\n",
       "407    101          208     0.0\n",
       "408    198          212     0.0\n",
       "\n",
       "[409 rows x 3 columns]"
      ]
     },
     "execution_count": 51,
     "metadata": {},
     "output_type": "execute_result"
    }
   ],
   "source": [
    "local_Manages_obs"
   ]
  },
  {
   "cell_type": "code",
   "execution_count": 52,
   "id": "b40f6dc2-33e8-472f-b54a-5ff2de0533c8",
   "metadata": {},
   "outputs": [],
   "source": [
    "# Since it's undirected, add in the reverse edges.\n",
    "local_Manages_obs_sym = local_Manages_obs[['other_email', 'email', 'exists']].copy()\n",
    "\n",
    "local_Manages_obs_sym.rename(columns = {'other_email':'email', 'email':'other_email'}, inplace = True)\n",
    "\n",
    "local_Manages_obs = pd.concat([local_Manages_obs, local_Manages_obs_sym])\n"
   ]
  },
  {
   "cell_type": "code",
   "execution_count": 53,
   "id": "c2bb9bfd-2aa7-4b47-8862-26d02d62eee3",
   "metadata": {},
   "outputs": [],
   "source": [
    "# local_Manages_obs.to_csv('Local_Manages_obs.csv', sep ='\\t', index=False, header=False, columns=['email', 'other_email', 'exists'])"
   ]
  },
  {
   "cell_type": "markdown",
   "id": "9aea56bc-8610-496b-86ab-93eb497bc83a",
   "metadata": {
    "tags": []
   },
   "source": [
    "## Entity Resolution"
   ]
  },
  {
   "cell_type": "code",
   "execution_count": 54,
   "id": "bec3ca29-b8ac-4896-9f09-756a0b7f272e",
   "metadata": {},
   "outputs": [],
   "source": [
    "from strsimpy.qgram import QGram\n",
    "from scipy.spatial import distance\n",
    "\n",
    "qgram = QGram(1)\n",
    "\n",
    "node_to_email = dict(zip(email_nodes['id'], email_nodes['emailaddress']))\n"
   ]
  },
  {
   "cell_type": "code",
   "execution_count": 55,
   "id": "45e14e7e-ce03-4d95-8999-441bb7ad3bc2",
   "metadata": {},
   "outputs": [],
   "source": [
    "# Calculate features for Training set\n",
    "\n",
    "train_x = full_set_coref_edges_obs.copy()\n",
    "\n",
    "train_x['address_similarity'] = 0.0\n",
    "train_x['bow_cosine_similarity'] = 0.0\n",
    "train_x['bow_jaccard_similarity'] = 0.0\n",
    "\n",
    "\n",
    "for index in train_x.index:\n",
    "    string_similarity = qgram.distance(node_to_email[train_x.iloc[index]['email']], node_to_email[train_x.iloc[index]['alt_email']])\n",
    "    train_x.loc[index, 'address_similarity'] = string_similarity\n",
    "\n",
    "    bow_cosine_similarity = distance.cosine(np.nan_to_num(list(email_nodes[email_nodes['id'] == train_x.iloc[index]['email']].iloc[0][5:-1])), np.nan_to_num(list(email_nodes[email_nodes['id'] == train_x.iloc[index]['alt_email']].iloc[0][5:-1])))\n",
    "    train_x.loc[index, 'bow_cosine_similarity'] = bow_cosine_similarity\n",
    "\n",
    "    bow_jaccard_similarity = distance.jaccard(np.nan_to_num(list(email_nodes[email_nodes['id'] == train_x.iloc[index]['email']].iloc[0][5:-1])), np.nan_to_num(list(email_nodes[email_nodes['id'] == train_x.iloc[index]['alt_email']].iloc[0][5:-1])))\n",
    "    train_x.loc[index, 'bow_jaccard_similarity'] = bow_jaccard_similarity\n",
    "    \n",
    "\n",
    "train_x = train_x.drop(['email', 'alt_email', 'exists'], axis = 1)\n",
    "train_y = full_set_coref_edges_obs['exists'].copy()"
   ]
  },
  {
   "cell_type": "code",
   "execution_count": 56,
   "id": "9c99623a-7cb1-4497-adec-fc111061e4cb",
   "metadata": {},
   "outputs": [],
   "source": [
    "# Test set\n",
    "\n",
    "test_x = coref_truth.copy()\n",
    "test_y = coref_truth['exists'].copy()\n",
    "\n",
    "test_x['address_similarity'] = 0.0\n",
    "test_x['bow_cosine_similarity'] = 0.0\n",
    "test_x['bow_jaccard_similarity'] = 0.0\n",
    "\n",
    "for index in test_x.index:\n",
    "    string_similarity = qgram.distance(node_to_email[test_x.iloc[index]['email']], node_to_email[test_x.iloc[index]['alt_email']])\n",
    "    test_x.loc[index, 'address_similarity'] = string_similarity\n",
    "\n",
    "    bow_cosine_similarity = distance.cosine(np.nan_to_num(list(email_nodes[email_nodes['id'] == test_x.iloc[index]['email']].iloc[0][5:-1])), np.nan_to_num(list(email_nodes[email_nodes['id'] == test_x.iloc[index]['alt_email']].iloc[0][5:-1])))\n",
    "    test_x.loc[index, 'bow_cosine_similarity'] = bow_cosine_similarity\n",
    "\n",
    "    bow_jaccard_similarity = distance.jaccard(np.nan_to_num(list(email_nodes[email_nodes['id'] == test_x.iloc[index]['email']].iloc[0][5:-1])), np.nan_to_num(list(email_nodes[email_nodes['id'] == test_x.iloc[index]['alt_email']].iloc[0][5:-1])))\n",
    "    test_x.loc[index, 'bow_jaccard_similarity'] = bow_jaccard_similarity\n",
    "    \n",
    "test_x = test_x.drop(['email', 'alt_email', 'exists'], axis = 1)\n",
    "test_y = coref_truth['exists'].copy()\n"
   ]
  },
  {
   "cell_type": "code",
   "execution_count": 57,
   "id": "50b86007-255e-4d60-897c-527b95d3ce8a",
   "metadata": {},
   "outputs": [
    {
     "data": {
      "text/html": [
       "<style>#sk-container-id-3 {color: black;background-color: white;}#sk-container-id-3 pre{padding: 0;}#sk-container-id-3 div.sk-toggleable {background-color: white;}#sk-container-id-3 label.sk-toggleable__label {cursor: pointer;display: block;width: 100%;margin-bottom: 0;padding: 0.3em;box-sizing: border-box;text-align: center;}#sk-container-id-3 label.sk-toggleable__label-arrow:before {content: \"▸\";float: left;margin-right: 0.25em;color: #696969;}#sk-container-id-3 label.sk-toggleable__label-arrow:hover:before {color: black;}#sk-container-id-3 div.sk-estimator:hover label.sk-toggleable__label-arrow:before {color: black;}#sk-container-id-3 div.sk-toggleable__content {max-height: 0;max-width: 0;overflow: hidden;text-align: left;background-color: #f0f8ff;}#sk-container-id-3 div.sk-toggleable__content pre {margin: 0.2em;color: black;border-radius: 0.25em;background-color: #f0f8ff;}#sk-container-id-3 input.sk-toggleable__control:checked~div.sk-toggleable__content {max-height: 200px;max-width: 100%;overflow: auto;}#sk-container-id-3 input.sk-toggleable__control:checked~label.sk-toggleable__label-arrow:before {content: \"▾\";}#sk-container-id-3 div.sk-estimator input.sk-toggleable__control:checked~label.sk-toggleable__label {background-color: #d4ebff;}#sk-container-id-3 div.sk-label input.sk-toggleable__control:checked~label.sk-toggleable__label {background-color: #d4ebff;}#sk-container-id-3 input.sk-hidden--visually {border: 0;clip: rect(1px 1px 1px 1px);clip: rect(1px, 1px, 1px, 1px);height: 1px;margin: -1px;overflow: hidden;padding: 0;position: absolute;width: 1px;}#sk-container-id-3 div.sk-estimator {font-family: monospace;background-color: #f0f8ff;border: 1px dotted black;border-radius: 0.25em;box-sizing: border-box;margin-bottom: 0.5em;}#sk-container-id-3 div.sk-estimator:hover {background-color: #d4ebff;}#sk-container-id-3 div.sk-parallel-item::after {content: \"\";width: 100%;border-bottom: 1px solid gray;flex-grow: 1;}#sk-container-id-3 div.sk-label:hover label.sk-toggleable__label {background-color: #d4ebff;}#sk-container-id-3 div.sk-serial::before {content: \"\";position: absolute;border-left: 1px solid gray;box-sizing: border-box;top: 0;bottom: 0;left: 50%;z-index: 0;}#sk-container-id-3 div.sk-serial {display: flex;flex-direction: column;align-items: center;background-color: white;padding-right: 0.2em;padding-left: 0.2em;position: relative;}#sk-container-id-3 div.sk-item {position: relative;z-index: 1;}#sk-container-id-3 div.sk-parallel {display: flex;align-items: stretch;justify-content: center;background-color: white;position: relative;}#sk-container-id-3 div.sk-item::before, #sk-container-id-3 div.sk-parallel-item::before {content: \"\";position: absolute;border-left: 1px solid gray;box-sizing: border-box;top: 0;bottom: 0;left: 50%;z-index: -1;}#sk-container-id-3 div.sk-parallel-item {display: flex;flex-direction: column;z-index: 1;position: relative;background-color: white;}#sk-container-id-3 div.sk-parallel-item:first-child::after {align-self: flex-end;width: 50%;}#sk-container-id-3 div.sk-parallel-item:last-child::after {align-self: flex-start;width: 50%;}#sk-container-id-3 div.sk-parallel-item:only-child::after {width: 0;}#sk-container-id-3 div.sk-dashed-wrapped {border: 1px dashed gray;margin: 0 0.4em 0.5em 0.4em;box-sizing: border-box;padding-bottom: 0.4em;background-color: white;}#sk-container-id-3 div.sk-label label {font-family: monospace;font-weight: bold;display: inline-block;line-height: 1.2em;}#sk-container-id-3 div.sk-label-container {text-align: center;}#sk-container-id-3 div.sk-container {/* jupyter's `normalize.less` sets `[hidden] { display: none; }` but bootstrap.min.css set `[hidden] { display: none !important; }` so we also need the `!important` here to be able to override the default hidden behavior on the sphinx rendered scikit-learn.org. See: https://github.com/scikit-learn/scikit-learn/issues/21755 */display: inline-block !important;position: relative;}#sk-container-id-3 div.sk-text-repr-fallback {display: none;}</style><div id=\"sk-container-id-3\" class=\"sk-top-container\"><div class=\"sk-text-repr-fallback\"><pre>LogisticRegression()</pre><b>In a Jupyter environment, please rerun this cell to show the HTML representation or trust the notebook. <br />On GitHub, the HTML representation is unable to render, please try loading this page with nbviewer.org.</b></div><div class=\"sk-container\" hidden><div class=\"sk-item\"><div class=\"sk-estimator sk-toggleable\"><input class=\"sk-toggleable__control sk-hidden--visually\" id=\"sk-estimator-id-3\" type=\"checkbox\" checked><label for=\"sk-estimator-id-3\" class=\"sk-toggleable__label sk-toggleable__label-arrow\">LogisticRegression</label><div class=\"sk-toggleable__content\"><pre>LogisticRegression()</pre></div></div></div></div></div>"
      ],
      "text/plain": [
       "LogisticRegression()"
      ]
     },
     "execution_count": 57,
     "metadata": {},
     "output_type": "execute_result"
    }
   ],
   "source": [
    "classifier = LogisticRegression()\n",
    "classifier.fit(train_x, train_y)"
   ]
  },
  {
   "cell_type": "code",
   "execution_count": 58,
   "id": "e48f3038-12f4-4bdf-8ecb-3e8259067151",
   "metadata": {},
   "outputs": [
    {
     "data": {
      "text/plain": [
       "0.9959095283926853"
      ]
     },
     "execution_count": 58,
     "metadata": {},
     "output_type": "execute_result"
    }
   ],
   "source": [
    "classifier.score(test_x, test_y)"
   ]
  },
  {
   "cell_type": "code",
   "execution_count": 59,
   "id": "e929e41b-8b64-459b-aa83-82f91a6a8266",
   "metadata": {},
   "outputs": [],
   "source": [
    "predictions = classifier.predict(test_x)"
   ]
  },
  {
   "cell_type": "code",
   "execution_count": 60,
   "id": "248ecbe2-643d-43c2-9c0f-5d4f726b6f3f",
   "metadata": {},
   "outputs": [
    {
     "data": {
      "text/plain": [
       "0.4137931034482759"
      ]
     },
     "execution_count": 60,
     "metadata": {},
     "output_type": "execute_result"
    }
   ],
   "source": [
    "f1_score(test_y, predictions)"
   ]
  },
  {
   "cell_type": "markdown",
   "id": "4fb28082-32c8-4b1a-a977-643449b7c338",
   "metadata": {
    "jp-MarkdownHeadingCollapsed": true,
    "tags": []
   },
   "source": [
    "### Use probabilities for PSL observed data."
   ]
  },
  {
   "cell_type": "code",
   "execution_count": 61,
   "id": "427ecd7e-f638-4898-a37e-fe87bda74c17",
   "metadata": {},
   "outputs": [
    {
     "data": {
      "text/html": [
       "<div>\n",
       "<style scoped>\n",
       "    .dataframe tbody tr th:only-of-type {\n",
       "        vertical-align: middle;\n",
       "    }\n",
       "\n",
       "    .dataframe tbody tr th {\n",
       "        vertical-align: top;\n",
       "    }\n",
       "\n",
       "    .dataframe thead th {\n",
       "        text-align: right;\n",
       "    }\n",
       "</style>\n",
       "<table border=\"1\" class=\"dataframe\">\n",
       "  <thead>\n",
       "    <tr style=\"text-align: right;\">\n",
       "      <th></th>\n",
       "      <th>email</th>\n",
       "      <th>alt_email</th>\n",
       "      <th>exists</th>\n",
       "    </tr>\n",
       "  </thead>\n",
       "  <tbody>\n",
       "    <tr>\n",
       "      <th>0</th>\n",
       "      <td>177</td>\n",
       "      <td>288</td>\n",
       "      <td>0.0</td>\n",
       "    </tr>\n",
       "    <tr>\n",
       "      <th>1</th>\n",
       "      <td>174</td>\n",
       "      <td>56</td>\n",
       "      <td>0.0</td>\n",
       "    </tr>\n",
       "    <tr>\n",
       "      <th>2</th>\n",
       "      <td>107</td>\n",
       "      <td>131</td>\n",
       "      <td>0.0</td>\n",
       "    </tr>\n",
       "    <tr>\n",
       "      <th>3</th>\n",
       "      <td>1</td>\n",
       "      <td>271</td>\n",
       "      <td>0.0</td>\n",
       "    </tr>\n",
       "    <tr>\n",
       "      <th>4</th>\n",
       "      <td>323</td>\n",
       "      <td>163</td>\n",
       "      <td>0.0</td>\n",
       "    </tr>\n",
       "    <tr>\n",
       "      <th>...</th>\n",
       "      <td>...</td>\n",
       "      <td>...</td>\n",
       "      <td>...</td>\n",
       "    </tr>\n",
       "    <tr>\n",
       "      <th>8307</th>\n",
       "      <td>266</td>\n",
       "      <td>151</td>\n",
       "      <td>0.0</td>\n",
       "    </tr>\n",
       "    <tr>\n",
       "      <th>8308</th>\n",
       "      <td>124</td>\n",
       "      <td>207</td>\n",
       "      <td>0.0</td>\n",
       "    </tr>\n",
       "    <tr>\n",
       "      <th>8309</th>\n",
       "      <td>212</td>\n",
       "      <td>15</td>\n",
       "      <td>0.0</td>\n",
       "    </tr>\n",
       "    <tr>\n",
       "      <th>8310</th>\n",
       "      <td>328</td>\n",
       "      <td>80</td>\n",
       "      <td>0.0</td>\n",
       "    </tr>\n",
       "    <tr>\n",
       "      <th>8311</th>\n",
       "      <td>118</td>\n",
       "      <td>222</td>\n",
       "      <td>0.0</td>\n",
       "    </tr>\n",
       "  </tbody>\n",
       "</table>\n",
       "<p>8312 rows × 3 columns</p>\n",
       "</div>"
      ],
      "text/plain": [
       "      email  alt_email  exists\n",
       "0       177        288     0.0\n",
       "1       174         56     0.0\n",
       "2       107        131     0.0\n",
       "3         1        271     0.0\n",
       "4       323        163     0.0\n",
       "...     ...        ...     ...\n",
       "8307    266        151     0.0\n",
       "8308    124        207     0.0\n",
       "8309    212         15     0.0\n",
       "8310    328         80     0.0\n",
       "8311    118        222     0.0\n",
       "\n",
       "[8312 rows x 3 columns]"
      ]
     },
     "execution_count": 61,
     "metadata": {},
     "output_type": "execute_result"
    }
   ],
   "source": [
    "coref_truth"
   ]
  },
  {
   "cell_type": "code",
   "execution_count": 62,
   "id": "4c7eb557-7aad-4911-8951-84cbc4655ebc",
   "metadata": {},
   "outputs": [],
   "source": [
    "local_CoRef_probabilities = classifier.predict_proba(test_x)"
   ]
  },
  {
   "cell_type": "code",
   "execution_count": 63,
   "id": "168909c3-21e8-4976-b9e7-f04603746cb3",
   "metadata": {},
   "outputs": [],
   "source": [
    "local_CoRef_obs = pd.DataFrame()\n",
    "row_list = []\n",
    "# build a table\n",
    "for index, probabilities in enumerate(local_CoRef_probabilities):\n",
    "    row_dict = {'email': int(coref_truth.iloc[index]['email']), 'alt_email': int(coref_truth.iloc[index]['alt_email']), 'exists': probabilities[1]}\n",
    "    row_list.append(row_dict)\n",
    "    #print(email_nodes_truth.iloc[index]['id'], \"\\t\", title_map[classifier.classes_[class_index]], \"\\t\", probability)\n",
    "\n",
    "local_CoRef_obs = pd.concat([local_CoRef_obs, pd.DataFrame(row_list)], ignore_index=True)"
   ]
  },
  {
   "cell_type": "code",
   "execution_count": 64,
   "id": "2a9f1557-275a-43f1-9b91-c127b4466463",
   "metadata": {},
   "outputs": [],
   "source": [
    "# local_CoRef_obs.to_csv('Local_CoRef_obs.csv', sep ='\\t', index=False, header=False, columns=['email', 'alt_email', 'exists'])"
   ]
  },
  {
   "cell_type": "code",
   "execution_count": 65,
   "id": "e19d019d-a8fa-4b6d-8f25-5821944d2fc1",
   "metadata": {},
   "outputs": [
    {
     "data": {
      "text/plain": [
       "{(46, 47),\n",
       " (47, 46),\n",
       " (137, 138),\n",
       " (138, 137),\n",
       " (150, 152),\n",
       " (152, 150),\n",
       " (235, 236),\n",
       " (236, 235),\n",
       " (254, 259),\n",
       " (259, 254),\n",
       " (325, 326),\n",
       " (326, 325)}"
      ]
     },
     "execution_count": 65,
     "metadata": {},
     "output_type": "execute_result"
    }
   ],
   "source": [
    "# Sanity check the positive instances\n",
    "set_1 = {(pair[0], pair[1]) for pair in zip(local_CoRef_obs[local_CoRef_obs['exists'] > 0.5]['email'], local_CoRef_obs[local_CoRef_obs['exists'] > 0.5]['alt_email'])}\n",
    "set_2 = {(pair[0], pair[1]) for pair in zip(coref_truth[coref_truth['exists'] == 1]['email'], coref_truth[coref_truth['exists'] == 1]['alt_email'])}\n",
    "set_2 & set_1"
   ]
  },
  {
   "cell_type": "markdown",
   "id": "f92b1315-ef85-439b-8e23-8c9dd8c90e33",
   "metadata": {
    "tags": []
   },
   "source": [
    "# Calculate Similarity Metrics"
   ]
  },
  {
   "cell_type": "markdown",
   "id": "07efe1fb-2264-42cf-8530-ff7a87464e14",
   "metadata": {
    "tags": []
   },
   "source": [
    "## Entity Resolution"
   ]
  },
  {
   "cell_type": "markdown",
   "id": "cf731375-2130-4432-b214-db5f7b4b5834",
   "metadata": {
    "tags": []
   },
   "source": [
    "### Email Address similarity"
   ]
  },
  {
   "cell_type": "code",
   "execution_count": 66,
   "id": "fdb5d563-d694-4718-b2d9-124d0bb09be3",
   "metadata": {
    "tags": []
   },
   "outputs": [
    {
     "data": {
      "text/plain": [
       "'laura.luce@enron.com'"
      ]
     },
     "execution_count": 66,
     "metadata": {},
     "output_type": "execute_result"
    }
   ],
   "source": [
    "\n",
    "# qgram = QGram(1)\n",
    "# print(qgram.distance('ABCD', 'ABCE'))\n",
    "email_nodes[email_nodes['id'] == 268]['emailaddress'].iloc[0]"
   ]
  },
  {
   "cell_type": "code",
   "execution_count": 67,
   "id": "b60b0d45-4d86-4498-9b7f-b6cf243a8c05",
   "metadata": {
    "tags": []
   },
   "outputs": [],
   "source": [
    "email_pairs = {pair for pair in itertools.combinations(email_nodes['id'], 2)}\n",
    "\n",
    "qgram = QGram(1)\n",
    "\n",
    "sim_email = pd.DataFrame()\n",
    "row_list = []\n",
    "\n",
    "for pair in email_pairs:\n",
    "    #print(pair)\n",
    "\n",
    "    email_1 = email_nodes[email_nodes['id'] == pair[0]]['emailaddress'].iloc[0]\n",
    "    email_2 = email_nodes[email_nodes['id'] == pair[1]]['emailaddress'].iloc[0]    \n",
    "        \n",
    "    string_similarity = qgram.distance(email_1, email_2)\n",
    "\n",
    "    row_dict = {'email':pair[0], 'other_email':pair[1], 'qgram_sim':string_similarity}\n",
    "    row_list.append(row_dict)\n",
    "    \n",
    "sim_email = pd.concat([sim_email, pd.DataFrame(row_list)])"
   ]
  },
  {
   "cell_type": "code",
   "execution_count": 68,
   "id": "9db78f04-dd02-4a1e-8abe-c7453927c74a",
   "metadata": {
    "tags": []
   },
   "outputs": [],
   "source": [
    "# Sanity Check, this should print mostly \"exists=1.0\"\n",
    "\n",
    "# for pair in zip(sim_email[sim_email['qgram_sim'] < 5]['email'], sim_email[sim_email['qgram_sim'] < 5]['other_email']):\n",
    "#     print(full_set_coref_edges_data[(full_set_coref_edges_data['email'] == pair[0]) & (full_set_coref_edges_data['alt_email'] == pair[1])]['exists'])\n",
    "#     print(\"--------\")"
   ]
  },
  {
   "cell_type": "markdown",
   "id": "6c4d997b-671d-4c7a-b13a-bf059d1aa463",
   "metadata": {
    "tags": []
   },
   "source": [
    "### Bag of words similarity"
   ]
  },
  {
   "cell_type": "code",
   "execution_count": 69,
   "id": "7db77662-be4c-46db-8732-db764d178e82",
   "metadata": {},
   "outputs": [],
   "source": [
    "# These similarity features will be used for PSL predicates instead of a local classifier.\n",
    "from scipy.spatial import distance\n",
    "from matplotlib import pyplot as plt"
   ]
  },
  {
   "cell_type": "code",
   "execution_count": 70,
   "id": "609941be-118d-4376-a99b-17de2022bae0",
   "metadata": {
    "tags": []
   },
   "outputs": [],
   "source": [
    "sim_bow = pd.DataFrame()\n",
    "row_list = []\n",
    "\n",
    "\n",
    "for pair in email_pairs:\n",
    "    entity_1 = email_nodes[email_nodes['id'] == pair[0]]\n",
    "    entity_2 = email_nodes[email_nodes['id'] == pair[1]]\n",
    "    \n",
    "    bow_1 = entity_1.iloc[0][5:-1]\n",
    "    bow_2 = entity_2.iloc[0][5:-1]\n",
    "    # FIXME: Jaccard distance needs to be on sets\n",
    "    row_dict = {'email':pair[0], 'other_email':pair[1], 'jaccard_sim_bow':distance.jaccard(list(bow_1), list(bow_2)), 'cosine_sim_bow':distance.cosine(np.nan_to_num(list(bow_1)), np.nan_to_num(list(bow_2)))}\n",
    "    row_list.append(row_dict)\n",
    "    \n",
    "sim_bow = pd.concat([sim_bow, pd.DataFrame(row_list)])\n"
   ]
  },
  {
   "cell_type": "code",
   "execution_count": 71,
   "id": "5b817ac4-8d5b-4f34-b3be-6d2b58198d09",
   "metadata": {},
   "outputs": [
    {
     "data": {
      "text/plain": [
       "count    22155.000000\n",
       "mean         0.863022\n",
       "std          0.121956\n",
       "min          0.188539\n",
       "25%          0.796010\n",
       "50%          0.885781\n",
       "75%          0.971054\n",
       "max          1.000000\n",
       "Name: jaccard_sim_bow, dtype: float64"
      ]
     },
     "execution_count": 71,
     "metadata": {},
     "output_type": "execute_result"
    }
   ],
   "source": [
    "sim_bow['jaccard_sim_bow'].describe()"
   ]
  },
  {
   "cell_type": "code",
   "execution_count": 72,
   "id": "d11d1e36-fa2b-4c94-85d8-8d6f328f072c",
   "metadata": {},
   "outputs": [
    {
     "data": {
      "text/plain": [
       "count    22155.000000\n",
       "mean         0.585444\n",
       "std          0.195204\n",
       "min          0.060462\n",
       "25%          0.442353\n",
       "50%          0.547103\n",
       "75%          0.734201\n",
       "max          1.000000\n",
       "Name: cosine_sim_bow, dtype: float64"
      ]
     },
     "execution_count": 72,
     "metadata": {},
     "output_type": "execute_result"
    }
   ],
   "source": [
    "sim_bow['cosine_sim_bow'].describe()"
   ]
  },
  {
   "cell_type": "code",
   "execution_count": 73,
   "id": "05548168-0a53-4e39-9863-daae33a0f4ab",
   "metadata": {},
   "outputs": [],
   "source": [
    "# Since it's undirected, add in the reverse edges.\n",
    "sim_bow_sym = sim_bow[['other_email', 'email', 'jaccard_sim_bow', 'cosine_sim_bow']].copy()\n",
    "sim_bow_sym.rename(columns = {'other_email':'email', 'email':'other_email'}, inplace = True)\n",
    "\n",
    "sim_bow = pd.concat([sim_bow, sim_bow_sym])"
   ]
  },
  {
   "cell_type": "code",
   "execution_count": 74,
   "id": "da3ce440-ca4f-4327-b30b-d83324e73972",
   "metadata": {},
   "outputs": [],
   "source": [
    "# sim_bow.to_csv('Sim_Jaccard_Bow.csv', sep ='\\t', index=False, header=False, columns=['email', 'other_email', 'jaccard_sim_bow'])"
   ]
  },
  {
   "cell_type": "code",
   "execution_count": 75,
   "id": "ff38e721-dcb7-4165-9239-b6a1fd184ee0",
   "metadata": {
    "tags": []
   },
   "outputs": [],
   "source": [
    "# sim_bow.to_csv('Sim_Cosine_Bow.csv', sep ='\\t', index=False, header=False, columns=['email', 'other_email', 'cosine_sim_bow'])"
   ]
  },
  {
   "cell_type": "markdown",
   "id": "7b8bf1c4-ab6d-4a3d-a05c-9a56bfb0e970",
   "metadata": {
    "tags": []
   },
   "source": [
    "### Network Based silmilarity"
   ]
  },
  {
   "cell_type": "code",
   "execution_count": 76,
   "id": "1c2d4f9e-2d24-4e61-8106-ad83511be175",
   "metadata": {
    "tags": []
   },
   "outputs": [
    {
     "name": "stdout",
     "output_type": "stream",
     "text": [
      "Header:  DIRECTED\tsentto\n",
      "\n",
      "This is not a NODE file, so don't load this row\n"
     ]
    },
    {
     "data": {
      "text/plain": [
       "id              int64\n",
       "email           int64\n",
       "other_email     int64\n",
       "numexchanged    int64\n",
       "dtype: object"
      ]
     },
     "execution_count": 76,
     "metadata": {},
     "output_type": "execute_result"
    }
   ],
   "source": [
    "# Load in the observed communication network\n",
    "# need to rename one of the columns due to key collision\n",
    "# use copy for safety\n",
    "!cp $FILE_GROUND_TRUTH_COMMUNICATION_EDGES .\n",
    "!sed -i 's/\\temail/\\tother_email/2g' enron.DIRECTED.sentto.tab\n",
    "\n",
    "communication_edges = load_table('enron.DIRECTED.sentto.tab')\n",
    "\n",
    "# FIXME: can probably omit this line\n",
    "# manager_edges.drop('NOTEXIST,EXIST', axis=1, inplace=True)\n",
    "\n",
    "resolve_column_type(communication_edges)\n",
    "\n",
    "communication_edges.dtypes"
   ]
  },
  {
   "cell_type": "code",
   "execution_count": 77,
   "id": "0d436ee9-137f-4d7f-ac82-eb691cbeedc6",
   "metadata": {
    "tags": []
   },
   "outputs": [
    {
     "data": {
      "text/html": [
       "<div>\n",
       "<style scoped>\n",
       "    .dataframe tbody tr th:only-of-type {\n",
       "        vertical-align: middle;\n",
       "    }\n",
       "\n",
       "    .dataframe tbody tr th {\n",
       "        vertical-align: top;\n",
       "    }\n",
       "\n",
       "    .dataframe thead th {\n",
       "        text-align: right;\n",
       "    }\n",
       "</style>\n",
       "<table border=\"1\" class=\"dataframe\">\n",
       "  <thead>\n",
       "    <tr style=\"text-align: right;\">\n",
       "      <th></th>\n",
       "      <th>id</th>\n",
       "      <th>email</th>\n",
       "      <th>other_email</th>\n",
       "      <th>numexchanged</th>\n",
       "    </tr>\n",
       "  </thead>\n",
       "  <tbody>\n",
       "    <tr>\n",
       "      <th>0</th>\n",
       "      <td>2856</td>\n",
       "      <td>291</td>\n",
       "      <td>136</td>\n",
       "      <td>2</td>\n",
       "    </tr>\n",
       "    <tr>\n",
       "      <th>1</th>\n",
       "      <td>1937</td>\n",
       "      <td>299</td>\n",
       "      <td>1</td>\n",
       "      <td>1</td>\n",
       "    </tr>\n",
       "    <tr>\n",
       "      <th>2</th>\n",
       "      <td>516</td>\n",
       "      <td>316</td>\n",
       "      <td>14</td>\n",
       "      <td>3</td>\n",
       "    </tr>\n",
       "    <tr>\n",
       "      <th>3</th>\n",
       "      <td>1049</td>\n",
       "      <td>207</td>\n",
       "      <td>188</td>\n",
       "      <td>4</td>\n",
       "    </tr>\n",
       "    <tr>\n",
       "      <th>4</th>\n",
       "      <td>5131</td>\n",
       "      <td>174</td>\n",
       "      <td>318</td>\n",
       "      <td>18</td>\n",
       "    </tr>\n",
       "    <tr>\n",
       "      <th>...</th>\n",
       "      <td>...</td>\n",
       "      <td>...</td>\n",
       "      <td>...</td>\n",
       "      <td>...</td>\n",
       "    </tr>\n",
       "    <tr>\n",
       "      <th>2832</th>\n",
       "      <td>3497</td>\n",
       "      <td>117</td>\n",
       "      <td>243</td>\n",
       "      <td>4</td>\n",
       "    </tr>\n",
       "    <tr>\n",
       "      <th>2833</th>\n",
       "      <td>3665</td>\n",
       "      <td>198</td>\n",
       "      <td>219</td>\n",
       "      <td>129</td>\n",
       "    </tr>\n",
       "    <tr>\n",
       "      <th>2834</th>\n",
       "      <td>2831</td>\n",
       "      <td>25</td>\n",
       "      <td>291</td>\n",
       "      <td>1</td>\n",
       "    </tr>\n",
       "    <tr>\n",
       "      <th>2835</th>\n",
       "      <td>1462</td>\n",
       "      <td>202</td>\n",
       "      <td>280</td>\n",
       "      <td>10</td>\n",
       "    </tr>\n",
       "    <tr>\n",
       "      <th>2836</th>\n",
       "      <td>1708</td>\n",
       "      <td>271</td>\n",
       "      <td>231</td>\n",
       "      <td>2</td>\n",
       "    </tr>\n",
       "  </tbody>\n",
       "</table>\n",
       "<p>2837 rows × 4 columns</p>\n",
       "</div>"
      ],
      "text/plain": [
       "        id  email  other_email  numexchanged\n",
       "0     2856    291          136             2\n",
       "1     1937    299            1             1\n",
       "2      516    316           14             3\n",
       "3     1049    207          188             4\n",
       "4     5131    174          318            18\n",
       "...    ...    ...          ...           ...\n",
       "2832  3497    117          243             4\n",
       "2833  3665    198          219           129\n",
       "2834  2831     25          291             1\n",
       "2835  1462    202          280            10\n",
       "2836  1708    271          231             2\n",
       "\n",
       "[2837 rows x 4 columns]"
      ]
     },
     "execution_count": 77,
     "metadata": {},
     "output_type": "execute_result"
    }
   ],
   "source": [
    "communication_edges"
   ]
  },
  {
   "cell_type": "code",
   "execution_count": 78,
   "id": "86a8c3f7-2b7c-4804-b2c1-6cee4b1f18cb",
   "metadata": {},
   "outputs": [],
   "source": [
    "# Add in existence\n",
    "communication_edges['exists'] = 1.0\n",
    "\n",
    "# Calculated the missing edges that were blocked.\n",
    "missing_edges = {pair for pair in itertools.permutations(email_nodes['id'], 2)} - {pair for pair in zip(communication_edges['email'], communication_edges['other_email'])}\n",
    "# add in the missing edges\n",
    "row_list = []\n",
    "for email, alt_email in missing_edges:\n",
    "    row_dict = {'email':email, 'other_email':alt_email, 'exists':0 }\n",
    "    row_list.append(row_dict)\n",
    "\n",
    "full_set_communication_edges = pd.concat([communication_edges, pd.DataFrame(row_list)], ignore_index=True)"
   ]
  },
  {
   "cell_type": "code",
   "execution_count": 79,
   "id": "c433c602-9160-4e3f-9f6e-373eebad0ca9",
   "metadata": {},
   "outputs": [],
   "source": [
    "# full_set_communication_edges.to_csv('Communicates.csv', sep ='\\t', index=False, header=False, columns=['email', 'other_email', 'exists'])"
   ]
  },
  {
   "cell_type": "code",
   "execution_count": 80,
   "id": "96c89823-a693-4858-9208-64f860d89e36",
   "metadata": {
    "tags": []
   },
   "outputs": [],
   "source": [
    "sim_network = pd.DataFrame()\n",
    "row_list = []\n",
    "\n",
    "\n",
    "for id_1, id_2 in email_pairs:\n",
    "    \n",
    "    adjacent_nodes_1 = set(communication_edges[communication_edges['email'] == id_1]['other_email'])\n",
    "    adjacent_nodes_2 = set(communication_edges[communication_edges['email'] == id_2]['other_email'])\n",
    "\n",
    "    #print(adjacent_nodes_1)\n",
    "    #print(adjacent_nodes_2)\n",
    "\n",
    "    jaccard_sim =  len(adjacent_nodes_1 & adjacent_nodes_2) / len(adjacent_nodes_1 | adjacent_nodes_2 ) if len(adjacent_nodes_1 | adjacent_nodes_2) != 0 else 0\n",
    "    dice_sim =  (2 * len(adjacent_nodes_1 & adjacent_nodes_2) ) / (len(adjacent_nodes_1) + len(adjacent_nodes_2)) if len(adjacent_nodes_1) + len(adjacent_nodes_2) != 0 else 0\n",
    "    \n",
    "    # dice_sim = \n",
    "    \n",
    "    row_dict = {'email':id_1, 'other_email':id_2, 'jaccard_sim_network':jaccard_sim, 'dice_sim_network':dice_sim}\n",
    "    row_list.append(row_dict)\n",
    "    \n",
    "sim_network = pd.concat([sim_network, pd.DataFrame(row_list)])\n",
    "    "
   ]
  },
  {
   "cell_type": "code",
   "execution_count": 81,
   "id": "ceef394c-2b2c-4337-ab6d-9d13b4ad0739",
   "metadata": {},
   "outputs": [],
   "source": [
    "# Since it's undirected, add in the reverse edges.\n",
    "sim_network_sym = sim_network[['other_email', 'email', 'jaccard_sim_network', 'dice_sim_network']].copy()\n",
    "sim_network_sym.rename(columns = {'other_email':'email', 'email':'other_email'}, inplace = True)\n",
    "\n",
    "sim_network = pd.concat([sim_network, sim_network_sym], ignore_index=True)"
   ]
  },
  {
   "cell_type": "code",
   "execution_count": 82,
   "id": "3acee4f8-cfb0-4e33-89ec-88c86dc8cb4c",
   "metadata": {},
   "outputs": [
    {
     "data": {
      "text/html": [
       "<div>\n",
       "<style scoped>\n",
       "    .dataframe tbody tr th:only-of-type {\n",
       "        vertical-align: middle;\n",
       "    }\n",
       "\n",
       "    .dataframe tbody tr th {\n",
       "        vertical-align: top;\n",
       "    }\n",
       "\n",
       "    .dataframe thead th {\n",
       "        text-align: right;\n",
       "    }\n",
       "</style>\n",
       "<table border=\"1\" class=\"dataframe\">\n",
       "  <thead>\n",
       "    <tr style=\"text-align: right;\">\n",
       "      <th></th>\n",
       "      <th>email</th>\n",
       "      <th>other_email</th>\n",
       "      <th>jaccard_sim_network</th>\n",
       "      <th>dice_sim_network</th>\n",
       "    </tr>\n",
       "  </thead>\n",
       "  <tbody>\n",
       "    <tr>\n",
       "      <th>0</th>\n",
       "      <td>132</td>\n",
       "      <td>268</td>\n",
       "      <td>0.000000</td>\n",
       "      <td>0.000000</td>\n",
       "    </tr>\n",
       "    <tr>\n",
       "      <th>1</th>\n",
       "      <td>266</td>\n",
       "      <td>268</td>\n",
       "      <td>0.000000</td>\n",
       "      <td>0.000000</td>\n",
       "    </tr>\n",
       "    <tr>\n",
       "      <th>2</th>\n",
       "      <td>185</td>\n",
       "      <td>279</td>\n",
       "      <td>0.000000</td>\n",
       "      <td>0.000000</td>\n",
       "    </tr>\n",
       "    <tr>\n",
       "      <th>3</th>\n",
       "      <td>160</td>\n",
       "      <td>222</td>\n",
       "      <td>0.022222</td>\n",
       "      <td>0.043478</td>\n",
       "    </tr>\n",
       "    <tr>\n",
       "      <th>4</th>\n",
       "      <td>220</td>\n",
       "      <td>273</td>\n",
       "      <td>0.034483</td>\n",
       "      <td>0.066667</td>\n",
       "    </tr>\n",
       "    <tr>\n",
       "      <th>...</th>\n",
       "      <td>...</td>\n",
       "      <td>...</td>\n",
       "      <td>...</td>\n",
       "      <td>...</td>\n",
       "    </tr>\n",
       "    <tr>\n",
       "      <th>44305</th>\n",
       "      <td>83</td>\n",
       "      <td>138</td>\n",
       "      <td>0.000000</td>\n",
       "      <td>0.000000</td>\n",
       "    </tr>\n",
       "    <tr>\n",
       "      <th>44306</th>\n",
       "      <td>201</td>\n",
       "      <td>229</td>\n",
       "      <td>0.000000</td>\n",
       "      <td>0.000000</td>\n",
       "    </tr>\n",
       "    <tr>\n",
       "      <th>44307</th>\n",
       "      <td>150</td>\n",
       "      <td>303</td>\n",
       "      <td>0.157895</td>\n",
       "      <td>0.272727</td>\n",
       "    </tr>\n",
       "    <tr>\n",
       "      <th>44308</th>\n",
       "      <td>47</td>\n",
       "      <td>14</td>\n",
       "      <td>0.000000</td>\n",
       "      <td>0.000000</td>\n",
       "    </tr>\n",
       "    <tr>\n",
       "      <th>44309</th>\n",
       "      <td>150</td>\n",
       "      <td>41</td>\n",
       "      <td>0.000000</td>\n",
       "      <td>0.000000</td>\n",
       "    </tr>\n",
       "  </tbody>\n",
       "</table>\n",
       "<p>44310 rows × 4 columns</p>\n",
       "</div>"
      ],
      "text/plain": [
       "       email  other_email  jaccard_sim_network  dice_sim_network\n",
       "0        132          268             0.000000          0.000000\n",
       "1        266          268             0.000000          0.000000\n",
       "2        185          279             0.000000          0.000000\n",
       "3        160          222             0.022222          0.043478\n",
       "4        220          273             0.034483          0.066667\n",
       "...      ...          ...                  ...               ...\n",
       "44305     83          138             0.000000          0.000000\n",
       "44306    201          229             0.000000          0.000000\n",
       "44307    150          303             0.157895          0.272727\n",
       "44308     47           14             0.000000          0.000000\n",
       "44309    150           41             0.000000          0.000000\n",
       "\n",
       "[44310 rows x 4 columns]"
      ]
     },
     "execution_count": 82,
     "metadata": {},
     "output_type": "execute_result"
    }
   ],
   "source": [
    "sim_network"
   ]
  },
  {
   "cell_type": "code",
   "execution_count": 83,
   "id": "d748a063-e147-44b5-a4e5-b3a32a5ab845",
   "metadata": {},
   "outputs": [],
   "source": [
    "duplicates = {(pair[0], pair[1]) for pair in zip(full_set_coref_edges_data[full_set_coref_edges_data['exists'] == 1.0]['email'], full_set_coref_edges_data[full_set_coref_edges_data['exists'] == 1.0]['alt_email'])}"
   ]
  },
  {
   "cell_type": "code",
   "execution_count": 84,
   "id": "24652eb2-5f41-4590-ae45-ec6b5f561482",
   "metadata": {},
   "outputs": [],
   "source": [
    "filtered_frame = pd.DataFrame()\n",
    "row_list = []\n",
    "\n",
    "for index in sim_network.index:\n",
    "    if (sim_network.iloc[index]['email'], sim_network.iloc[index]['other_email']) in duplicates:\n",
    "        row_dict = {'email': sim_network.iloc[index]['email'], 'other_email': sim_network.iloc[index]['other_email'], \"jaccard_sim_network\": sim_network.iloc[index]['jaccard_sim_network'], \"dice_sim_network\": sim_network.iloc[index]['dice_sim_network']}\n",
    "        row_list.append(row_dict)\n",
    "        \n",
    "filtered_frame = pd.concat([filtered_frame, pd.DataFrame(row_list)], ignore_index=True)"
   ]
  },
  {
   "cell_type": "code",
   "execution_count": 85,
   "id": "aec1afbc-74c9-47d7-a2b4-c24d65d050d1",
   "metadata": {},
   "outputs": [
    {
     "data": {
      "text/plain": [
       "count    212.000000\n",
       "mean       0.073877\n",
       "std        0.142050\n",
       "min        0.000000\n",
       "25%        0.000000\n",
       "50%        0.000000\n",
       "75%        0.133333\n",
       "max        0.816327\n",
       "Name: jaccard_sim_network, dtype: float64"
      ]
     },
     "execution_count": 85,
     "metadata": {},
     "output_type": "execute_result"
    }
   ],
   "source": [
    "filtered_frame[\"jaccard_sim_network\"].describe()"
   ]
  },
  {
   "cell_type": "code",
   "execution_count": 86,
   "id": "66c76da7-68fa-459a-9581-9ce192064c4a",
   "metadata": {},
   "outputs": [
    {
     "data": {
      "image/png": "[encoded data removed]",
      "text/plain": [
       "<Figure size 1000x500 with 1 Axes>"
      ]
     },
     "metadata": {},
     "output_type": "display_data"
    }
   ],
   "source": [
    "from matplotlib import pyplot as plt\n",
    "\n",
    "fig, axis = plt.subplots(figsize = (10, 5))\n",
    "axis.hist(filtered_frame[\"jaccard_sim_network\"], bins = [0, 0.05, 0.1, 0.15, .20, 0.25, 0.255, 0.30, 0.35, 0.40, 0.50, 0.55, .60, 0.65, 0.70, 0.75, .80, 0.85, 0.90, 0.95, 1.00])\n",
    "# Displaying the graph\n",
    "plt.show()"
   ]
  },
  {
   "cell_type": "code",
   "execution_count": 87,
   "id": "240d2ce0-bd83-4851-b942-9fda8b64a225",
   "metadata": {},
   "outputs": [
    {
     "data": {
      "text/plain": [
       "count    44310.000000\n",
       "mean         0.033539\n",
       "std          0.070383\n",
       "min          0.000000\n",
       "25%          0.000000\n",
       "50%          0.000000\n",
       "75%          0.040000\n",
       "max          1.000000\n",
       "Name: jaccard_sim_network, dtype: float64"
      ]
     },
     "execution_count": 87,
     "metadata": {},
     "output_type": "execute_result"
    }
   ],
   "source": [
    "sim_network[\"jaccard_sim_network\"].describe()"
   ]
  },
  {
   "cell_type": "code",
   "execution_count": 88,
   "id": "c5159a05-4a1b-43fe-8047-193d6df4d589",
   "metadata": {},
   "outputs": [
    {
     "data": {
      "text/plain": [
       "count    212.000000\n",
       "mean       0.112360\n",
       "std        0.194552\n",
       "min        0.000000\n",
       "25%        0.000000\n",
       "50%        0.000000\n",
       "75%        0.235294\n",
       "max        0.898876\n",
       "Name: dice_sim_network, dtype: float64"
      ]
     },
     "execution_count": 88,
     "metadata": {},
     "output_type": "execute_result"
    }
   ],
   "source": [
    "filtered_frame[\"dice_sim_network\"].describe()"
   ]
  },
  {
   "cell_type": "code",
   "execution_count": 89,
   "id": "a0fc95bd-120b-497a-98b9-98d37c760cc7",
   "metadata": {},
   "outputs": [],
   "source": [
    "# sim_network.to_csv('Sim_Jaccard_Network.csv', sep ='\\t', index=False, header=False, columns=['email', 'other_email', 'jaccard_sim_network'])"
   ]
  },
  {
   "cell_type": "code",
   "execution_count": 90,
   "id": "f9de3d9a-3f8a-4f46-a7f0-f3470ef41578",
   "metadata": {},
   "outputs": [
    {
     "data": {
      "image/png": "[encoded data removed]",
      "text/plain": [
       "<Figure size 1000x500 with 1 Axes>"
      ]
     },
     "metadata": {},
     "output_type": "display_data"
    }
   ],
   "source": [
    "fig, axis = plt.subplots(figsize = (10, 5))\n",
    "axis.hist(filtered_frame[\"dice_sim_network\"], bins = [0, 0.05, 0.1, 0.15, .20, 0.25, 0.255, 0.30, 0.35, 0.40, 0.50, 0.55, .60, 0.65, 0.70, 0.75, .80, 0.85, 0.90, 0.95, 1.00] )\n",
    "# Displaying the graph\n",
    "plt.show()"
   ]
  },
  {
   "cell_type": "code",
   "execution_count": 91,
   "id": "0ef8b9c0-176d-487d-947c-c303a61d7c91",
   "metadata": {},
   "outputs": [],
   "source": [
    "# TODO: why isn't this printing mostly \"exists\"?\n",
    "# for pair in zip(sim_network[sim_network['jaccard_sim_network'] > 0.5]['email'], sim_network[sim_network['jaccard_sim_network'] > 0.5]['other_email']):\n",
    "#     print(full_set_coref_edges_data[(full_set_coref_edges_data['email'] == pair[0]) & (full_set_coref_edges_data['alt_email'] == pair[1])]['exists'])\n",
    "#     print(\"--------\")"
   ]
  },
  {
   "cell_type": "code",
   "execution_count": null,
   "id": "26e9716c-bb9e-4cae-89f5-d1a4cec08058",
   "metadata": {
    "collapsed": true,
    "jupyter": {
     "outputs_hidden": true
    }
   },
   "outputs": [],
   "source": []
  },
  {
   "cell_type": "code",
   "execution_count": 92,
   "id": "3b82540a-8f0b-4a65-8690-f45287c0a40c",
   "metadata": {
    "tags": []
   },
   "outputs": [],
   "source": [
    "# TODO: why isn't this printing mostly \"exists\"?\n",
    "# for pair in zip(sim_network[sim_network['jaccard_sim_network'] > 0.5]['email'], sim_network[sim_network['jaccard_sim_network'] > 0.5]['other_email']):\n",
    "#     print(full_set_coref_edges_data[(full_set_coref_edges_data['email'] == pair[0]) & (full_set_coref_edges_data['alt_email'] == pair[1])]['exists'])\n",
    "#     print(\"--------\")"
   ]
  }
 ],
 "metadata": {
  "kernelspec": {
   "display_name": "Python 3 (ipykernel)",
   "language": "python",
   "name": "python3"
  },
  "language_info": {
   "codemirror_mode": {
    "name": "ipython",
    "version": 3
   },
   "file_extension": ".py",
   "mimetype": "text/x-python",
   "name": "python",
   "nbconvert_exporter": "python",
   "pygments_lexer": "ipython3",
   "version": "3.10.8"
  }
 },
 "nbformat": 4,
 "nbformat_minor": 5
}
