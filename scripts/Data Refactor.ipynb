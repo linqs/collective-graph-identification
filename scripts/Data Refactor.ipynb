{
 "cells": [
  {
   "cell_type": "markdown",
   "id": "2f5c40c3",
   "metadata": {
    "tags": []
   },
   "source": [
    "# This notebook stores each step of refactoring the graph data into PSL data"
   ]
  },
  {
   "cell_type": "code",
   "execution_count": 1,
   "id": "6411d281-8dec-4dc2-a5ac-556ff4f07f88",
   "metadata": {
    "tags": []
   },
   "outputs": [],
   "source": [
    "# No space between equals sign is necessary, so we can treat these as Bash variables as well.\n",
    "FILE_GROUND_TRUTH_EMAIL_NODES='../c3/namata-kdd11-data/enron/enron-samples-lowunk/outputgraph/enron.NODE.email.tab'\n",
    "FILE_GROUND_TRUTH_COREF_EDGES='../c3/namata-kdd11-data/enron/enron-samples-lowunk/outputgraph/enron.UNDIRECTED.coref.tab'\n",
    "FILE_GROUND_TRUTH_MANAGES_EDGES='../c3/namata-kdd11-data/enron/enron-samples-lowunk/outputgraph/enron.UNDIRECTED.email-submgr.tab'\n",
    "FILE_GROUND_TRUTH_COMMUNICATION_EDGES='../c3/namata-kdd11-data/enron/enron-samples-lowunk/outputgraph/enron.DIRECTED.sentto.tab'\n",
    "\n",
    "\n",
    "FILE_SAMPLE_EMAIL_NODES='../c3/namata-kdd11-data/enron/enron-samples-lowunk/enron-sample-lowunk-6of6/sample-enron.NODE.email.tab'\n",
    "FILE_SAMPLE_COREF_EDGES='../c3/namata-kdd11-data/enron/enron-samples-lowunk/enron-sample-lowunk-6of6/sample-enron.UNDIRECTED.coref.tab'\n",
    "FILE_SAMPLE_MANAGES_EDGES='../c3/namata-kdd11-data/enron/enron-samples-lowunk/enron-sample-lowunk-6of6/sample-enron.UNDIRECTED.email-submgr.tab'\n"
   ]
  },
  {
   "cell_type": "markdown",
   "id": "5b913c78",
   "metadata": {
    "jp-MarkdownHeadingCollapsed": true,
    "tags": []
   },
   "source": [
    "## These functions help parse the .tab files."
   ]
  },
  {
   "cell_type": "code",
   "execution_count": 2,
   "id": "d983d7bb",
   "metadata": {},
   "outputs": [],
   "source": [
    "import pandas as pd\n",
    "import numpy as np\n",
    "import re\n",
    "import itertools # for cross products when filling in a full PSL dataset"
   ]
  },
  {
   "cell_type": "code",
   "execution_count": 3,
   "id": "57353b11",
   "metadata": {},
   "outputs": [],
   "source": [
    "# assigns types to each column\n",
    "def resolve_column_type(table):\n",
    "    for column in table.columns:\n",
    "        if column in {'id', 'email', 'alt_email', 'other_email' , 'numsent', 'numreceived', 'numexchanged'}:\n",
    "            table[column] = table[column].astype(str).astype(float).astype(int)\n",
    "        # convert bag-of-words columns to floats (since ints won't take NaNs)\n",
    "        elif re.match(\"w-\", column):\n",
    "            table[column] = table[column].astype(str).astype(float)\n",
    "\n",
    "# extracts feature name from an element in a raw tab row\n",
    "# returns: tuple (feature_name, feature_value, optional_value)\n",
    "def get_feature_tuple(feature):\n",
    "    feature_data = re.split(r\"[:=]\", feature)\n",
    "    return feature_data\n",
    "    \n",
    "\n",
    "# loads the *.tab files into a Pandas Dataframe.\n",
    "# returns: pd.DataFrame(columns=features)\n",
    "def load_table(filename):\n",
    "\n",
    "    # initialize the pandas dataframe\n",
    "    node_data = pd.DataFrame()\n",
    "\n",
    "\n",
    "    with open(filename) as infile:\n",
    "        i = 0\n",
    "        row_list = []\n",
    "        for row in infile:\n",
    "    \n",
    "            #print('i is: ', i)\n",
    "\n",
    "            if i == 0:\n",
    "                # Skip non-useful first line\n",
    "                print(\"Header: \", row)\n",
    "            elif i == 1:\n",
    "                # Prepare dataframe column labels\n",
    "                tokens = row.split()\n",
    "                if len(tokens) == 1:\n",
    "                    print(\"This is not a NODE file, so don't load this row\")\n",
    "                else:  \n",
    "                    features = [\"id\"] + [get_feature_tuple(feature)[1] for feature in tokens]\n",
    "                    node_data = pd.DataFrame(columns=features)\n",
    "            else:\n",
    "          \n",
    "                # this is to help the function generalize among the NODE and EDGE files.\n",
    "                # EDGE files have a \"|\" character, which needs to be removed for proper feature decoupling\n",
    "                row = re.sub(r'\\|','', row)\n",
    "            \n",
    "                tokens = row.split()\n",
    "\n",
    "                # the first token doesn't need splitting\n",
    "                row_dict = {'id':tokens[0]}\n",
    "                row_dict.update({get_feature_tuple(token)[0]:get_feature_tuple(token)[1] for token in tokens[1:]})\n",
    "                row_list.append(row_dict)\n",
    "        \n",
    "            i += 1\n",
    "        \n",
    "        # Fill in rows\n",
    "        node_data = pd.concat([node_data, pd.DataFrame(row_list)], ignore_index=True)\n",
    "\n",
    "    return node_data"
   ]
  },
  {
   "cell_type": "markdown",
   "id": "7e08167d",
   "metadata": {
    "tags": []
   },
   "source": [
    "# Process the email nodes"
   ]
  },
  {
   "cell_type": "markdown",
   "id": "48daee0e-d2bc-46e2-a209-403371aa8d47",
   "metadata": {
    "tags": []
   },
   "source": [
    "## Get ground truth"
   ]
  },
  {
   "cell_type": "code",
   "execution_count": 4,
   "id": "d21fa39d",
   "metadata": {},
   "outputs": [
    {
     "name": "stdout",
     "output_type": "stream",
     "text": [
      "Header:  NODE\temail\n",
      "\n"
     ]
    },
    {
     "data": {
      "text/plain": [
       "id                int64\n",
       "emailaddress     object\n",
       "numsent           int64\n",
       "numreceived       int64\n",
       "numexchanged      int64\n",
       "                 ...   \n",
       "w-kinney        float64\n",
       "w-veselack      float64\n",
       "w-mwhitt        float64\n",
       "w-jarnold       float64\n",
       "title            object\n",
       "Length: 5119, dtype: object"
      ]
     },
     "execution_count": 4,
     "metadata": {},
     "output_type": "execute_result"
    }
   ],
   "source": [
    "email_nodes = load_table(FILE_GROUND_TRUTH_EMAIL_NODES)\n",
    "# remove the (unnecessary) second to last column (it came from an ambiguous parse splits)\n",
    "email_nodes.drop('other,manager,specialist,director,executive', axis=1, inplace=True)\n",
    "resolve_column_type(email_nodes)\n",
    "\n",
    "email_nodes.dtypes"
   ]
  },
  {
   "cell_type": "code",
   "execution_count": 5,
   "id": "dd5f0110",
   "metadata": {
    "scrolled": true,
    "tags": []
   },
   "outputs": [
    {
     "data": {
      "text/html": [
       "<div>\n",
       "<style scoped>\n",
       "    .dataframe tbody tr th:only-of-type {\n",
       "        vertical-align: middle;\n",
       "    }\n",
       "\n",
       "    .dataframe tbody tr th {\n",
       "        vertical-align: top;\n",
       "    }\n",
       "\n",
       "    .dataframe thead th {\n",
       "        text-align: right;\n",
       "    }\n",
       "</style>\n",
       "<table border=\"1\" class=\"dataframe\">\n",
       "  <thead>\n",
       "    <tr style=\"text-align: right;\">\n",
       "      <th></th>\n",
       "      <th>id</th>\n",
       "      <th>emailaddress</th>\n",
       "      <th>numsent</th>\n",
       "      <th>numreceived</th>\n",
       "      <th>numexchanged</th>\n",
       "      <th>w-gerald</th>\n",
       "      <th>w-know</th>\n",
       "      <th>w-busi</th>\n",
       "      <th>w-mexicana</th>\n",
       "      <th>w-transact</th>\n",
       "      <th>...</th>\n",
       "      <th>w-bartlo</th>\n",
       "      <th>w-columbiagassubject</th>\n",
       "      <th>w-perron</th>\n",
       "      <th>w-coh</th>\n",
       "      <th>w-agl</th>\n",
       "      <th>w-kinney</th>\n",
       "      <th>w-veselack</th>\n",
       "      <th>w-mwhitt</th>\n",
       "      <th>w-jarnold</th>\n",
       "      <th>title</th>\n",
       "    </tr>\n",
       "  </thead>\n",
       "  <tbody>\n",
       "    <tr>\n",
       "      <th>0</th>\n",
       "      <td>283</td>\n",
       "      <td>c..koehler@enron.com</td>\n",
       "      <td>128</td>\n",
       "      <td>606</td>\n",
       "      <td>734</td>\n",
       "      <td>1.0</td>\n",
       "      <td>1.0</td>\n",
       "      <td>1.0</td>\n",
       "      <td>NaN</td>\n",
       "      <td>1.0</td>\n",
       "      <td>...</td>\n",
       "      <td>NaN</td>\n",
       "      <td>NaN</td>\n",
       "      <td>NaN</td>\n",
       "      <td>NaN</td>\n",
       "      <td>NaN</td>\n",
       "      <td>NaN</td>\n",
       "      <td>NaN</td>\n",
       "      <td>NaN</td>\n",
       "      <td>NaN</td>\n",
       "      <td>director</td>\n",
       "    </tr>\n",
       "    <tr>\n",
       "      <th>1</th>\n",
       "      <td>98</td>\n",
       "      <td>scott.goodell@enron.com</td>\n",
       "      <td>98</td>\n",
       "      <td>607</td>\n",
       "      <td>705</td>\n",
       "      <td>1.0</td>\n",
       "      <td>1.0</td>\n",
       "      <td>1.0</td>\n",
       "      <td>NaN</td>\n",
       "      <td>1.0</td>\n",
       "      <td>...</td>\n",
       "      <td>1.0</td>\n",
       "      <td>1.0</td>\n",
       "      <td>1.0</td>\n",
       "      <td>1.0</td>\n",
       "      <td>1.0</td>\n",
       "      <td>1.0</td>\n",
       "      <td>1.0</td>\n",
       "      <td>NaN</td>\n",
       "      <td>NaN</td>\n",
       "      <td>specialist</td>\n",
       "    </tr>\n",
       "    <tr>\n",
       "      <th>2</th>\n",
       "      <td>183</td>\n",
       "      <td>p..south@enron.com</td>\n",
       "      <td>8</td>\n",
       "      <td>351</td>\n",
       "      <td>359</td>\n",
       "      <td>1.0</td>\n",
       "      <td>1.0</td>\n",
       "      <td>1.0</td>\n",
       "      <td>NaN</td>\n",
       "      <td>NaN</td>\n",
       "      <td>...</td>\n",
       "      <td>NaN</td>\n",
       "      <td>NaN</td>\n",
       "      <td>NaN</td>\n",
       "      <td>NaN</td>\n",
       "      <td>NaN</td>\n",
       "      <td>NaN</td>\n",
       "      <td>NaN</td>\n",
       "      <td>NaN</td>\n",
       "      <td>NaN</td>\n",
       "      <td>director</td>\n",
       "    </tr>\n",
       "    <tr>\n",
       "      <th>3</th>\n",
       "      <td>204</td>\n",
       "      <td>lavorato@enron.com</td>\n",
       "      <td>388</td>\n",
       "      <td>3</td>\n",
       "      <td>391</td>\n",
       "      <td>NaN</td>\n",
       "      <td>1.0</td>\n",
       "      <td>1.0</td>\n",
       "      <td>NaN</td>\n",
       "      <td>1.0</td>\n",
       "      <td>...</td>\n",
       "      <td>NaN</td>\n",
       "      <td>NaN</td>\n",
       "      <td>NaN</td>\n",
       "      <td>NaN</td>\n",
       "      <td>NaN</td>\n",
       "      <td>NaN</td>\n",
       "      <td>NaN</td>\n",
       "      <td>NaN</td>\n",
       "      <td>NaN</td>\n",
       "      <td>executive</td>\n",
       "    </tr>\n",
       "    <tr>\n",
       "      <th>4</th>\n",
       "      <td>318</td>\n",
       "      <td>mike.grigsby@enron.com</td>\n",
       "      <td>3702</td>\n",
       "      <td>490</td>\n",
       "      <td>4192</td>\n",
       "      <td>1.0</td>\n",
       "      <td>1.0</td>\n",
       "      <td>1.0</td>\n",
       "      <td>1.0</td>\n",
       "      <td>1.0</td>\n",
       "      <td>...</td>\n",
       "      <td>NaN</td>\n",
       "      <td>NaN</td>\n",
       "      <td>NaN</td>\n",
       "      <td>NaN</td>\n",
       "      <td>NaN</td>\n",
       "      <td>NaN</td>\n",
       "      <td>NaN</td>\n",
       "      <td>NaN</td>\n",
       "      <td>NaN</td>\n",
       "      <td>executive</td>\n",
       "    </tr>\n",
       "    <tr>\n",
       "      <th>...</th>\n",
       "      <td>...</td>\n",
       "      <td>...</td>\n",
       "      <td>...</td>\n",
       "      <td>...</td>\n",
       "      <td>...</td>\n",
       "      <td>...</td>\n",
       "      <td>...</td>\n",
       "      <td>...</td>\n",
       "      <td>...</td>\n",
       "      <td>...</td>\n",
       "      <td>...</td>\n",
       "      <td>...</td>\n",
       "      <td>...</td>\n",
       "      <td>...</td>\n",
       "      <td>...</td>\n",
       "      <td>...</td>\n",
       "      <td>...</td>\n",
       "      <td>...</td>\n",
       "      <td>...</td>\n",
       "      <td>...</td>\n",
       "      <td>...</td>\n",
       "    </tr>\n",
       "    <tr>\n",
       "      <th>206</th>\n",
       "      <td>114</td>\n",
       "      <td>vkamins@enron.com</td>\n",
       "      <td>0</td>\n",
       "      <td>12</td>\n",
       "      <td>12</td>\n",
       "      <td>NaN</td>\n",
       "      <td>1.0</td>\n",
       "      <td>1.0</td>\n",
       "      <td>NaN</td>\n",
       "      <td>1.0</td>\n",
       "      <td>...</td>\n",
       "      <td>NaN</td>\n",
       "      <td>NaN</td>\n",
       "      <td>NaN</td>\n",
       "      <td>NaN</td>\n",
       "      <td>NaN</td>\n",
       "      <td>NaN</td>\n",
       "      <td>NaN</td>\n",
       "      <td>NaN</td>\n",
       "      <td>NaN</td>\n",
       "      <td>director</td>\n",
       "    </tr>\n",
       "    <tr>\n",
       "      <th>207</th>\n",
       "      <td>270</td>\n",
       "      <td>david.duran@enron.com</td>\n",
       "      <td>7</td>\n",
       "      <td>145</td>\n",
       "      <td>152</td>\n",
       "      <td>NaN</td>\n",
       "      <td>1.0</td>\n",
       "      <td>1.0</td>\n",
       "      <td>NaN</td>\n",
       "      <td>1.0</td>\n",
       "      <td>...</td>\n",
       "      <td>NaN</td>\n",
       "      <td>NaN</td>\n",
       "      <td>NaN</td>\n",
       "      <td>NaN</td>\n",
       "      <td>NaN</td>\n",
       "      <td>NaN</td>\n",
       "      <td>NaN</td>\n",
       "      <td>NaN</td>\n",
       "      <td>NaN</td>\n",
       "      <td>director</td>\n",
       "    </tr>\n",
       "    <tr>\n",
       "      <th>208</th>\n",
       "      <td>282</td>\n",
       "      <td>sean.crandall@enron.com</td>\n",
       "      <td>94</td>\n",
       "      <td>138</td>\n",
       "      <td>232</td>\n",
       "      <td>NaN</td>\n",
       "      <td>1.0</td>\n",
       "      <td>1.0</td>\n",
       "      <td>NaN</td>\n",
       "      <td>1.0</td>\n",
       "      <td>...</td>\n",
       "      <td>NaN</td>\n",
       "      <td>NaN</td>\n",
       "      <td>NaN</td>\n",
       "      <td>NaN</td>\n",
       "      <td>NaN</td>\n",
       "      <td>NaN</td>\n",
       "      <td>NaN</td>\n",
       "      <td>NaN</td>\n",
       "      <td>NaN</td>\n",
       "      <td>director</td>\n",
       "    </tr>\n",
       "    <tr>\n",
       "      <th>209</th>\n",
       "      <td>243</td>\n",
       "      <td>kevin.presto@enron.com</td>\n",
       "      <td>248</td>\n",
       "      <td>198</td>\n",
       "      <td>446</td>\n",
       "      <td>1.0</td>\n",
       "      <td>1.0</td>\n",
       "      <td>1.0</td>\n",
       "      <td>NaN</td>\n",
       "      <td>1.0</td>\n",
       "      <td>...</td>\n",
       "      <td>NaN</td>\n",
       "      <td>NaN</td>\n",
       "      <td>NaN</td>\n",
       "      <td>NaN</td>\n",
       "      <td>NaN</td>\n",
       "      <td>NaN</td>\n",
       "      <td>NaN</td>\n",
       "      <td>NaN</td>\n",
       "      <td>NaN</td>\n",
       "      <td>executive</td>\n",
       "    </tr>\n",
       "    <tr>\n",
       "      <th>210</th>\n",
       "      <td>131</td>\n",
       "      <td>dave.fuller@enron.com</td>\n",
       "      <td>165</td>\n",
       "      <td>129</td>\n",
       "      <td>294</td>\n",
       "      <td>1.0</td>\n",
       "      <td>1.0</td>\n",
       "      <td>1.0</td>\n",
       "      <td>NaN</td>\n",
       "      <td>1.0</td>\n",
       "      <td>...</td>\n",
       "      <td>NaN</td>\n",
       "      <td>NaN</td>\n",
       "      <td>NaN</td>\n",
       "      <td>NaN</td>\n",
       "      <td>NaN</td>\n",
       "      <td>NaN</td>\n",
       "      <td>NaN</td>\n",
       "      <td>NaN</td>\n",
       "      <td>NaN</td>\n",
       "      <td>manager</td>\n",
       "    </tr>\n",
       "  </tbody>\n",
       "</table>\n",
       "<p>211 rows × 5119 columns</p>\n",
       "</div>"
      ],
      "text/plain": [
       "      id             emailaddress  numsent  numreceived  numexchanged   \n",
       "0    283     c..koehler@enron.com      128          606           734  \\\n",
       "1     98  scott.goodell@enron.com       98          607           705   \n",
       "2    183       p..south@enron.com        8          351           359   \n",
       "3    204       lavorato@enron.com      388            3           391   \n",
       "4    318   mike.grigsby@enron.com     3702          490          4192   \n",
       "..   ...                      ...      ...          ...           ...   \n",
       "206  114        vkamins@enron.com        0           12            12   \n",
       "207  270    david.duran@enron.com        7          145           152   \n",
       "208  282  sean.crandall@enron.com       94          138           232   \n",
       "209  243   kevin.presto@enron.com      248          198           446   \n",
       "210  131    dave.fuller@enron.com      165          129           294   \n",
       "\n",
       "     w-gerald  w-know  w-busi  w-mexicana  w-transact  ...  w-bartlo   \n",
       "0         1.0     1.0     1.0         NaN         1.0  ...       NaN  \\\n",
       "1         1.0     1.0     1.0         NaN         1.0  ...       1.0   \n",
       "2         1.0     1.0     1.0         NaN         NaN  ...       NaN   \n",
       "3         NaN     1.0     1.0         NaN         1.0  ...       NaN   \n",
       "4         1.0     1.0     1.0         1.0         1.0  ...       NaN   \n",
       "..        ...     ...     ...         ...         ...  ...       ...   \n",
       "206       NaN     1.0     1.0         NaN         1.0  ...       NaN   \n",
       "207       NaN     1.0     1.0         NaN         1.0  ...       NaN   \n",
       "208       NaN     1.0     1.0         NaN         1.0  ...       NaN   \n",
       "209       1.0     1.0     1.0         NaN         1.0  ...       NaN   \n",
       "210       1.0     1.0     1.0         NaN         1.0  ...       NaN   \n",
       "\n",
       "     w-columbiagassubject  w-perron  w-coh  w-agl  w-kinney  w-veselack   \n",
       "0                     NaN       NaN    NaN    NaN       NaN         NaN  \\\n",
       "1                     1.0       1.0    1.0    1.0       1.0         1.0   \n",
       "2                     NaN       NaN    NaN    NaN       NaN         NaN   \n",
       "3                     NaN       NaN    NaN    NaN       NaN         NaN   \n",
       "4                     NaN       NaN    NaN    NaN       NaN         NaN   \n",
       "..                    ...       ...    ...    ...       ...         ...   \n",
       "206                   NaN       NaN    NaN    NaN       NaN         NaN   \n",
       "207                   NaN       NaN    NaN    NaN       NaN         NaN   \n",
       "208                   NaN       NaN    NaN    NaN       NaN         NaN   \n",
       "209                   NaN       NaN    NaN    NaN       NaN         NaN   \n",
       "210                   NaN       NaN    NaN    NaN       NaN         NaN   \n",
       "\n",
       "     w-mwhitt  w-jarnold       title  \n",
       "0         NaN        NaN    director  \n",
       "1         NaN        NaN  specialist  \n",
       "2         NaN        NaN    director  \n",
       "3         NaN        NaN   executive  \n",
       "4         NaN        NaN   executive  \n",
       "..        ...        ...         ...  \n",
       "206       NaN        NaN    director  \n",
       "207       NaN        NaN    director  \n",
       "208       NaN        NaN    director  \n",
       "209       NaN        NaN   executive  \n",
       "210       NaN        NaN     manager  \n",
       "\n",
       "[211 rows x 5119 columns]"
      ]
     },
     "execution_count": 5,
     "metadata": {},
     "output_type": "execute_result"
    }
   ],
   "source": [
    "email_nodes"
   ]
  },
  {
   "cell_type": "code",
   "execution_count": 6,
   "id": "9be8f0c9",
   "metadata": {
    "tags": []
   },
   "outputs": [],
   "source": [
    "# Takes a table and fills the missing pairs and values to specify a full, sufficient set\n",
    "# So far it only works with binary predicates\n",
    "def fill_observed_missing_possibilities(table, arguments, values):\n",
    "    total_possibilities = set(itertools.product(list(table[arguments[0]]), values))\n",
    "    already_observed_possibilities = set((table.loc[index][arguments[0]], table.loc[index][arguments[1]]) for index in table.index)\n",
    "\n",
    "    missing_possibilities = total_possibilities - already_observed_possibilities\n",
    "    row_list = []\n",
    "    for arg_0, arg_1 in missing_possibilities:\n",
    "        row_dict = {arguments[0]:arg_0, arguments[1]:arg_1, arguments[2]:0 }\n",
    "        row_list.append(row_dict)\n",
    "        \n",
    "    return pd.concat([table, pd.DataFrame(row_list)], ignore_index=True)"
   ]
  },
  {
   "cell_type": "code",
   "execution_count": 7,
   "id": "ab43913d-8454-48dc-8456-94bda2a96c3a",
   "metadata": {
    "tags": []
   },
   "outputs": [
    {
     "data": {
      "text/html": [
       "<div>\n",
       "<style scoped>\n",
       "    .dataframe tbody tr th:only-of-type {\n",
       "        vertical-align: middle;\n",
       "    }\n",
       "\n",
       "    .dataframe tbody tr th {\n",
       "        vertical-align: top;\n",
       "    }\n",
       "\n",
       "    .dataframe thead th {\n",
       "        text-align: right;\n",
       "    }\n",
       "</style>\n",
       "<table border=\"1\" class=\"dataframe\">\n",
       "  <thead>\n",
       "    <tr style=\"text-align: right;\">\n",
       "      <th></th>\n",
       "      <th>id</th>\n",
       "      <th>title</th>\n",
       "      <th>exists</th>\n",
       "    </tr>\n",
       "  </thead>\n",
       "  <tbody>\n",
       "    <tr>\n",
       "      <th>0</th>\n",
       "      <td>283</td>\n",
       "      <td>3</td>\n",
       "      <td>1.0</td>\n",
       "    </tr>\n",
       "    <tr>\n",
       "      <th>1</th>\n",
       "      <td>98</td>\n",
       "      <td>2</td>\n",
       "      <td>1.0</td>\n",
       "    </tr>\n",
       "    <tr>\n",
       "      <th>2</th>\n",
       "      <td>183</td>\n",
       "      <td>3</td>\n",
       "      <td>1.0</td>\n",
       "    </tr>\n",
       "    <tr>\n",
       "      <th>3</th>\n",
       "      <td>204</td>\n",
       "      <td>4</td>\n",
       "      <td>1.0</td>\n",
       "    </tr>\n",
       "    <tr>\n",
       "      <th>4</th>\n",
       "      <td>318</td>\n",
       "      <td>4</td>\n",
       "      <td>1.0</td>\n",
       "    </tr>\n",
       "    <tr>\n",
       "      <th>...</th>\n",
       "      <td>...</td>\n",
       "      <td>...</td>\n",
       "      <td>...</td>\n",
       "    </tr>\n",
       "    <tr>\n",
       "      <th>1050</th>\n",
       "      <td>182</td>\n",
       "      <td>4</td>\n",
       "      <td>0.0</td>\n",
       "    </tr>\n",
       "    <tr>\n",
       "      <th>1051</th>\n",
       "      <td>308</td>\n",
       "      <td>0</td>\n",
       "      <td>0.0</td>\n",
       "    </tr>\n",
       "    <tr>\n",
       "      <th>1052</th>\n",
       "      <td>46</td>\n",
       "      <td>0</td>\n",
       "      <td>0.0</td>\n",
       "    </tr>\n",
       "    <tr>\n",
       "      <th>1053</th>\n",
       "      <td>202</td>\n",
       "      <td>0</td>\n",
       "      <td>0.0</td>\n",
       "    </tr>\n",
       "    <tr>\n",
       "      <th>1054</th>\n",
       "      <td>26</td>\n",
       "      <td>3</td>\n",
       "      <td>0.0</td>\n",
       "    </tr>\n",
       "  </tbody>\n",
       "</table>\n",
       "<p>1055 rows × 3 columns</p>\n",
       "</div>"
      ],
      "text/plain": [
       "       id  title  exists\n",
       "0     283      3     1.0\n",
       "1      98      2     1.0\n",
       "2     183      3     1.0\n",
       "3     204      4     1.0\n",
       "4     318      4     1.0\n",
       "...   ...    ...     ...\n",
       "1050  182      4     0.0\n",
       "1051  308      0     0.0\n",
       "1052   46      0     0.0\n",
       "1053  202      0     0.0\n",
       "1054   26      3     0.0\n",
       "\n",
       "[1055 rows x 3 columns]"
      ]
     },
     "execution_count": 7,
     "metadata": {},
     "output_type": "execute_result"
    }
   ],
   "source": [
    "# Grab necessary columns, in preparation for dumping the whole ground truth data\n",
    "email_nodes_data = email_nodes[['id','title']].copy()\n",
    "\n",
    "# convert titles to integers, so PSL can ground faster\n",
    "title_map = {\"other\": 0, \"manager\": 1, \"specialist\": 2, \"director\": 3, \"executive\": 4}\n",
    "\n",
    "email_nodes_data = email_nodes_data.replace({'title': title_map})\n",
    "email_nodes_data['exists'] = 1.0\n",
    "\n",
    "full_set_email_has_label_data = fill_observed_missing_possibilities(email_nodes_data, ['id', 'title', 'exists'], list(title_map.values()))\n",
    "full_set_email_has_label_data"
   ]
  },
  {
   "cell_type": "code",
   "execution_count": 8,
   "id": "9801aa44-28d7-4efd-b7bc-2661d59dd7b3",
   "metadata": {},
   "outputs": [],
   "source": [
    "# Outputs all data (obs+truth)\n",
    "# full_set_email_has_label_data.to_csv('EmailHasLabel_data.csv', sep ='\\t', index=False, header=False, columns=['id', 'title', 'exists'])"
   ]
  },
  {
   "cell_type": "markdown",
   "id": "711200e4-4ae7-4b81-8cf2-4b3e09dcf4e1",
   "metadata": {
    "tags": []
   },
   "source": [
    "## Calculate splits for PSL predicates"
   ]
  },
  {
   "cell_type": "code",
   "execution_count": 9,
   "id": "b20698d4-a4eb-4eed-a47c-cbed34fac003",
   "metadata": {},
   "outputs": [
    {
     "name": "stdout",
     "output_type": "stream",
     "text": [
      "Header:  NODE\temail\n",
      "\n"
     ]
    }
   ],
   "source": [
    "# Grab the sample from the original experiment, this will allow us to calculate observations and targets.\n",
    "sample_email_nodes = load_table(FILE_SAMPLE_EMAIL_NODES)\n",
    "# remove the (unnecessary) second to last column (it came from an ambiguous parse splits)\n",
    "sample_email_nodes.drop('other,manager,specialist,director,executive', axis=1, inplace=True)\n",
    "resolve_column_type(sample_email_nodes)"
   ]
  },
  {
   "cell_type": "code",
   "execution_count": 10,
   "id": "5d21aaed-5e18-4966-b998-61cb0826ff2f",
   "metadata": {},
   "outputs": [],
   "source": [
    "# Split data into observed and targets (AKA train and test)\n",
    "email_nodes_obs = email_nodes[email_nodes['id'].isin(sample_email_nodes[sample_email_nodes['title'].notna()]['id'])]\n",
    "email_nodes_truth = email_nodes[email_nodes['id'].isin(sample_email_nodes[sample_email_nodes['title'].isna()]['id'])]"
   ]
  },
  {
   "cell_type": "code",
   "execution_count": 11,
   "id": "32b69008-a437-4649-ac72-25d54c74ca22",
   "metadata": {},
   "outputs": [],
   "source": [
    "# Grab the necessary columns\n",
    "email_has_label_obs = email_nodes_obs[['id','title']].copy()\n",
    "email_has_label_truth = email_nodes_truth[['id','title']].copy()\n",
    "\n",
    "# convert titles to integers, so PSL can ground faster\n",
    "email_has_label_obs = email_has_label_obs.replace({'title': title_map})\n",
    "email_has_label_truth = email_has_label_truth.replace({'title': title_map})\n",
    "\n",
    "# add in an existence column\n",
    "email_has_label_obs['exists'] = 1.0\n",
    "email_has_label_truth['exists'] = 1.0\n",
    "\n",
    "# email_has_label_obs"
   ]
  },
  {
   "cell_type": "code",
   "execution_count": 12,
   "id": "f655a04f-b6bb-488e-9003-486424a24869",
   "metadata": {},
   "outputs": [],
   "source": [
    "# Add in the the non existent observations\n",
    "full_set_email_has_label_obs = fill_observed_missing_possibilities(email_has_label_obs, ['id', 'title', 'exists'], list(title_map.values()))\n",
    "full_set_email_has_label_truth = fill_observed_missing_possibilities(email_has_label_truth, ['id', 'title', 'exists'], list(title_map.values()))"
   ]
  },
  {
   "cell_type": "code",
   "execution_count": 13,
   "id": "8f33d9ed-0700-4e2a-adbb-dab78b3a7104",
   "metadata": {},
   "outputs": [],
   "source": [
    "# Outputs splits to file\n",
    "#full_set_email_has_label_obs.to_csv('EmailHasLabel_obs.csv', sep ='\\t', index=False, header=False)\n",
    "#full_set_email_has_label_truth.to_csv('EmailHasLabel_truth.csv', sep ='\\t', index=False, header=False)"
   ]
  },
  {
   "cell_type": "markdown",
   "id": "a6b8581e",
   "metadata": {
    "tags": []
   },
   "source": [
    "# Process the CoRef edges"
   ]
  },
  {
   "cell_type": "markdown",
   "id": "46c8b54f-4ee2-4988-8fc0-a4ed4970bf67",
   "metadata": {
    "tags": []
   },
   "source": [
    "## Get ground truth"
   ]
  },
  {
   "cell_type": "code",
   "execution_count": 14,
   "id": "1d78f98a",
   "metadata": {
    "tags": []
   },
   "outputs": [
    {
     "name": "stdout",
     "output_type": "stream",
     "text": [
      "Header:  UNDIRECTED\tcoref\n",
      "\n",
      "This is not a NODE file, so don't load this row\n"
     ]
    },
    {
     "data": {
      "text/plain": [
       "id            int64\n",
       "email         int64\n",
       "alt_email     int64\n",
       "exists       object\n",
       "dtype: object"
      ]
     },
     "execution_count": 14,
     "metadata": {},
     "output_type": "execute_result"
    }
   ],
   "source": [
    "# need to rename one of the columns due to key collision\n",
    "# use copy for safety\n",
    "\n",
    "!cp $FILE_GROUND_TRUTH_COREF_EDGES .\n",
    "!sed -i 's/email/alt_email/2g' enron.UNDIRECTED.coref.tab\n",
    "\n",
    "coref_edges = load_table('enron.UNDIRECTED.coref.tab')\n",
    "resolve_column_type(coref_edges)\n",
    "\n",
    "coref_edges.dtypes"
   ]
  },
  {
   "cell_type": "code",
   "execution_count": 15,
   "id": "c4cad36a",
   "metadata": {
    "tags": []
   },
   "outputs": [
    {
     "data": {
      "text/html": [
       "<div>\n",
       "<style scoped>\n",
       "    .dataframe tbody tr th:only-of-type {\n",
       "        vertical-align: middle;\n",
       "    }\n",
       "\n",
       "    .dataframe tbody tr th {\n",
       "        vertical-align: top;\n",
       "    }\n",
       "\n",
       "    .dataframe thead th {\n",
       "        text-align: right;\n",
       "    }\n",
       "</style>\n",
       "<table border=\"1\" class=\"dataframe\">\n",
       "  <thead>\n",
       "    <tr style=\"text-align: right;\">\n",
       "      <th></th>\n",
       "      <th>id</th>\n",
       "      <th>email</th>\n",
       "      <th>alt_email</th>\n",
       "      <th>exists</th>\n",
       "    </tr>\n",
       "  </thead>\n",
       "  <tbody>\n",
       "    <tr>\n",
       "      <th>0</th>\n",
       "      <td>2856</td>\n",
       "      <td>265</td>\n",
       "      <td>141</td>\n",
       "      <td>NOTEXIST</td>\n",
       "    </tr>\n",
       "    <tr>\n",
       "      <th>1</th>\n",
       "      <td>18491</td>\n",
       "      <td>310</td>\n",
       "      <td>295</td>\n",
       "      <td>NOTEXIST</td>\n",
       "    </tr>\n",
       "    <tr>\n",
       "      <th>2</th>\n",
       "      <td>516</td>\n",
       "      <td>272</td>\n",
       "      <td>183</td>\n",
       "      <td>NOTEXIST</td>\n",
       "    </tr>\n",
       "    <tr>\n",
       "      <th>3</th>\n",
       "      <td>5131</td>\n",
       "      <td>201</td>\n",
       "      <td>19</td>\n",
       "      <td>NOTEXIST</td>\n",
       "    </tr>\n",
       "    <tr>\n",
       "      <th>4</th>\n",
       "      <td>12417</td>\n",
       "      <td>138</td>\n",
       "      <td>78</td>\n",
       "      <td>NOTEXIST</td>\n",
       "    </tr>\n",
       "    <tr>\n",
       "      <th>...</th>\n",
       "      <td>...</td>\n",
       "      <td>...</td>\n",
       "      <td>...</td>\n",
       "      <td>...</td>\n",
       "    </tr>\n",
       "    <tr>\n",
       "      <th>20776</th>\n",
       "      <td>15003</td>\n",
       "      <td>135</td>\n",
       "      <td>208</td>\n",
       "      <td>NOTEXIST</td>\n",
       "    </tr>\n",
       "    <tr>\n",
       "      <th>20777</th>\n",
       "      <td>4450</td>\n",
       "      <td>197</td>\n",
       "      <td>47</td>\n",
       "      <td>NOTEXIST</td>\n",
       "    </tr>\n",
       "    <tr>\n",
       "      <th>20778</th>\n",
       "      <td>20302</td>\n",
       "      <td>248</td>\n",
       "      <td>25</td>\n",
       "      <td>NOTEXIST</td>\n",
       "    </tr>\n",
       "    <tr>\n",
       "      <th>20779</th>\n",
       "      <td>12985</td>\n",
       "      <td>222</td>\n",
       "      <td>118</td>\n",
       "      <td>NOTEXIST</td>\n",
       "    </tr>\n",
       "    <tr>\n",
       "      <th>20780</th>\n",
       "      <td>19684</td>\n",
       "      <td>248</td>\n",
       "      <td>54</td>\n",
       "      <td>NOTEXIST</td>\n",
       "    </tr>\n",
       "  </tbody>\n",
       "</table>\n",
       "<p>20781 rows × 4 columns</p>\n",
       "</div>"
      ],
      "text/plain": [
       "          id  email  alt_email    exists\n",
       "0       2856    265        141  NOTEXIST\n",
       "1      18491    310        295  NOTEXIST\n",
       "2        516    272        183  NOTEXIST\n",
       "3       5131    201         19  NOTEXIST\n",
       "4      12417    138         78  NOTEXIST\n",
       "...      ...    ...        ...       ...\n",
       "20776  15003    135        208  NOTEXIST\n",
       "20777   4450    197         47  NOTEXIST\n",
       "20778  20302    248         25  NOTEXIST\n",
       "20779  12985    222        118  NOTEXIST\n",
       "20780  19684    248         54  NOTEXIST\n",
       "\n",
       "[20781 rows x 4 columns]"
      ]
     },
     "execution_count": 15,
     "metadata": {},
     "output_type": "execute_result"
    }
   ],
   "source": [
    "coref_edges"
   ]
  },
  {
   "cell_type": "code",
   "execution_count": 16,
   "id": "f72fc11f-0132-44ac-b59f-368e79ccae8a",
   "metadata": {
    "tags": []
   },
   "outputs": [],
   "source": [
    "# Grab necessary columns, in preparation for dumping the whole ground truth data\n",
    "coref_edges_data = coref_edges[['email','alt_email', 'exists']].copy()\n",
    "\n",
    "# convert existence column to boolean, so PSL can ground faster\n",
    "exists_map = {\"NOTEXIST\": 0.0, \"EXIST\": 1.0}\n",
    "coref_edges_data = coref_edges_data.replace({'exists': exists_map})\n",
    "\n",
    "# Since it's undirected, add in the reverse edges.\n",
    "coref_edges_data_sym = coref_edges_data[['alt_email', 'email', 'exists']].copy()\n",
    "coref_edges_data_sym.rename(columns = {'alt_email':'email', 'email':'alt_email'}, inplace = True)\n",
    "\n",
    "coref_edges_data = pd.concat([coref_edges_data, coref_edges_data_sym])\n",
    "\n",
    "# Calculated the missing edges that were blocked.\n",
    "missing_edges = {pair for pair in itertools.permutations(email_nodes['id'], 2)} - {pair for pair in zip(coref_edges_data['email'], coref_edges_data['alt_email'])}\n",
    "\n",
    "# add in the missing edges\n",
    "row_list = []\n",
    "for email, alt_email in missing_edges:\n",
    "    row_dict = {'email':email, 'alt_email':alt_email, 'exists':0 }\n",
    "    row_list.append(row_dict)\n",
    "\n",
    "full_set_coref_edges_data = pd.concat([coref_edges_data, pd.DataFrame(row_list)], ignore_index=True)"
   ]
  },
  {
   "cell_type": "code",
   "execution_count": 17,
   "id": "78b9b44c-038c-4adb-a5d9-80ee9d9b875c",
   "metadata": {},
   "outputs": [],
   "source": [
    "# Outputs to file\n",
    "# full_set_coref_edges_data.to_csv('CoRef_data.csv', sep ='\\t', index=False, header=False, columns=['email', 'alt_email', 'exists'])"
   ]
  },
  {
   "cell_type": "code",
   "execution_count": 18,
   "id": "e1a82ec7",
   "metadata": {},
   "outputs": [],
   "source": [
    "# Sanity Check: These should print pairs of the same people\n",
    "# for index in full_set_coref_edges_data[full_set_coref_edges_data['exists'] == 1.0][['email', 'alt_email']].index:\n",
    "#     email_id  = full_set_coref_edges_data.loc[index]['email'].iloc[0]\n",
    "#     alt_email_id = full_set_coref_edges_data.loc[index]['alt_email'].iloc[0]\n",
    "    \n",
    "#     print(email_nodes[email_nodes['id'] == email_id]['emailaddress'])\n",
    "#     print(email_nodes[email_nodes['id'] == alt_email_id]['emailaddress'])\n",
    "#     print(\"------------------------------------------------\")\n",
    "    "
   ]
  },
  {
   "cell_type": "markdown",
   "id": "8ccf9df6-8805-4575-89fc-d549bb462d12",
   "metadata": {
    "tags": []
   },
   "source": [
    "## Calculate splits for PSL predicates"
   ]
  },
  {
   "cell_type": "code",
   "execution_count": 19,
   "id": "89e13159-d275-447c-88a5-6a4631ddb688",
   "metadata": {},
   "outputs": [
    {
     "name": "stdout",
     "output_type": "stream",
     "text": [
      "Header:  UNDIRECTED\tcoref\n",
      "\n",
      "This is not a NODE file, so don't load this row\n"
     ]
    }
   ],
   "source": [
    "# Grab the sample from the original experiment, this will allow us to calculate observations and targets.\n",
    "sample_coref_edges = load_table(FILE_SAMPLE_COREF_EDGES)\n",
    "resolve_column_type(sample_coref_edges)\n"
   ]
  },
  {
   "cell_type": "code",
   "execution_count": 20,
   "id": "a9f4b581-b7fc-4a86-a9ef-1a70a88e86ea",
   "metadata": {},
   "outputs": [],
   "source": [
    "# Split data into observed and targets (AKA train and test)\n",
    "coref_edges_obs = coref_edges[coref_edges['id'].isin(sample_coref_edges[sample_coref_edges['exists'].notna()]['id'])]\n",
    "coref_edges_truth = coref_edges[coref_edges['id'].isin(sample_coref_edges[sample_coref_edges['exists'].isna()]['id'])]"
   ]
  },
  {
   "cell_type": "code",
   "execution_count": 21,
   "id": "43183cbf-d700-4d4e-aa59-9888ff135021",
   "metadata": {},
   "outputs": [],
   "source": [
    "# Grab the necessary columns\n",
    "coref_obs = coref_edges_obs[['email', 'alt_email', 'exists']].copy()\n",
    "coref_truth = coref_edges_truth[['email', 'alt_email', 'exists']].copy()\n",
    "\n",
    "# convert existence column to boolean, so PSL can ground faster\n",
    "coref_obs = coref_obs.replace({'exists': exists_map})\n",
    "coref_truth = coref_truth.replace({'exists': exists_map})\n",
    "\n",
    "# Since it's undirected, add in the reverse edges.\n",
    "coref_obs_sym = coref_obs[['alt_email', 'email', 'exists']].copy()\n",
    "coref_truth_sym = coref_truth[['alt_email', 'email', 'exists']].copy()\n",
    "\n",
    "coref_obs_sym.rename(columns = {'alt_email':'email', 'email':'alt_email'}, inplace = True)\n",
    "coref_truth_sym.rename(columns = {'alt_email':'email', 'email':'alt_email'}, inplace = True)\n",
    "\n",
    "coref_obs = pd.concat([coref_obs, coref_obs_sym], ignore_index=True)\n",
    "coref_truth = pd.concat([coref_truth, coref_truth_sym], ignore_index=True)\n",
    "\n",
    "# Calculated the missing edges that were blocked. Note the last set prevents cross contamination\n",
    "missing_edges = {pair for pair in itertools.permutations(email_nodes['id'], 2)} - {pair for pair in zip(coref_obs['email'], coref_obs['alt_email'])} - {pair for pair in zip(coref_truth['email'], coref_truth['alt_email'])}\n",
    "\n",
    "# add in the missing edges\n",
    "row_list = []\n",
    "for email, alt_email in missing_edges:\n",
    "    row_dict = {'email':email, 'alt_email':alt_email, 'exists':0 }\n",
    "    row_list.append(row_dict)\n",
    "\n",
    "full_set_coref_edges_obs = pd.concat([coref_obs, pd.DataFrame(row_list)], ignore_index=True)"
   ]
  },
  {
   "cell_type": "code",
   "execution_count": 22,
   "id": "8d80264a-a7d7-4ef3-8597-6968b968239c",
   "metadata": {},
   "outputs": [],
   "source": [
    "# Outputs splits to file\n",
    "#full_set_coref_edges_obs.to_csv('CoRef_obs.csv', sep ='\\t', index=False, header=False, columns=['email', 'alt_email', 'exists'])\n",
    "#coref_truth.to_csv('CoRef_truth.csv', sep ='\\t', index=False, header=False, columns=['email', 'alt_email', 'exists'])"
   ]
  },
  {
   "cell_type": "markdown",
   "id": "66d5640e",
   "metadata": {
    "tags": []
   },
   "source": [
    "# Process the Manager edges"
   ]
  },
  {
   "cell_type": "markdown",
   "id": "86749e40-88ec-4689-9f3e-819bbc6539b8",
   "metadata": {
    "tags": []
   },
   "source": [
    "## Get ground truth"
   ]
  },
  {
   "cell_type": "code",
   "execution_count": 23,
   "id": "4a2a88af",
   "metadata": {
    "tags": []
   },
   "outputs": [
    {
     "name": "stdout",
     "output_type": "stream",
     "text": [
      "Header:  UNDIRECTED\temail-submgr\n",
      "\n"
     ]
    },
    {
     "data": {
      "text/plain": [
       "id                int64\n",
       "w-gerald        float64\n",
       "w-know          float64\n",
       "w-busi          float64\n",
       "w-mexicana      float64\n",
       "                 ...   \n",
       "w-jarnold       float64\n",
       "numexchanged      int64\n",
       "email             int64\n",
       "other_email       int64\n",
       "exists           object\n",
       "Length: 5118, dtype: object"
      ]
     },
     "execution_count": 23,
     "metadata": {},
     "output_type": "execute_result"
    }
   ],
   "source": [
    "# Load in the observed email-submgr.\n",
    "# need to rename one of the columns due to key collision\n",
    "# use copy for safety\n",
    "!cp $FILE_GROUND_TRUTH_MANAGES_EDGES .\n",
    "!sed -i 's/\\temail/\\tother_email/2g' enron.UNDIRECTED.email-submgr.tab\n",
    "\n",
    "manager_edges = load_table('enron.UNDIRECTED.email-submgr.tab')\n",
    "\n",
    "# FIXME: can probably omit this line\n",
    "manager_edges.drop('NOTEXIST,EXIST', axis=1, inplace=True)\n",
    "\n",
    "resolve_column_type(manager_edges)\n",
    "\n",
    "manager_edges.dtypes"
   ]
  },
  {
   "cell_type": "code",
   "execution_count": 24,
   "id": "7843325f",
   "metadata": {
    "tags": []
   },
   "outputs": [
    {
     "data": {
      "text/html": [
       "<div>\n",
       "<style scoped>\n",
       "    .dataframe tbody tr th:only-of-type {\n",
       "        vertical-align: middle;\n",
       "    }\n",
       "\n",
       "    .dataframe tbody tr th {\n",
       "        vertical-align: top;\n",
       "    }\n",
       "\n",
       "    .dataframe thead th {\n",
       "        text-align: right;\n",
       "    }\n",
       "</style>\n",
       "<table border=\"1\" class=\"dataframe\">\n",
       "  <thead>\n",
       "    <tr style=\"text-align: right;\">\n",
       "      <th></th>\n",
       "      <th>id</th>\n",
       "      <th>w-gerald</th>\n",
       "      <th>w-know</th>\n",
       "      <th>w-busi</th>\n",
       "      <th>w-mexicana</th>\n",
       "      <th>w-transact</th>\n",
       "      <th>w-want</th>\n",
       "      <th>w-thing</th>\n",
       "      <th>w-review</th>\n",
       "      <th>w-questar</th>\n",
       "      <th>...</th>\n",
       "      <th>w-coh</th>\n",
       "      <th>w-agl</th>\n",
       "      <th>w-kinney</th>\n",
       "      <th>w-veselack</th>\n",
       "      <th>w-mwhitt</th>\n",
       "      <th>w-jarnold</th>\n",
       "      <th>numexchanged</th>\n",
       "      <th>email</th>\n",
       "      <th>other_email</th>\n",
       "      <th>exists</th>\n",
       "    </tr>\n",
       "  </thead>\n",
       "  <tbody>\n",
       "    <tr>\n",
       "      <th>0</th>\n",
       "      <td>2693</td>\n",
       "      <td>NaN</td>\n",
       "      <td>1.0</td>\n",
       "      <td>NaN</td>\n",
       "      <td>NaN</td>\n",
       "      <td>1.0</td>\n",
       "      <td>1.0</td>\n",
       "      <td>NaN</td>\n",
       "      <td>1.0</td>\n",
       "      <td>NaN</td>\n",
       "      <td>...</td>\n",
       "      <td>NaN</td>\n",
       "      <td>NaN</td>\n",
       "      <td>NaN</td>\n",
       "      <td>NaN</td>\n",
       "      <td>NaN</td>\n",
       "      <td>NaN</td>\n",
       "      <td>6</td>\n",
       "      <td>286</td>\n",
       "      <td>324</td>\n",
       "      <td>EXIST</td>\n",
       "    </tr>\n",
       "    <tr>\n",
       "      <th>1</th>\n",
       "      <td>2634</td>\n",
       "      <td>NaN</td>\n",
       "      <td>1.0</td>\n",
       "      <td>NaN</td>\n",
       "      <td>NaN</td>\n",
       "      <td>NaN</td>\n",
       "      <td>1.0</td>\n",
       "      <td>NaN</td>\n",
       "      <td>NaN</td>\n",
       "      <td>NaN</td>\n",
       "      <td>...</td>\n",
       "      <td>NaN</td>\n",
       "      <td>NaN</td>\n",
       "      <td>NaN</td>\n",
       "      <td>NaN</td>\n",
       "      <td>NaN</td>\n",
       "      <td>NaN</td>\n",
       "      <td>3</td>\n",
       "      <td>74</td>\n",
       "      <td>37</td>\n",
       "      <td>NOTEXIST</td>\n",
       "    </tr>\n",
       "    <tr>\n",
       "      <th>2</th>\n",
       "      <td>1256</td>\n",
       "      <td>NaN</td>\n",
       "      <td>1.0</td>\n",
       "      <td>1.0</td>\n",
       "      <td>NaN</td>\n",
       "      <td>NaN</td>\n",
       "      <td>1.0</td>\n",
       "      <td>1.0</td>\n",
       "      <td>1.0</td>\n",
       "      <td>NaN</td>\n",
       "      <td>...</td>\n",
       "      <td>NaN</td>\n",
       "      <td>NaN</td>\n",
       "      <td>NaN</td>\n",
       "      <td>NaN</td>\n",
       "      <td>NaN</td>\n",
       "      <td>NaN</td>\n",
       "      <td>14</td>\n",
       "      <td>148</td>\n",
       "      <td>131</td>\n",
       "      <td>NOTEXIST</td>\n",
       "    </tr>\n",
       "    <tr>\n",
       "      <th>3</th>\n",
       "      <td>1406</td>\n",
       "      <td>NaN</td>\n",
       "      <td>NaN</td>\n",
       "      <td>NaN</td>\n",
       "      <td>NaN</td>\n",
       "      <td>1.0</td>\n",
       "      <td>1.0</td>\n",
       "      <td>NaN</td>\n",
       "      <td>NaN</td>\n",
       "      <td>NaN</td>\n",
       "      <td>...</td>\n",
       "      <td>NaN</td>\n",
       "      <td>NaN</td>\n",
       "      <td>NaN</td>\n",
       "      <td>NaN</td>\n",
       "      <td>NaN</td>\n",
       "      <td>NaN</td>\n",
       "      <td>3</td>\n",
       "      <td>57</td>\n",
       "      <td>313</td>\n",
       "      <td>EXIST</td>\n",
       "    </tr>\n",
       "    <tr>\n",
       "      <th>4</th>\n",
       "      <td>3129</td>\n",
       "      <td>NaN</td>\n",
       "      <td>1.0</td>\n",
       "      <td>1.0</td>\n",
       "      <td>NaN</td>\n",
       "      <td>1.0</td>\n",
       "      <td>1.0</td>\n",
       "      <td>1.0</td>\n",
       "      <td>1.0</td>\n",
       "      <td>NaN</td>\n",
       "      <td>...</td>\n",
       "      <td>NaN</td>\n",
       "      <td>NaN</td>\n",
       "      <td>NaN</td>\n",
       "      <td>NaN</td>\n",
       "      <td>NaN</td>\n",
       "      <td>NaN</td>\n",
       "      <td>43</td>\n",
       "      <td>34</td>\n",
       "      <td>236</td>\n",
       "      <td>NOTEXIST</td>\n",
       "    </tr>\n",
       "    <tr>\n",
       "      <th>...</th>\n",
       "      <td>...</td>\n",
       "      <td>...</td>\n",
       "      <td>...</td>\n",
       "      <td>...</td>\n",
       "      <td>...</td>\n",
       "      <td>...</td>\n",
       "      <td>...</td>\n",
       "      <td>...</td>\n",
       "      <td>...</td>\n",
       "      <td>...</td>\n",
       "      <td>...</td>\n",
       "      <td>...</td>\n",
       "      <td>...</td>\n",
       "      <td>...</td>\n",
       "      <td>...</td>\n",
       "      <td>...</td>\n",
       "      <td>...</td>\n",
       "      <td>...</td>\n",
       "      <td>...</td>\n",
       "      <td>...</td>\n",
       "      <td>...</td>\n",
       "    </tr>\n",
       "    <tr>\n",
       "      <th>2046</th>\n",
       "      <td>2105</td>\n",
       "      <td>NaN</td>\n",
       "      <td>1.0</td>\n",
       "      <td>NaN</td>\n",
       "      <td>NaN</td>\n",
       "      <td>1.0</td>\n",
       "      <td>NaN</td>\n",
       "      <td>NaN</td>\n",
       "      <td>1.0</td>\n",
       "      <td>NaN</td>\n",
       "      <td>...</td>\n",
       "      <td>NaN</td>\n",
       "      <td>NaN</td>\n",
       "      <td>NaN</td>\n",
       "      <td>NaN</td>\n",
       "      <td>NaN</td>\n",
       "      <td>NaN</td>\n",
       "      <td>13</td>\n",
       "      <td>67</td>\n",
       "      <td>288</td>\n",
       "      <td>NOTEXIST</td>\n",
       "    </tr>\n",
       "    <tr>\n",
       "      <th>2047</th>\n",
       "      <td>2374</td>\n",
       "      <td>1.0</td>\n",
       "      <td>1.0</td>\n",
       "      <td>NaN</td>\n",
       "      <td>NaN</td>\n",
       "      <td>1.0</td>\n",
       "      <td>1.0</td>\n",
       "      <td>1.0</td>\n",
       "      <td>1.0</td>\n",
       "      <td>NaN</td>\n",
       "      <td>...</td>\n",
       "      <td>NaN</td>\n",
       "      <td>NaN</td>\n",
       "      <td>NaN</td>\n",
       "      <td>NaN</td>\n",
       "      <td>NaN</td>\n",
       "      <td>NaN</td>\n",
       "      <td>237</td>\n",
       "      <td>198</td>\n",
       "      <td>212</td>\n",
       "      <td>NOTEXIST</td>\n",
       "    </tr>\n",
       "    <tr>\n",
       "      <th>2048</th>\n",
       "      <td>3464</td>\n",
       "      <td>NaN</td>\n",
       "      <td>NaN</td>\n",
       "      <td>NaN</td>\n",
       "      <td>NaN</td>\n",
       "      <td>NaN</td>\n",
       "      <td>1.0</td>\n",
       "      <td>1.0</td>\n",
       "      <td>NaN</td>\n",
       "      <td>NaN</td>\n",
       "      <td>...</td>\n",
       "      <td>NaN</td>\n",
       "      <td>NaN</td>\n",
       "      <td>NaN</td>\n",
       "      <td>NaN</td>\n",
       "      <td>NaN</td>\n",
       "      <td>NaN</td>\n",
       "      <td>1</td>\n",
       "      <td>210</td>\n",
       "      <td>160</td>\n",
       "      <td>NOTEXIST</td>\n",
       "    </tr>\n",
       "    <tr>\n",
       "      <th>2049</th>\n",
       "      <td>531</td>\n",
       "      <td>NaN</td>\n",
       "      <td>NaN</td>\n",
       "      <td>NaN</td>\n",
       "      <td>NaN</td>\n",
       "      <td>NaN</td>\n",
       "      <td>1.0</td>\n",
       "      <td>NaN</td>\n",
       "      <td>NaN</td>\n",
       "      <td>NaN</td>\n",
       "      <td>...</td>\n",
       "      <td>NaN</td>\n",
       "      <td>NaN</td>\n",
       "      <td>NaN</td>\n",
       "      <td>NaN</td>\n",
       "      <td>NaN</td>\n",
       "      <td>NaN</td>\n",
       "      <td>9</td>\n",
       "      <td>316</td>\n",
       "      <td>188</td>\n",
       "      <td>NOTEXIST</td>\n",
       "    </tr>\n",
       "    <tr>\n",
       "      <th>2050</th>\n",
       "      <td>2026</td>\n",
       "      <td>NaN</td>\n",
       "      <td>1.0</td>\n",
       "      <td>1.0</td>\n",
       "      <td>NaN</td>\n",
       "      <td>1.0</td>\n",
       "      <td>1.0</td>\n",
       "      <td>1.0</td>\n",
       "      <td>1.0</td>\n",
       "      <td>NaN</td>\n",
       "      <td>...</td>\n",
       "      <td>NaN</td>\n",
       "      <td>NaN</td>\n",
       "      <td>NaN</td>\n",
       "      <td>NaN</td>\n",
       "      <td>NaN</td>\n",
       "      <td>NaN</td>\n",
       "      <td>8</td>\n",
       "      <td>34</td>\n",
       "      <td>273</td>\n",
       "      <td>NOTEXIST</td>\n",
       "    </tr>\n",
       "  </tbody>\n",
       "</table>\n",
       "<p>2051 rows × 5118 columns</p>\n",
       "</div>"
      ],
      "text/plain": [
       "        id  w-gerald  w-know  w-busi  w-mexicana  w-transact  w-want  w-thing   \n",
       "0     2693       NaN     1.0     NaN         NaN         1.0     1.0      NaN  \\\n",
       "1     2634       NaN     1.0     NaN         NaN         NaN     1.0      NaN   \n",
       "2     1256       NaN     1.0     1.0         NaN         NaN     1.0      1.0   \n",
       "3     1406       NaN     NaN     NaN         NaN         1.0     1.0      NaN   \n",
       "4     3129       NaN     1.0     1.0         NaN         1.0     1.0      1.0   \n",
       "...    ...       ...     ...     ...         ...         ...     ...      ...   \n",
       "2046  2105       NaN     1.0     NaN         NaN         1.0     NaN      NaN   \n",
       "2047  2374       1.0     1.0     NaN         NaN         1.0     1.0      1.0   \n",
       "2048  3464       NaN     NaN     NaN         NaN         NaN     1.0      1.0   \n",
       "2049   531       NaN     NaN     NaN         NaN         NaN     1.0      NaN   \n",
       "2050  2026       NaN     1.0     1.0         NaN         1.0     1.0      1.0   \n",
       "\n",
       "      w-review  w-questar  ...  w-coh  w-agl  w-kinney  w-veselack  w-mwhitt   \n",
       "0          1.0        NaN  ...    NaN    NaN       NaN         NaN       NaN  \\\n",
       "1          NaN        NaN  ...    NaN    NaN       NaN         NaN       NaN   \n",
       "2          1.0        NaN  ...    NaN    NaN       NaN         NaN       NaN   \n",
       "3          NaN        NaN  ...    NaN    NaN       NaN         NaN       NaN   \n",
       "4          1.0        NaN  ...    NaN    NaN       NaN         NaN       NaN   \n",
       "...        ...        ...  ...    ...    ...       ...         ...       ...   \n",
       "2046       1.0        NaN  ...    NaN    NaN       NaN         NaN       NaN   \n",
       "2047       1.0        NaN  ...    NaN    NaN       NaN         NaN       NaN   \n",
       "2048       NaN        NaN  ...    NaN    NaN       NaN         NaN       NaN   \n",
       "2049       NaN        NaN  ...    NaN    NaN       NaN         NaN       NaN   \n",
       "2050       1.0        NaN  ...    NaN    NaN       NaN         NaN       NaN   \n",
       "\n",
       "      w-jarnold  numexchanged  email  other_email    exists  \n",
       "0           NaN             6    286          324     EXIST  \n",
       "1           NaN             3     74           37  NOTEXIST  \n",
       "2           NaN            14    148          131  NOTEXIST  \n",
       "3           NaN             3     57          313     EXIST  \n",
       "4           NaN            43     34          236  NOTEXIST  \n",
       "...         ...           ...    ...          ...       ...  \n",
       "2046        NaN            13     67          288  NOTEXIST  \n",
       "2047        NaN           237    198          212  NOTEXIST  \n",
       "2048        NaN             1    210          160  NOTEXIST  \n",
       "2049        NaN             9    316          188  NOTEXIST  \n",
       "2050        NaN             8     34          273  NOTEXIST  \n",
       "\n",
       "[2051 rows x 5118 columns]"
      ]
     },
     "execution_count": 24,
     "metadata": {},
     "output_type": "execute_result"
    }
   ],
   "source": [
    "manager_edges"
   ]
  },
  {
   "cell_type": "code",
   "execution_count": 25,
   "id": "5b6562e1-e3a6-4136-888d-cb2441f07dad",
   "metadata": {
    "tags": []
   },
   "outputs": [],
   "source": [
    "# Grab necessary columns, in preparation for dumping the whole ground truth data\n",
    "manager_edges_data = manager_edges[['email','other_email', 'exists']].copy()\n",
    "\n",
    "# convert existence column to boolean, so PSL can ground faster\n",
    "manager_edges_data = manager_edges_data.replace({'exists': exists_map})\n",
    "\n",
    "# Since it's undirected, add in the reverse edges.\n",
    "manager_edges_data_sym = manager_edges_data[['other_email', 'email', 'exists']].copy()\n",
    "manager_edges_data_sym.rename(columns = {'other_email':'email', 'email':'other_email'}, inplace = True)\n",
    "\n",
    "manager_edges_data = pd.concat([manager_edges_data, manager_edges_data_sym])\n",
    "\n",
    "# Calculated the missing edges that were blocked.\n",
    "missing_edges = {pair for pair in itertools.permutations(email_nodes['id'], 2)} - {pair for pair in zip(manager_edges_data['email'], manager_edges_data['other_email'])}\n",
    "\n",
    "# add in the missing edges\n",
    "row_list = []\n",
    "for email, other_email in missing_edges:\n",
    "    row_dict = {'email':email, 'other_email':other_email, 'exists':0 }\n",
    "    row_list.append(row_dict)\n",
    "\n",
    "full_set_manager_edges_data = pd.concat([manager_edges_data, pd.DataFrame(row_list)], ignore_index=True)\n"
   ]
  },
  {
   "cell_type": "code",
   "execution_count": 26,
   "id": "a317ea38-d577-48b9-831c-3fee59f6599d",
   "metadata": {
    "tags": []
   },
   "outputs": [],
   "source": [
    "# Outputs to file\n",
    "# full_set_manager_edges_data.to_csv('Manages_data.csv', sep ='\\t', index=False, header=False, columns=['email', 'other_email', 'exists'])"
   ]
  },
  {
   "cell_type": "markdown",
   "id": "29e5d542-835f-42f8-9ff4-0f9d5cb3a684",
   "metadata": {
    "tags": []
   },
   "source": [
    "## Calculate splits for PSL predicates "
   ]
  },
  {
   "cell_type": "code",
   "execution_count": 27,
   "id": "81e82ddb-5ef1-4bc8-96bd-a0fc04b8ef72",
   "metadata": {
    "tags": []
   },
   "outputs": [
    {
     "name": "stdout",
     "output_type": "stream",
     "text": [
      "Header:  UNDIRECTED\temail-submgr\n",
      "\n"
     ]
    }
   ],
   "source": [
    "# Grab the sample from the original experiment, this will allow us to calculate observations and targets.\n",
    "sample_manager_edges = load_table(FILE_SAMPLE_MANAGES_EDGES)\n",
    "resolve_column_type(sample_manager_edges)"
   ]
  },
  {
   "cell_type": "code",
   "execution_count": 28,
   "id": "182e8ebc-9975-4531-bdef-8cbcf3b7b9be",
   "metadata": {
    "tags": []
   },
   "outputs": [],
   "source": [
    "# Split data into observed and targets (AKA train and test)\n",
    "manager_edges_obs = manager_edges[manager_edges['id'].isin(sample_manager_edges[sample_manager_edges['exists'].notna()]['id'])]\n",
    "manager_edges_truth = manager_edges[manager_edges['id'].isin(sample_manager_edges[sample_manager_edges['exists'].isna()]['id'])]"
   ]
  },
  {
   "cell_type": "code",
   "execution_count": 29,
   "id": "7dff2da2-19e6-45b3-b252-c21e43634149",
   "metadata": {
    "tags": []
   },
   "outputs": [
    {
     "name": "stdout",
     "output_type": "stream",
     "text": [
      "1642\n",
      "409\n"
     ]
    }
   ],
   "source": [
    "print(len(manager_edges_obs))\n",
    "print(len(manager_edges_truth))"
   ]
  },
  {
   "cell_type": "code",
   "execution_count": 30,
   "id": "6b64120c-1136-45e9-8195-af01d11be92b",
   "metadata": {},
   "outputs": [],
   "source": [
    "# Grab the necessary columns\n",
    "manages_obs = manager_edges_obs[['email', 'other_email', 'exists']].copy()\n",
    "manages_truth = manager_edges_truth[['email', 'other_email', 'exists']].copy()\n",
    "\n",
    "# convert existence column to boolean, so PSL can ground faster\n",
    "manages_obs = manages_obs.replace({'exists': exists_map})\n",
    "manages_truth = manages_truth.replace({'exists': exists_map})\n",
    "\n",
    "# Since it's undirected, add in the reverse edges.\n",
    "manages_obs_sym = manages_obs[['other_email', 'email', 'exists']].copy()\n",
    "manages_truth_sym = manages_truth[['other_email', 'email', 'exists']].copy()\n",
    "\n",
    "manages_obs_sym.rename(columns = {'other_email':'email', 'email':'other_email'}, inplace = True)\n",
    "manages_truth_sym.rename(columns = {'other_email':'email', 'email':'other_email'}, inplace = True)\n",
    "\n",
    "manages_obs = pd.concat([manages_obs, manages_obs_sym])\n",
    "manages_truth = pd.concat([manages_truth, manages_truth_sym])\n",
    "\n",
    "# Calculated the missing edges that were blocked. Note the last set prevents cross contamination\n",
    "missing_edges = {pair for pair in itertools.permutations(email_nodes['id'], 2)} - {pair for pair in zip(manages_obs['email'], manages_obs['other_email'])} - {pair for pair in zip(manages_truth['email'], manages_truth['other_email'])}\n",
    "\n",
    "# add in the missing edges\n",
    "row_list = []\n",
    "for email, other_email in missing_edges:\n",
    "    row_dict = {'email':email, 'other_email':other_email, 'exists':0 }\n",
    "    row_list.append(row_dict)\n",
    "\n",
    "full_set_manages_obs = pd.concat([manages_obs, pd.DataFrame(row_list)], ignore_index=True)"
   ]
  },
  {
   "cell_type": "code",
   "execution_count": 31,
   "id": "644930fb-35b8-4332-8de9-522cc549b184",
   "metadata": {},
   "outputs": [],
   "source": [
    "#full_set_manages_obs.to_csv('Manages_obs.csv', sep ='\\t', index=False, header=False, columns=['email', 'other_email', 'exists'])\n",
    "#manages_truth.to_csv('Manages_truth.csv', sep ='\\t', index=False, header=False, columns=['email', 'other_email', 'exists'])"
   ]
  },
  {
   "cell_type": "markdown",
   "id": "a1cfb500-d84b-438a-90be-2b756b8f3ac0",
   "metadata": {
    "tags": []
   },
   "source": [
    "# Train a local classifier/model"
   ]
  },
  {
   "cell_type": "code",
   "execution_count": 32,
   "id": "19deb381-edd3-4fb1-a637-52f5e80c37f9",
   "metadata": {
    "tags": []
   },
   "outputs": [],
   "source": [
    "from sklearn import svm\n",
    "from sklearn.linear_model import LogisticRegression\n",
    "from sklearn.metrics import recall_score\n",
    "from sklearn.metrics import f1_score"
   ]
  },
  {
   "cell_type": "markdown",
   "id": "97162ad9-f8b0-4130-92a7-839736c0a8b7",
   "metadata": {
    "tags": []
   },
   "source": [
    "## Node Labeling"
   ]
  },
  {
   "cell_type": "code",
   "execution_count": 33,
   "id": "af3af3d1-d9d5-4286-90b2-885c0c3e694f",
   "metadata": {},
   "outputs": [
    {
     "data": {
      "text/html": [
       "<div>\n",
       "<style scoped>\n",
       "    .dataframe tbody tr th:only-of-type {\n",
       "        vertical-align: middle;\n",
       "    }\n",
       "\n",
       "    .dataframe tbody tr th {\n",
       "        vertical-align: top;\n",
       "    }\n",
       "\n",
       "    .dataframe thead th {\n",
       "        text-align: right;\n",
       "    }\n",
       "</style>\n",
       "<table border=\"1\" class=\"dataframe\">\n",
       "  <thead>\n",
       "    <tr style=\"text-align: right;\">\n",
       "      <th></th>\n",
       "      <th>id</th>\n",
       "      <th>emailaddress</th>\n",
       "      <th>numsent</th>\n",
       "      <th>numreceived</th>\n",
       "      <th>numexchanged</th>\n",
       "      <th>w-gerald</th>\n",
       "      <th>w-know</th>\n",
       "      <th>w-busi</th>\n",
       "      <th>w-mexicana</th>\n",
       "      <th>w-transact</th>\n",
       "      <th>...</th>\n",
       "      <th>w-bartlo</th>\n",
       "      <th>w-columbiagassubject</th>\n",
       "      <th>w-perron</th>\n",
       "      <th>w-coh</th>\n",
       "      <th>w-agl</th>\n",
       "      <th>w-kinney</th>\n",
       "      <th>w-veselack</th>\n",
       "      <th>w-mwhitt</th>\n",
       "      <th>w-jarnold</th>\n",
       "      <th>title</th>\n",
       "    </tr>\n",
       "  </thead>\n",
       "  <tbody>\n",
       "    <tr>\n",
       "      <th>0</th>\n",
       "      <td>283</td>\n",
       "      <td>c..koehler@enron.com</td>\n",
       "      <td>128</td>\n",
       "      <td>606</td>\n",
       "      <td>734</td>\n",
       "      <td>1.0</td>\n",
       "      <td>1.0</td>\n",
       "      <td>1.0</td>\n",
       "      <td>NaN</td>\n",
       "      <td>1.0</td>\n",
       "      <td>...</td>\n",
       "      <td>NaN</td>\n",
       "      <td>NaN</td>\n",
       "      <td>NaN</td>\n",
       "      <td>NaN</td>\n",
       "      <td>NaN</td>\n",
       "      <td>NaN</td>\n",
       "      <td>NaN</td>\n",
       "      <td>NaN</td>\n",
       "      <td>NaN</td>\n",
       "      <td>director</td>\n",
       "    </tr>\n",
       "    <tr>\n",
       "      <th>1</th>\n",
       "      <td>98</td>\n",
       "      <td>scott.goodell@enron.com</td>\n",
       "      <td>98</td>\n",
       "      <td>607</td>\n",
       "      <td>705</td>\n",
       "      <td>1.0</td>\n",
       "      <td>1.0</td>\n",
       "      <td>1.0</td>\n",
       "      <td>NaN</td>\n",
       "      <td>1.0</td>\n",
       "      <td>...</td>\n",
       "      <td>1.0</td>\n",
       "      <td>1.0</td>\n",
       "      <td>1.0</td>\n",
       "      <td>1.0</td>\n",
       "      <td>1.0</td>\n",
       "      <td>1.0</td>\n",
       "      <td>1.0</td>\n",
       "      <td>NaN</td>\n",
       "      <td>NaN</td>\n",
       "      <td>specialist</td>\n",
       "    </tr>\n",
       "    <tr>\n",
       "      <th>2</th>\n",
       "      <td>183</td>\n",
       "      <td>p..south@enron.com</td>\n",
       "      <td>8</td>\n",
       "      <td>351</td>\n",
       "      <td>359</td>\n",
       "      <td>1.0</td>\n",
       "      <td>1.0</td>\n",
       "      <td>1.0</td>\n",
       "      <td>NaN</td>\n",
       "      <td>NaN</td>\n",
       "      <td>...</td>\n",
       "      <td>NaN</td>\n",
       "      <td>NaN</td>\n",
       "      <td>NaN</td>\n",
       "      <td>NaN</td>\n",
       "      <td>NaN</td>\n",
       "      <td>NaN</td>\n",
       "      <td>NaN</td>\n",
       "      <td>NaN</td>\n",
       "      <td>NaN</td>\n",
       "      <td>director</td>\n",
       "    </tr>\n",
       "    <tr>\n",
       "      <th>4</th>\n",
       "      <td>318</td>\n",
       "      <td>mike.grigsby@enron.com</td>\n",
       "      <td>3702</td>\n",
       "      <td>490</td>\n",
       "      <td>4192</td>\n",
       "      <td>1.0</td>\n",
       "      <td>1.0</td>\n",
       "      <td>1.0</td>\n",
       "      <td>1.0</td>\n",
       "      <td>1.0</td>\n",
       "      <td>...</td>\n",
       "      <td>NaN</td>\n",
       "      <td>NaN</td>\n",
       "      <td>NaN</td>\n",
       "      <td>NaN</td>\n",
       "      <td>NaN</td>\n",
       "      <td>NaN</td>\n",
       "      <td>NaN</td>\n",
       "      <td>NaN</td>\n",
       "      <td>NaN</td>\n",
       "      <td>executive</td>\n",
       "    </tr>\n",
       "    <tr>\n",
       "      <th>5</th>\n",
       "      <td>303</td>\n",
       "      <td>t..hodge@enron.com</td>\n",
       "      <td>95</td>\n",
       "      <td>570</td>\n",
       "      <td>665</td>\n",
       "      <td>1.0</td>\n",
       "      <td>1.0</td>\n",
       "      <td>1.0</td>\n",
       "      <td>NaN</td>\n",
       "      <td>1.0</td>\n",
       "      <td>...</td>\n",
       "      <td>NaN</td>\n",
       "      <td>NaN</td>\n",
       "      <td>NaN</td>\n",
       "      <td>NaN</td>\n",
       "      <td>NaN</td>\n",
       "      <td>NaN</td>\n",
       "      <td>NaN</td>\n",
       "      <td>NaN</td>\n",
       "      <td>NaN</td>\n",
       "      <td>executive</td>\n",
       "    </tr>\n",
       "    <tr>\n",
       "      <th>...</th>\n",
       "      <td>...</td>\n",
       "      <td>...</td>\n",
       "      <td>...</td>\n",
       "      <td>...</td>\n",
       "      <td>...</td>\n",
       "      <td>...</td>\n",
       "      <td>...</td>\n",
       "      <td>...</td>\n",
       "      <td>...</td>\n",
       "      <td>...</td>\n",
       "      <td>...</td>\n",
       "      <td>...</td>\n",
       "      <td>...</td>\n",
       "      <td>...</td>\n",
       "      <td>...</td>\n",
       "      <td>...</td>\n",
       "      <td>...</td>\n",
       "      <td>...</td>\n",
       "      <td>...</td>\n",
       "      <td>...</td>\n",
       "      <td>...</td>\n",
       "    </tr>\n",
       "    <tr>\n",
       "      <th>206</th>\n",
       "      <td>114</td>\n",
       "      <td>vkamins@enron.com</td>\n",
       "      <td>0</td>\n",
       "      <td>12</td>\n",
       "      <td>12</td>\n",
       "      <td>NaN</td>\n",
       "      <td>1.0</td>\n",
       "      <td>1.0</td>\n",
       "      <td>NaN</td>\n",
       "      <td>1.0</td>\n",
       "      <td>...</td>\n",
       "      <td>NaN</td>\n",
       "      <td>NaN</td>\n",
       "      <td>NaN</td>\n",
       "      <td>NaN</td>\n",
       "      <td>NaN</td>\n",
       "      <td>NaN</td>\n",
       "      <td>NaN</td>\n",
       "      <td>NaN</td>\n",
       "      <td>NaN</td>\n",
       "      <td>director</td>\n",
       "    </tr>\n",
       "    <tr>\n",
       "      <th>207</th>\n",
       "      <td>270</td>\n",
       "      <td>david.duran@enron.com</td>\n",
       "      <td>7</td>\n",
       "      <td>145</td>\n",
       "      <td>152</td>\n",
       "      <td>NaN</td>\n",
       "      <td>1.0</td>\n",
       "      <td>1.0</td>\n",
       "      <td>NaN</td>\n",
       "      <td>1.0</td>\n",
       "      <td>...</td>\n",
       "      <td>NaN</td>\n",
       "      <td>NaN</td>\n",
       "      <td>NaN</td>\n",
       "      <td>NaN</td>\n",
       "      <td>NaN</td>\n",
       "      <td>NaN</td>\n",
       "      <td>NaN</td>\n",
       "      <td>NaN</td>\n",
       "      <td>NaN</td>\n",
       "      <td>director</td>\n",
       "    </tr>\n",
       "    <tr>\n",
       "      <th>208</th>\n",
       "      <td>282</td>\n",
       "      <td>sean.crandall@enron.com</td>\n",
       "      <td>94</td>\n",
       "      <td>138</td>\n",
       "      <td>232</td>\n",
       "      <td>NaN</td>\n",
       "      <td>1.0</td>\n",
       "      <td>1.0</td>\n",
       "      <td>NaN</td>\n",
       "      <td>1.0</td>\n",
       "      <td>...</td>\n",
       "      <td>NaN</td>\n",
       "      <td>NaN</td>\n",
       "      <td>NaN</td>\n",
       "      <td>NaN</td>\n",
       "      <td>NaN</td>\n",
       "      <td>NaN</td>\n",
       "      <td>NaN</td>\n",
       "      <td>NaN</td>\n",
       "      <td>NaN</td>\n",
       "      <td>director</td>\n",
       "    </tr>\n",
       "    <tr>\n",
       "      <th>209</th>\n",
       "      <td>243</td>\n",
       "      <td>kevin.presto@enron.com</td>\n",
       "      <td>248</td>\n",
       "      <td>198</td>\n",
       "      <td>446</td>\n",
       "      <td>1.0</td>\n",
       "      <td>1.0</td>\n",
       "      <td>1.0</td>\n",
       "      <td>NaN</td>\n",
       "      <td>1.0</td>\n",
       "      <td>...</td>\n",
       "      <td>NaN</td>\n",
       "      <td>NaN</td>\n",
       "      <td>NaN</td>\n",
       "      <td>NaN</td>\n",
       "      <td>NaN</td>\n",
       "      <td>NaN</td>\n",
       "      <td>NaN</td>\n",
       "      <td>NaN</td>\n",
       "      <td>NaN</td>\n",
       "      <td>executive</td>\n",
       "    </tr>\n",
       "    <tr>\n",
       "      <th>210</th>\n",
       "      <td>131</td>\n",
       "      <td>dave.fuller@enron.com</td>\n",
       "      <td>165</td>\n",
       "      <td>129</td>\n",
       "      <td>294</td>\n",
       "      <td>1.0</td>\n",
       "      <td>1.0</td>\n",
       "      <td>1.0</td>\n",
       "      <td>NaN</td>\n",
       "      <td>1.0</td>\n",
       "      <td>...</td>\n",
       "      <td>NaN</td>\n",
       "      <td>NaN</td>\n",
       "      <td>NaN</td>\n",
       "      <td>NaN</td>\n",
       "      <td>NaN</td>\n",
       "      <td>NaN</td>\n",
       "      <td>NaN</td>\n",
       "      <td>NaN</td>\n",
       "      <td>NaN</td>\n",
       "      <td>manager</td>\n",
       "    </tr>\n",
       "  </tbody>\n",
       "</table>\n",
       "<p>171 rows × 5119 columns</p>\n",
       "</div>"
      ],
      "text/plain": [
       "      id             emailaddress  numsent  numreceived  numexchanged   \n",
       "0    283     c..koehler@enron.com      128          606           734  \\\n",
       "1     98  scott.goodell@enron.com       98          607           705   \n",
       "2    183       p..south@enron.com        8          351           359   \n",
       "4    318   mike.grigsby@enron.com     3702          490          4192   \n",
       "5    303       t..hodge@enron.com       95          570           665   \n",
       "..   ...                      ...      ...          ...           ...   \n",
       "206  114        vkamins@enron.com        0           12            12   \n",
       "207  270    david.duran@enron.com        7          145           152   \n",
       "208  282  sean.crandall@enron.com       94          138           232   \n",
       "209  243   kevin.presto@enron.com      248          198           446   \n",
       "210  131    dave.fuller@enron.com      165          129           294   \n",
       "\n",
       "     w-gerald  w-know  w-busi  w-mexicana  w-transact  ...  w-bartlo   \n",
       "0         1.0     1.0     1.0         NaN         1.0  ...       NaN  \\\n",
       "1         1.0     1.0     1.0         NaN         1.0  ...       1.0   \n",
       "2         1.0     1.0     1.0         NaN         NaN  ...       NaN   \n",
       "4         1.0     1.0     1.0         1.0         1.0  ...       NaN   \n",
       "5         1.0     1.0     1.0         NaN         1.0  ...       NaN   \n",
       "..        ...     ...     ...         ...         ...  ...       ...   \n",
       "206       NaN     1.0     1.0         NaN         1.0  ...       NaN   \n",
       "207       NaN     1.0     1.0         NaN         1.0  ...       NaN   \n",
       "208       NaN     1.0     1.0         NaN         1.0  ...       NaN   \n",
       "209       1.0     1.0     1.0         NaN         1.0  ...       NaN   \n",
       "210       1.0     1.0     1.0         NaN         1.0  ...       NaN   \n",
       "\n",
       "     w-columbiagassubject  w-perron  w-coh  w-agl  w-kinney  w-veselack   \n",
       "0                     NaN       NaN    NaN    NaN       NaN         NaN  \\\n",
       "1                     1.0       1.0    1.0    1.0       1.0         1.0   \n",
       "2                     NaN       NaN    NaN    NaN       NaN         NaN   \n",
       "4                     NaN       NaN    NaN    NaN       NaN         NaN   \n",
       "5                     NaN       NaN    NaN    NaN       NaN         NaN   \n",
       "..                    ...       ...    ...    ...       ...         ...   \n",
       "206                   NaN       NaN    NaN    NaN       NaN         NaN   \n",
       "207                   NaN       NaN    NaN    NaN       NaN         NaN   \n",
       "208                   NaN       NaN    NaN    NaN       NaN         NaN   \n",
       "209                   NaN       NaN    NaN    NaN       NaN         NaN   \n",
       "210                   NaN       NaN    NaN    NaN       NaN         NaN   \n",
       "\n",
       "     w-mwhitt  w-jarnold       title  \n",
       "0         NaN        NaN    director  \n",
       "1         NaN        NaN  specialist  \n",
       "2         NaN        NaN    director  \n",
       "4         NaN        NaN   executive  \n",
       "5         NaN        NaN   executive  \n",
       "..        ...        ...         ...  \n",
       "206       NaN        NaN    director  \n",
       "207       NaN        NaN    director  \n",
       "208       NaN        NaN    director  \n",
       "209       NaN        NaN   executive  \n",
       "210       NaN        NaN     manager  \n",
       "\n",
       "[171 rows x 5119 columns]"
      ]
     },
     "execution_count": 33,
     "metadata": {},
     "output_type": "execute_result"
    }
   ],
   "source": [
    "email_nodes_obs"
   ]
  },
  {
   "cell_type": "code",
   "execution_count": 34,
   "id": "f4ee8c31-5a59-47e3-ade1-a0171371504e",
   "metadata": {},
   "outputs": [],
   "source": [
    "train_x = email_nodes_obs.drop(['id', 'emailaddress', 'title', 'numsent', 'numreceived', 'numexchanged'], axis = 1).fillna(0)\n",
    "train_y = email_nodes_obs['title']\n",
    "\n",
    "test_x = email_nodes_truth.drop(['id', 'emailaddress', 'title', 'numsent', 'numreceived', 'numexchanged'], axis = 1).fillna(0)\n",
    "test_y = email_nodes_truth['title']"
   ]
  },
  {
   "cell_type": "code",
   "execution_count": 35,
   "id": "9eb29f6f-a33d-4f86-beaf-4e13092a473f",
   "metadata": {},
   "outputs": [
    {
     "data": {
      "text/html": [
       "<style>#sk-container-id-1 {color: black;background-color: white;}#sk-container-id-1 pre{padding: 0;}#sk-container-id-1 div.sk-toggleable {background-color: white;}#sk-container-id-1 label.sk-toggleable__label {cursor: pointer;display: block;width: 100%;margin-bottom: 0;padding: 0.3em;box-sizing: border-box;text-align: center;}#sk-container-id-1 label.sk-toggleable__label-arrow:before {content: \"▸\";float: left;margin-right: 0.25em;color: #696969;}#sk-container-id-1 label.sk-toggleable__label-arrow:hover:before {color: black;}#sk-container-id-1 div.sk-estimator:hover label.sk-toggleable__label-arrow:before {color: black;}#sk-container-id-1 div.sk-toggleable__content {max-height: 0;max-width: 0;overflow: hidden;text-align: left;background-color: #f0f8ff;}#sk-container-id-1 div.sk-toggleable__content pre {margin: 0.2em;color: black;border-radius: 0.25em;background-color: #f0f8ff;}#sk-container-id-1 input.sk-toggleable__control:checked~div.sk-toggleable__content {max-height: 200px;max-width: 100%;overflow: auto;}#sk-container-id-1 input.sk-toggleable__control:checked~label.sk-toggleable__label-arrow:before {content: \"▾\";}#sk-container-id-1 div.sk-estimator input.sk-toggleable__control:checked~label.sk-toggleable__label {background-color: #d4ebff;}#sk-container-id-1 div.sk-label input.sk-toggleable__control:checked~label.sk-toggleable__label {background-color: #d4ebff;}#sk-container-id-1 input.sk-hidden--visually {border: 0;clip: rect(1px 1px 1px 1px);clip: rect(1px, 1px, 1px, 1px);height: 1px;margin: -1px;overflow: hidden;padding: 0;position: absolute;width: 1px;}#sk-container-id-1 div.sk-estimator {font-family: monospace;background-color: #f0f8ff;border: 1px dotted black;border-radius: 0.25em;box-sizing: border-box;margin-bottom: 0.5em;}#sk-container-id-1 div.sk-estimator:hover {background-color: #d4ebff;}#sk-container-id-1 div.sk-parallel-item::after {content: \"\";width: 100%;border-bottom: 1px solid gray;flex-grow: 1;}#sk-container-id-1 div.sk-label:hover label.sk-toggleable__label {background-color: #d4ebff;}#sk-container-id-1 div.sk-serial::before {content: \"\";position: absolute;border-left: 1px solid gray;box-sizing: border-box;top: 0;bottom: 0;left: 50%;z-index: 0;}#sk-container-id-1 div.sk-serial {display: flex;flex-direction: column;align-items: center;background-color: white;padding-right: 0.2em;padding-left: 0.2em;position: relative;}#sk-container-id-1 div.sk-item {position: relative;z-index: 1;}#sk-container-id-1 div.sk-parallel {display: flex;align-items: stretch;justify-content: center;background-color: white;position: relative;}#sk-container-id-1 div.sk-item::before, #sk-container-id-1 div.sk-parallel-item::before {content: \"\";position: absolute;border-left: 1px solid gray;box-sizing: border-box;top: 0;bottom: 0;left: 50%;z-index: -1;}#sk-container-id-1 div.sk-parallel-item {display: flex;flex-direction: column;z-index: 1;position: relative;background-color: white;}#sk-container-id-1 div.sk-parallel-item:first-child::after {align-self: flex-end;width: 50%;}#sk-container-id-1 div.sk-parallel-item:last-child::after {align-self: flex-start;width: 50%;}#sk-container-id-1 div.sk-parallel-item:only-child::after {width: 0;}#sk-container-id-1 div.sk-dashed-wrapped {border: 1px dashed gray;margin: 0 0.4em 0.5em 0.4em;box-sizing: border-box;padding-bottom: 0.4em;background-color: white;}#sk-container-id-1 div.sk-label label {font-family: monospace;font-weight: bold;display: inline-block;line-height: 1.2em;}#sk-container-id-1 div.sk-label-container {text-align: center;}#sk-container-id-1 div.sk-container {/* jupyter's `normalize.less` sets `[hidden] { display: none; }` but bootstrap.min.css set `[hidden] { display: none !important; }` so we also need the `!important` here to be able to override the default hidden behavior on the sphinx rendered scikit-learn.org. See: https://github.com/scikit-learn/scikit-learn/issues/21755 */display: inline-block !important;position: relative;}#sk-container-id-1 div.sk-text-repr-fallback {display: none;}</style><div id=\"sk-container-id-1\" class=\"sk-top-container\"><div class=\"sk-text-repr-fallback\"><pre>LogisticRegression(max_iter=300)</pre><b>In a Jupyter environment, please rerun this cell to show the HTML representation or trust the notebook. <br />On GitHub, the HTML representation is unable to render, please try loading this page with nbviewer.org.</b></div><div class=\"sk-container\" hidden><div class=\"sk-item\"><div class=\"sk-estimator sk-toggleable\"><input class=\"sk-toggleable__control sk-hidden--visually\" id=\"sk-estimator-id-1\" type=\"checkbox\" checked><label for=\"sk-estimator-id-1\" class=\"sk-toggleable__label sk-toggleable__label-arrow\">LogisticRegression</label><div class=\"sk-toggleable__content\"><pre>LogisticRegression(max_iter=300)</pre></div></div></div></div></div>"
      ],
      "text/plain": [
       "LogisticRegression(max_iter=300)"
      ]
     },
     "execution_count": 35,
     "metadata": {},
     "output_type": "execute_result"
    }
   ],
   "source": [
    "# classifier = svm.LinearSVC()\n",
    "classifier = LogisticRegression(max_iter=300)\n",
    "classifier.fit(train_x, train_y)"
   ]
  },
  {
   "cell_type": "code",
   "execution_count": 36,
   "id": "bfafc5b6-275d-4a61-a7ad-086fa3c268ef",
   "metadata": {},
   "outputs": [],
   "source": [
    "predictions = classifier.predict(test_x)"
   ]
  },
  {
   "cell_type": "code",
   "execution_count": 37,
   "id": "39cde8e9-95ae-43d9-8c4d-b1db8dafd0ef",
   "metadata": {},
   "outputs": [
    {
     "data": {
      "text/plain": [
       "0.475"
      ]
     },
     "execution_count": 37,
     "metadata": {},
     "output_type": "execute_result"
    }
   ],
   "source": [
    "classifier.score(test_x, test_y)"
   ]
  },
  {
   "cell_type": "code",
   "execution_count": 38,
   "id": "c32f6f75-da1b-491a-8f7f-feb5566eec28",
   "metadata": {},
   "outputs": [
    {
     "data": {
      "text/plain": [
       "array(['executive', 'executive', 'other', 'executive', 'director',\n",
       "       'executive', 'director', 'specialist', 'executive', 'executive',\n",
       "       'specialist', 'executive', 'specialist', 'other', 'manager',\n",
       "       'director', 'manager', 'specialist', 'other', 'executive',\n",
       "       'executive', 'director', 'other', 'director', 'director',\n",
       "       'director', 'specialist', 'director', 'specialist', 'specialist',\n",
       "       'director', 'director', 'specialist', 'executive', 'executive',\n",
       "       'director', 'director', 'executive', 'manager', 'director'],\n",
       "      dtype=object)"
      ]
     },
     "execution_count": 38,
     "metadata": {},
     "output_type": "execute_result"
    }
   ],
   "source": [
    "predictions"
   ]
  },
  {
   "cell_type": "code",
   "execution_count": 39,
   "id": "01e5c3d9-8db3-4118-a70a-444f8086b659",
   "metadata": {},
   "outputs": [
    {
     "data": {
      "text/plain": [
       "array(['director', 'executive', 'manager', 'other', 'specialist'],\n",
       "      dtype=object)"
      ]
     },
     "execution_count": 39,
     "metadata": {},
     "output_type": "execute_result"
    }
   ],
   "source": [
    "# title_map = {\"other\": 0, \"manager\": 1, \"specialist\": 2, \"director\": 3, \"executive\": 4}\n",
    "\n",
    "classifier.classes_"
   ]
  },
  {
   "cell_type": "markdown",
   "id": "629f47db-c363-4b39-abba-ee95f2718588",
   "metadata": {
    "tags": []
   },
   "source": [
    "### Use probabilities for PSL observed data."
   ]
  },
  {
   "cell_type": "code",
   "execution_count": 40,
   "id": "e2d2e4ec-389c-4165-9ae3-2c38a6b783b2",
   "metadata": {},
   "outputs": [],
   "source": [
    "local_EmailHasTitle_probabilities = classifier.predict_proba(test_x)"
   ]
  },
  {
   "cell_type": "code",
   "execution_count": 41,
   "id": "d908e94d-9dc2-44a2-994f-8c69d67457cb",
   "metadata": {},
   "outputs": [],
   "source": [
    "local_EmailHasTitle_obs = pd.DataFrame()\n",
    "row_list = []\n",
    "# build a table\n",
    "for index, probabilities in enumerate(local_EmailHasTitle_probabilities):\n",
    "    for class_index, probability in enumerate(probabilities):\n",
    "        row_dict = {'id': email_nodes_truth.iloc[index]['id'], 'title': title_map[classifier.classes_[class_index]], 'exists': probability}\n",
    "        row_list.append(row_dict)\n",
    "        #print(email_nodes_truth.iloc[index]['id'], \"\\t\", title_map[classifier.classes_[class_index]], \"\\t\", probability)\n",
    "\n",
    "local_EmailHasTitle_obs = pd.concat([local_EmailHasTitle_obs, pd.DataFrame(row_list)], ignore_index=True)"
   ]
  },
  {
   "cell_type": "code",
   "execution_count": 42,
   "id": "4cd751dd-373e-4cc1-a6fd-a94b920c1928",
   "metadata": {},
   "outputs": [],
   "source": [
    "#local_EmailHasTitle_obs.to_csv('Local_EmailHasLabel_obs.csv', sep ='\\t', index=False, header=False, columns=['id', 'title', 'exists'])"
   ]
  },
  {
   "cell_type": "markdown",
   "id": "6ce84efb-d998-4a59-ae6b-66173af05b74",
   "metadata": {
    "tags": []
   },
   "source": [
    "## Link Prediction"
   ]
  },
  {
   "cell_type": "code",
   "execution_count": 43,
   "id": "62b39144-e3bf-4ea8-92ca-44bba23765ea",
   "metadata": {},
   "outputs": [
    {
     "data": {
      "text/html": [
       "<div>\n",
       "<style scoped>\n",
       "    .dataframe tbody tr th:only-of-type {\n",
       "        vertical-align: middle;\n",
       "    }\n",
       "\n",
       "    .dataframe tbody tr th {\n",
       "        vertical-align: top;\n",
       "    }\n",
       "\n",
       "    .dataframe thead th {\n",
       "        text-align: right;\n",
       "    }\n",
       "</style>\n",
       "<table border=\"1\" class=\"dataframe\">\n",
       "  <thead>\n",
       "    <tr style=\"text-align: right;\">\n",
       "      <th></th>\n",
       "      <th>id</th>\n",
       "      <th>w-gerald</th>\n",
       "      <th>w-know</th>\n",
       "      <th>w-busi</th>\n",
       "      <th>w-mexicana</th>\n",
       "      <th>w-transact</th>\n",
       "      <th>w-want</th>\n",
       "      <th>w-thing</th>\n",
       "      <th>w-review</th>\n",
       "      <th>w-questar</th>\n",
       "      <th>...</th>\n",
       "      <th>w-coh</th>\n",
       "      <th>w-agl</th>\n",
       "      <th>w-kinney</th>\n",
       "      <th>w-veselack</th>\n",
       "      <th>w-mwhitt</th>\n",
       "      <th>w-jarnold</th>\n",
       "      <th>numexchanged</th>\n",
       "      <th>email</th>\n",
       "      <th>other_email</th>\n",
       "      <th>exists</th>\n",
       "    </tr>\n",
       "  </thead>\n",
       "  <tbody>\n",
       "    <tr>\n",
       "      <th>0</th>\n",
       "      <td>2693</td>\n",
       "      <td>NaN</td>\n",
       "      <td>1.0</td>\n",
       "      <td>NaN</td>\n",
       "      <td>NaN</td>\n",
       "      <td>1.0</td>\n",
       "      <td>1.0</td>\n",
       "      <td>NaN</td>\n",
       "      <td>1.0</td>\n",
       "      <td>NaN</td>\n",
       "      <td>...</td>\n",
       "      <td>NaN</td>\n",
       "      <td>NaN</td>\n",
       "      <td>NaN</td>\n",
       "      <td>NaN</td>\n",
       "      <td>NaN</td>\n",
       "      <td>NaN</td>\n",
       "      <td>6</td>\n",
       "      <td>286</td>\n",
       "      <td>324</td>\n",
       "      <td>EXIST</td>\n",
       "    </tr>\n",
       "    <tr>\n",
       "      <th>2</th>\n",
       "      <td>1256</td>\n",
       "      <td>NaN</td>\n",
       "      <td>1.0</td>\n",
       "      <td>1.0</td>\n",
       "      <td>NaN</td>\n",
       "      <td>NaN</td>\n",
       "      <td>1.0</td>\n",
       "      <td>1.0</td>\n",
       "      <td>1.0</td>\n",
       "      <td>NaN</td>\n",
       "      <td>...</td>\n",
       "      <td>NaN</td>\n",
       "      <td>NaN</td>\n",
       "      <td>NaN</td>\n",
       "      <td>NaN</td>\n",
       "      <td>NaN</td>\n",
       "      <td>NaN</td>\n",
       "      <td>14</td>\n",
       "      <td>148</td>\n",
       "      <td>131</td>\n",
       "      <td>NOTEXIST</td>\n",
       "    </tr>\n",
       "    <tr>\n",
       "      <th>3</th>\n",
       "      <td>1406</td>\n",
       "      <td>NaN</td>\n",
       "      <td>NaN</td>\n",
       "      <td>NaN</td>\n",
       "      <td>NaN</td>\n",
       "      <td>1.0</td>\n",
       "      <td>1.0</td>\n",
       "      <td>NaN</td>\n",
       "      <td>NaN</td>\n",
       "      <td>NaN</td>\n",
       "      <td>...</td>\n",
       "      <td>NaN</td>\n",
       "      <td>NaN</td>\n",
       "      <td>NaN</td>\n",
       "      <td>NaN</td>\n",
       "      <td>NaN</td>\n",
       "      <td>NaN</td>\n",
       "      <td>3</td>\n",
       "      <td>57</td>\n",
       "      <td>313</td>\n",
       "      <td>EXIST</td>\n",
       "    </tr>\n",
       "    <tr>\n",
       "      <th>4</th>\n",
       "      <td>3129</td>\n",
       "      <td>NaN</td>\n",
       "      <td>1.0</td>\n",
       "      <td>1.0</td>\n",
       "      <td>NaN</td>\n",
       "      <td>1.0</td>\n",
       "      <td>1.0</td>\n",
       "      <td>1.0</td>\n",
       "      <td>1.0</td>\n",
       "      <td>NaN</td>\n",
       "      <td>...</td>\n",
       "      <td>NaN</td>\n",
       "      <td>NaN</td>\n",
       "      <td>NaN</td>\n",
       "      <td>NaN</td>\n",
       "      <td>NaN</td>\n",
       "      <td>NaN</td>\n",
       "      <td>43</td>\n",
       "      <td>34</td>\n",
       "      <td>236</td>\n",
       "      <td>NOTEXIST</td>\n",
       "    </tr>\n",
       "    <tr>\n",
       "      <th>6</th>\n",
       "      <td>989</td>\n",
       "      <td>1.0</td>\n",
       "      <td>1.0</td>\n",
       "      <td>1.0</td>\n",
       "      <td>NaN</td>\n",
       "      <td>1.0</td>\n",
       "      <td>1.0</td>\n",
       "      <td>1.0</td>\n",
       "      <td>1.0</td>\n",
       "      <td>NaN</td>\n",
       "      <td>...</td>\n",
       "      <td>NaN</td>\n",
       "      <td>NaN</td>\n",
       "      <td>NaN</td>\n",
       "      <td>NaN</td>\n",
       "      <td>NaN</td>\n",
       "      <td>NaN</td>\n",
       "      <td>313</td>\n",
       "      <td>195</td>\n",
       "      <td>318</td>\n",
       "      <td>NOTEXIST</td>\n",
       "    </tr>\n",
       "    <tr>\n",
       "      <th>...</th>\n",
       "      <td>...</td>\n",
       "      <td>...</td>\n",
       "      <td>...</td>\n",
       "      <td>...</td>\n",
       "      <td>...</td>\n",
       "      <td>...</td>\n",
       "      <td>...</td>\n",
       "      <td>...</td>\n",
       "      <td>...</td>\n",
       "      <td>...</td>\n",
       "      <td>...</td>\n",
       "      <td>...</td>\n",
       "      <td>...</td>\n",
       "      <td>...</td>\n",
       "      <td>...</td>\n",
       "      <td>...</td>\n",
       "      <td>...</td>\n",
       "      <td>...</td>\n",
       "      <td>...</td>\n",
       "      <td>...</td>\n",
       "      <td>...</td>\n",
       "    </tr>\n",
       "    <tr>\n",
       "      <th>2044</th>\n",
       "      <td>4135</td>\n",
       "      <td>NaN</td>\n",
       "      <td>1.0</td>\n",
       "      <td>NaN</td>\n",
       "      <td>NaN</td>\n",
       "      <td>1.0</td>\n",
       "      <td>1.0</td>\n",
       "      <td>1.0</td>\n",
       "      <td>NaN</td>\n",
       "      <td>1.0</td>\n",
       "      <td>...</td>\n",
       "      <td>NaN</td>\n",
       "      <td>NaN</td>\n",
       "      <td>NaN</td>\n",
       "      <td>NaN</td>\n",
       "      <td>NaN</td>\n",
       "      <td>NaN</td>\n",
       "      <td>31</td>\n",
       "      <td>318</td>\n",
       "      <td>46</td>\n",
       "      <td>NOTEXIST</td>\n",
       "    </tr>\n",
       "    <tr>\n",
       "      <th>2046</th>\n",
       "      <td>2105</td>\n",
       "      <td>NaN</td>\n",
       "      <td>1.0</td>\n",
       "      <td>NaN</td>\n",
       "      <td>NaN</td>\n",
       "      <td>1.0</td>\n",
       "      <td>NaN</td>\n",
       "      <td>NaN</td>\n",
       "      <td>1.0</td>\n",
       "      <td>NaN</td>\n",
       "      <td>...</td>\n",
       "      <td>NaN</td>\n",
       "      <td>NaN</td>\n",
       "      <td>NaN</td>\n",
       "      <td>NaN</td>\n",
       "      <td>NaN</td>\n",
       "      <td>NaN</td>\n",
       "      <td>13</td>\n",
       "      <td>67</td>\n",
       "      <td>288</td>\n",
       "      <td>NOTEXIST</td>\n",
       "    </tr>\n",
       "    <tr>\n",
       "      <th>2047</th>\n",
       "      <td>2374</td>\n",
       "      <td>1.0</td>\n",
       "      <td>1.0</td>\n",
       "      <td>NaN</td>\n",
       "      <td>NaN</td>\n",
       "      <td>1.0</td>\n",
       "      <td>1.0</td>\n",
       "      <td>1.0</td>\n",
       "      <td>1.0</td>\n",
       "      <td>NaN</td>\n",
       "      <td>...</td>\n",
       "      <td>NaN</td>\n",
       "      <td>NaN</td>\n",
       "      <td>NaN</td>\n",
       "      <td>NaN</td>\n",
       "      <td>NaN</td>\n",
       "      <td>NaN</td>\n",
       "      <td>237</td>\n",
       "      <td>198</td>\n",
       "      <td>212</td>\n",
       "      <td>NOTEXIST</td>\n",
       "    </tr>\n",
       "    <tr>\n",
       "      <th>2048</th>\n",
       "      <td>3464</td>\n",
       "      <td>NaN</td>\n",
       "      <td>NaN</td>\n",
       "      <td>NaN</td>\n",
       "      <td>NaN</td>\n",
       "      <td>NaN</td>\n",
       "      <td>1.0</td>\n",
       "      <td>1.0</td>\n",
       "      <td>NaN</td>\n",
       "      <td>NaN</td>\n",
       "      <td>...</td>\n",
       "      <td>NaN</td>\n",
       "      <td>NaN</td>\n",
       "      <td>NaN</td>\n",
       "      <td>NaN</td>\n",
       "      <td>NaN</td>\n",
       "      <td>NaN</td>\n",
       "      <td>1</td>\n",
       "      <td>210</td>\n",
       "      <td>160</td>\n",
       "      <td>NOTEXIST</td>\n",
       "    </tr>\n",
       "    <tr>\n",
       "      <th>2049</th>\n",
       "      <td>531</td>\n",
       "      <td>NaN</td>\n",
       "      <td>NaN</td>\n",
       "      <td>NaN</td>\n",
       "      <td>NaN</td>\n",
       "      <td>NaN</td>\n",
       "      <td>1.0</td>\n",
       "      <td>NaN</td>\n",
       "      <td>NaN</td>\n",
       "      <td>NaN</td>\n",
       "      <td>...</td>\n",
       "      <td>NaN</td>\n",
       "      <td>NaN</td>\n",
       "      <td>NaN</td>\n",
       "      <td>NaN</td>\n",
       "      <td>NaN</td>\n",
       "      <td>NaN</td>\n",
       "      <td>9</td>\n",
       "      <td>316</td>\n",
       "      <td>188</td>\n",
       "      <td>NOTEXIST</td>\n",
       "    </tr>\n",
       "  </tbody>\n",
       "</table>\n",
       "<p>1642 rows × 5118 columns</p>\n",
       "</div>"
      ],
      "text/plain": [
       "        id  w-gerald  w-know  w-busi  w-mexicana  w-transact  w-want  w-thing   \n",
       "0     2693       NaN     1.0     NaN         NaN         1.0     1.0      NaN  \\\n",
       "2     1256       NaN     1.0     1.0         NaN         NaN     1.0      1.0   \n",
       "3     1406       NaN     NaN     NaN         NaN         1.0     1.0      NaN   \n",
       "4     3129       NaN     1.0     1.0         NaN         1.0     1.0      1.0   \n",
       "6      989       1.0     1.0     1.0         NaN         1.0     1.0      1.0   \n",
       "...    ...       ...     ...     ...         ...         ...     ...      ...   \n",
       "2044  4135       NaN     1.0     NaN         NaN         1.0     1.0      1.0   \n",
       "2046  2105       NaN     1.0     NaN         NaN         1.0     NaN      NaN   \n",
       "2047  2374       1.0     1.0     NaN         NaN         1.0     1.0      1.0   \n",
       "2048  3464       NaN     NaN     NaN         NaN         NaN     1.0      1.0   \n",
       "2049   531       NaN     NaN     NaN         NaN         NaN     1.0      NaN   \n",
       "\n",
       "      w-review  w-questar  ...  w-coh  w-agl  w-kinney  w-veselack  w-mwhitt   \n",
       "0          1.0        NaN  ...    NaN    NaN       NaN         NaN       NaN  \\\n",
       "2          1.0        NaN  ...    NaN    NaN       NaN         NaN       NaN   \n",
       "3          NaN        NaN  ...    NaN    NaN       NaN         NaN       NaN   \n",
       "4          1.0        NaN  ...    NaN    NaN       NaN         NaN       NaN   \n",
       "6          1.0        NaN  ...    NaN    NaN       NaN         NaN       NaN   \n",
       "...        ...        ...  ...    ...    ...       ...         ...       ...   \n",
       "2044       NaN        1.0  ...    NaN    NaN       NaN         NaN       NaN   \n",
       "2046       1.0        NaN  ...    NaN    NaN       NaN         NaN       NaN   \n",
       "2047       1.0        NaN  ...    NaN    NaN       NaN         NaN       NaN   \n",
       "2048       NaN        NaN  ...    NaN    NaN       NaN         NaN       NaN   \n",
       "2049       NaN        NaN  ...    NaN    NaN       NaN         NaN       NaN   \n",
       "\n",
       "      w-jarnold  numexchanged  email  other_email    exists  \n",
       "0           NaN             6    286          324     EXIST  \n",
       "2           NaN            14    148          131  NOTEXIST  \n",
       "3           NaN             3     57          313     EXIST  \n",
       "4           NaN            43     34          236  NOTEXIST  \n",
       "6           NaN           313    195          318  NOTEXIST  \n",
       "...         ...           ...    ...          ...       ...  \n",
       "2044        NaN            31    318           46  NOTEXIST  \n",
       "2046        NaN            13     67          288  NOTEXIST  \n",
       "2047        NaN           237    198          212  NOTEXIST  \n",
       "2048        NaN             1    210          160  NOTEXIST  \n",
       "2049        NaN             9    316          188  NOTEXIST  \n",
       "\n",
       "[1642 rows x 5118 columns]"
      ]
     },
     "execution_count": 43,
     "metadata": {},
     "output_type": "execute_result"
    }
   ],
   "source": [
    "manager_edges_obs"
   ]
  },
  {
   "cell_type": "code",
   "execution_count": 44,
   "id": "6b16e26e-20d3-4fd7-82ef-3ad16e0f310c",
   "metadata": {},
   "outputs": [],
   "source": [
    "train_x = manager_edges_obs.drop(['id', 'numexchanged', 'email', 'other_email', 'exists'], axis = 1).fillna(0)\n",
    "train_y = manager_edges_obs['exists']\n",
    "\n",
    "test_x = manager_edges_truth.drop(['id', 'numexchanged', 'email', 'other_email', 'exists'], axis = 1).fillna(0)\n",
    "test_y = manager_edges_truth['exists']"
   ]
  },
  {
   "cell_type": "code",
   "execution_count": 45,
   "id": "1c3d569a-0462-46ee-b3d7-9fa855be4a6f",
   "metadata": {},
   "outputs": [
    {
     "data": {
      "text/plain": [
       "w-gerald      float64\n",
       "w-know        float64\n",
       "w-busi        float64\n",
       "w-mexicana    float64\n",
       "w-transact    float64\n",
       "               ...   \n",
       "w-agl         float64\n",
       "w-kinney      float64\n",
       "w-veselack    float64\n",
       "w-mwhitt      float64\n",
       "w-jarnold     float64\n",
       "Length: 5113, dtype: object"
      ]
     },
     "execution_count": 45,
     "metadata": {},
     "output_type": "execute_result"
    }
   ],
   "source": [
    "train_x.dtypes"
   ]
  },
  {
   "cell_type": "code",
   "execution_count": 46,
   "id": "78f49109-1029-43d9-9c55-3d14265d4d58",
   "metadata": {},
   "outputs": [
    {
     "data": {
      "text/html": [
       "<style>#sk-container-id-2 {color: black;background-color: white;}#sk-container-id-2 pre{padding: 0;}#sk-container-id-2 div.sk-toggleable {background-color: white;}#sk-container-id-2 label.sk-toggleable__label {cursor: pointer;display: block;width: 100%;margin-bottom: 0;padding: 0.3em;box-sizing: border-box;text-align: center;}#sk-container-id-2 label.sk-toggleable__label-arrow:before {content: \"▸\";float: left;margin-right: 0.25em;color: #696969;}#sk-container-id-2 label.sk-toggleable__label-arrow:hover:before {color: black;}#sk-container-id-2 div.sk-estimator:hover label.sk-toggleable__label-arrow:before {color: black;}#sk-container-id-2 div.sk-toggleable__content {max-height: 0;max-width: 0;overflow: hidden;text-align: left;background-color: #f0f8ff;}#sk-container-id-2 div.sk-toggleable__content pre {margin: 0.2em;color: black;border-radius: 0.25em;background-color: #f0f8ff;}#sk-container-id-2 input.sk-toggleable__control:checked~div.sk-toggleable__content {max-height: 200px;max-width: 100%;overflow: auto;}#sk-container-id-2 input.sk-toggleable__control:checked~label.sk-toggleable__label-arrow:before {content: \"▾\";}#sk-container-id-2 div.sk-estimator input.sk-toggleable__control:checked~label.sk-toggleable__label {background-color: #d4ebff;}#sk-container-id-2 div.sk-label input.sk-toggleable__control:checked~label.sk-toggleable__label {background-color: #d4ebff;}#sk-container-id-2 input.sk-hidden--visually {border: 0;clip: rect(1px 1px 1px 1px);clip: rect(1px, 1px, 1px, 1px);height: 1px;margin: -1px;overflow: hidden;padding: 0;position: absolute;width: 1px;}#sk-container-id-2 div.sk-estimator {font-family: monospace;background-color: #f0f8ff;border: 1px dotted black;border-radius: 0.25em;box-sizing: border-box;margin-bottom: 0.5em;}#sk-container-id-2 div.sk-estimator:hover {background-color: #d4ebff;}#sk-container-id-2 div.sk-parallel-item::after {content: \"\";width: 100%;border-bottom: 1px solid gray;flex-grow: 1;}#sk-container-id-2 div.sk-label:hover label.sk-toggleable__label {background-color: #d4ebff;}#sk-container-id-2 div.sk-serial::before {content: \"\";position: absolute;border-left: 1px solid gray;box-sizing: border-box;top: 0;bottom: 0;left: 50%;z-index: 0;}#sk-container-id-2 div.sk-serial {display: flex;flex-direction: column;align-items: center;background-color: white;padding-right: 0.2em;padding-left: 0.2em;position: relative;}#sk-container-id-2 div.sk-item {position: relative;z-index: 1;}#sk-container-id-2 div.sk-parallel {display: flex;align-items: stretch;justify-content: center;background-color: white;position: relative;}#sk-container-id-2 div.sk-item::before, #sk-container-id-2 div.sk-parallel-item::before {content: \"\";position: absolute;border-left: 1px solid gray;box-sizing: border-box;top: 0;bottom: 0;left: 50%;z-index: -1;}#sk-container-id-2 div.sk-parallel-item {display: flex;flex-direction: column;z-index: 1;position: relative;background-color: white;}#sk-container-id-2 div.sk-parallel-item:first-child::after {align-self: flex-end;width: 50%;}#sk-container-id-2 div.sk-parallel-item:last-child::after {align-self: flex-start;width: 50%;}#sk-container-id-2 div.sk-parallel-item:only-child::after {width: 0;}#sk-container-id-2 div.sk-dashed-wrapped {border: 1px dashed gray;margin: 0 0.4em 0.5em 0.4em;box-sizing: border-box;padding-bottom: 0.4em;background-color: white;}#sk-container-id-2 div.sk-label label {font-family: monospace;font-weight: bold;display: inline-block;line-height: 1.2em;}#sk-container-id-2 div.sk-label-container {text-align: center;}#sk-container-id-2 div.sk-container {/* jupyter's `normalize.less` sets `[hidden] { display: none; }` but bootstrap.min.css set `[hidden] { display: none !important; }` so we also need the `!important` here to be able to override the default hidden behavior on the sphinx rendered scikit-learn.org. See: https://github.com/scikit-learn/scikit-learn/issues/21755 */display: inline-block !important;position: relative;}#sk-container-id-2 div.sk-text-repr-fallback {display: none;}</style><div id=\"sk-container-id-2\" class=\"sk-top-container\"><div class=\"sk-text-repr-fallback\"><pre>LogisticRegression(max_iter=300)</pre><b>In a Jupyter environment, please rerun this cell to show the HTML representation or trust the notebook. <br />On GitHub, the HTML representation is unable to render, please try loading this page with nbviewer.org.</b></div><div class=\"sk-container\" hidden><div class=\"sk-item\"><div class=\"sk-estimator sk-toggleable\"><input class=\"sk-toggleable__control sk-hidden--visually\" id=\"sk-estimator-id-2\" type=\"checkbox\" checked><label for=\"sk-estimator-id-2\" class=\"sk-toggleable__label sk-toggleable__label-arrow\">LogisticRegression</label><div class=\"sk-toggleable__content\"><pre>LogisticRegression(max_iter=300)</pre></div></div></div></div></div>"
      ],
      "text/plain": [
       "LogisticRegression(max_iter=300)"
      ]
     },
     "execution_count": 46,
     "metadata": {},
     "output_type": "execute_result"
    }
   ],
   "source": [
    "classifier = LogisticRegression(max_iter=300)\n",
    "classifier.fit(train_x, train_y)"
   ]
  },
  {
   "cell_type": "code",
   "execution_count": 47,
   "id": "a747ccb9-4f5e-4a66-88a3-c9746190e941",
   "metadata": {},
   "outputs": [],
   "source": [
    "predictions = classifier.predict(test_x)"
   ]
  },
  {
   "cell_type": "code",
   "execution_count": 48,
   "id": "7be4925b-f34f-45d0-aed2-66f43dc737a6",
   "metadata": {},
   "outputs": [
    {
     "data": {
      "text/plain": [
       "0.8997555012224939"
      ]
     },
     "execution_count": 48,
     "metadata": {},
     "output_type": "execute_result"
    }
   ],
   "source": [
    "classifier.score(test_x, test_y)"
   ]
  },
  {
   "cell_type": "markdown",
   "id": "c96d14ce-56ce-42ec-83c3-ca334059bd0a",
   "metadata": {
    "tags": []
   },
   "source": [
    "### Use probabilities for PSL observed data."
   ]
  },
  {
   "cell_type": "code",
   "execution_count": 49,
   "id": "29ce15c4-4de3-4215-ad05-f25270f4b7ff",
   "metadata": {},
   "outputs": [],
   "source": [
    "local_Manages_probabilities = classifier.predict_proba(test_x)"
   ]
  },
  {
   "cell_type": "code",
   "execution_count": 50,
   "id": "1538253a-284e-4f26-9611-2497a2db5f53",
   "metadata": {},
   "outputs": [],
   "source": [
    "local_Manages_obs = pd.DataFrame()\n",
    "row_list = []\n",
    "# build a table\n",
    "for index, probabilities in enumerate(local_Manages_probabilities):\n",
    "    row_dict = {'email': manager_edges_truth.iloc[index]['email'], 'other_email': manager_edges_truth.iloc[index]['other_email'], 'exists': exists_map[classifier.classes_[np.argmax(probabilities)]]}\n",
    "    row_list.append(row_dict)\n",
    "    #print(email_nodes_truth.iloc[index]['id'], \"\\t\", title_map[classifier.classes_[class_index]], \"\\t\", probability)\n",
    "\n",
    "local_Manages_obs = pd.concat([local_Manages_obs, pd.DataFrame(row_list)])"
   ]
  },
  {
   "cell_type": "code",
   "execution_count": 51,
   "id": "bf55a131-02cd-4b7f-ab8c-4f90ba83d178",
   "metadata": {},
   "outputs": [
    {
     "data": {
      "text/html": [
       "<div>\n",
       "<style scoped>\n",
       "    .dataframe tbody tr th:only-of-type {\n",
       "        vertical-align: middle;\n",
       "    }\n",
       "\n",
       "    .dataframe tbody tr th {\n",
       "        vertical-align: top;\n",
       "    }\n",
       "\n",
       "    .dataframe thead th {\n",
       "        text-align: right;\n",
       "    }\n",
       "</style>\n",
       "<table border=\"1\" class=\"dataframe\">\n",
       "  <thead>\n",
       "    <tr style=\"text-align: right;\">\n",
       "      <th></th>\n",
       "      <th>email</th>\n",
       "      <th>other_email</th>\n",
       "      <th>exists</th>\n",
       "    </tr>\n",
       "  </thead>\n",
       "  <tbody>\n",
       "    <tr>\n",
       "      <th>0</th>\n",
       "      <td>74</td>\n",
       "      <td>37</td>\n",
       "      <td>0.0</td>\n",
       "    </tr>\n",
       "    <tr>\n",
       "      <th>1</th>\n",
       "      <td>24</td>\n",
       "      <td>170</td>\n",
       "      <td>0.0</td>\n",
       "    </tr>\n",
       "    <tr>\n",
       "      <th>2</th>\n",
       "      <td>174</td>\n",
       "      <td>136</td>\n",
       "      <td>0.0</td>\n",
       "    </tr>\n",
       "    <tr>\n",
       "      <th>3</th>\n",
       "      <td>108</td>\n",
       "      <td>46</td>\n",
       "      <td>0.0</td>\n",
       "    </tr>\n",
       "    <tr>\n",
       "      <th>4</th>\n",
       "      <td>209</td>\n",
       "      <td>202</td>\n",
       "      <td>0.0</td>\n",
       "    </tr>\n",
       "    <tr>\n",
       "      <th>...</th>\n",
       "      <td>...</td>\n",
       "      <td>...</td>\n",
       "      <td>...</td>\n",
       "    </tr>\n",
       "    <tr>\n",
       "      <th>404</th>\n",
       "      <td>117</td>\n",
       "      <td>285</td>\n",
       "      <td>0.0</td>\n",
       "    </tr>\n",
       "    <tr>\n",
       "      <th>405</th>\n",
       "      <td>219</td>\n",
       "      <td>193</td>\n",
       "      <td>0.0</td>\n",
       "    </tr>\n",
       "    <tr>\n",
       "      <th>406</th>\n",
       "      <td>91</td>\n",
       "      <td>167</td>\n",
       "      <td>0.0</td>\n",
       "    </tr>\n",
       "    <tr>\n",
       "      <th>407</th>\n",
       "      <td>101</td>\n",
       "      <td>208</td>\n",
       "      <td>0.0</td>\n",
       "    </tr>\n",
       "    <tr>\n",
       "      <th>408</th>\n",
       "      <td>34</td>\n",
       "      <td>273</td>\n",
       "      <td>0.0</td>\n",
       "    </tr>\n",
       "  </tbody>\n",
       "</table>\n",
       "<p>409 rows × 3 columns</p>\n",
       "</div>"
      ],
      "text/plain": [
       "     email  other_email  exists\n",
       "0       74           37     0.0\n",
       "1       24          170     0.0\n",
       "2      174          136     0.0\n",
       "3      108           46     0.0\n",
       "4      209          202     0.0\n",
       "..     ...          ...     ...\n",
       "404    117          285     0.0\n",
       "405    219          193     0.0\n",
       "406     91          167     0.0\n",
       "407    101          208     0.0\n",
       "408     34          273     0.0\n",
       "\n",
       "[409 rows x 3 columns]"
      ]
     },
     "execution_count": 51,
     "metadata": {},
     "output_type": "execute_result"
    }
   ],
   "source": [
    "local_Manages_obs"
   ]
  },
  {
   "cell_type": "code",
   "execution_count": 52,
   "id": "b40f6dc2-33e8-472f-b54a-5ff2de0533c8",
   "metadata": {},
   "outputs": [],
   "source": [
    "# Since it's undirected, add in the reverse edges.\n",
    "local_Manages_obs_sym = local_Manages_obs[['other_email', 'email', 'exists']].copy()\n",
    "\n",
    "local_Manages_obs_sym.rename(columns = {'other_email':'email', 'email':'other_email'}, inplace = True)\n",
    "\n",
    "local_Manages_obs = pd.concat([local_Manages_obs, local_Manages_obs_sym])\n"
   ]
  },
  {
   "cell_type": "code",
   "execution_count": 53,
   "id": "c2bb9bfd-2aa7-4b47-8862-26d02d62eee3",
   "metadata": {},
   "outputs": [],
   "source": [
    "#local_Manages_obs.to_csv('Local_Manages_obs.csv', sep ='\\t', index=False, header=False, columns=['email', 'other_email', 'exists'])"
   ]
  },
  {
   "cell_type": "markdown",
   "id": "9aea56bc-8610-496b-86ab-93eb497bc83a",
   "metadata": {
    "tags": []
   },
   "source": [
    "## Entity Resolution"
   ]
  },
  {
   "cell_type": "code",
   "execution_count": 56,
   "id": "bec3ca29-b8ac-4896-9f09-756a0b7f272e",
   "metadata": {},
   "outputs": [],
   "source": [
    "from strsimpy.qgram import QGram\n",
    "from scipy.spatial import distance\n",
    "\n",
    "qgram = QGram(1)\n",
    "\n",
    "node_to_email = dict(zip(email_nodes['id'], email_nodes['emailaddress']))\n"
   ]
  },
  {
   "cell_type": "code",
   "execution_count": null,
   "id": "45e14e7e-ce03-4d95-8999-441bb7ad3bc2",
   "metadata": {},
   "outputs": [],
   "source": [
    "# Calculate features for Training set\n",
    "\n",
    "train_x = full_set_coref_edges_obs.copy()\n",
    "\n",
    "train_x['address_similarity'] = 0.0\n",
    "train_x['bow_cosine_similarity'] = 0.0\n",
    "train_x['bow_jaccard_similarity'] = 0.0\n",
    "\n",
    "\n",
    "for index in train_x.index:\n",
    "    string_similarity = qgram.distance(node_to_email[train_x.iloc[index]['email']], node_to_email[train_x.iloc[index]['alt_email']])\n",
    "    train_x.loc[index, 'address_similarity'] = string_similarity\n",
    "\n",
    "    bow_cosine_similarity = distance.cosine(np.nan_to_num(list(email_nodes[email_nodes['id'] == train_x.iloc[index]['email']].iloc[0][5:-1])), np.nan_to_num(list(email_nodes[email_nodes['id'] == train_x.iloc[index]['alt_email']].iloc[0][5:-1])))\n",
    "    train_x.loc[index, 'bow_cosine_similarity'] = bow_cosine_similarity\n",
    "\n",
    "    bow_jaccard_similarity = distance.jaccard(np.nan_to_num(list(email_nodes[email_nodes['id'] == train_x.iloc[index]['email']].iloc[0][5:-1])), np.nan_to_num(list(email_nodes[email_nodes['id'] == train_x.iloc[index]['alt_email']].iloc[0][5:-1])))\n",
    "    train_x.loc[index, 'bow_jaccard_similarity'] = bow_jaccard_similarity\n",
    "    \n",
    "\n",
    "train_x = train_x.drop(['email', 'alt_email', 'exists'], axis = 1)\n",
    "train_y = full_set_coref_edges_obs['exists'].copy()"
   ]
  },
  {
   "cell_type": "code",
   "execution_count": null,
   "id": "9c99623a-7cb1-4497-adec-fc111061e4cb",
   "metadata": {},
   "outputs": [],
   "source": [
    "# Test set\n",
    "\n",
    "test_x = coref_truth.copy()\n",
    "test_y = coref_truth['exists'].copy()\n",
    "\n",
    "test_x['address_similarity'] = 0.0\n",
    "test_x['bow_cosine_similarity'] = 0.0\n",
    "test_x['bow_jaccard_similarity'] = 0.0\n",
    "\n",
    "for index in test_x.index:\n",
    "    string_similarity = qgram.distance(node_to_email[test_x.iloc[index]['email']], node_to_email[test_x.iloc[index]['alt_email']])\n",
    "    test_x.loc[index, 'address_similarity'] = string_similarity\n",
    "\n",
    "    bow_cosine_similarity = distance.cosine(np.nan_to_num(list(email_nodes[email_nodes['id'] == test_x.iloc[index]['email']].iloc[0][5:-1])), np.nan_to_num(list(email_nodes[email_nodes['id'] == test_x.iloc[index]['alt_email']].iloc[0][5:-1])))\n",
    "    test_x.loc[index, 'bow_cosine_similarity'] = bow_cosine_similarity\n",
    "\n",
    "    bow_jaccard_similarity = distance.jaccard(np.nan_to_num(list(email_nodes[email_nodes['id'] == test_x.iloc[index]['email']].iloc[0][5:-1])), np.nan_to_num(list(email_nodes[email_nodes['id'] == test_x.iloc[index]['alt_email']].iloc[0][5:-1])))\n",
    "    test_x.loc[index, 'bow_jaccard_similarity'] = bow_jaccard_similarity\n",
    "    \n",
    "test_x = test_x.drop(['email', 'alt_email', 'exists'], axis = 1)\n",
    "test_y = coref_truth['exists'].copy()\n"
   ]
  },
  {
   "cell_type": "code",
   "execution_count": null,
   "id": "50b86007-255e-4d60-897c-527b95d3ce8a",
   "metadata": {},
   "outputs": [],
   "source": [
    "classifier = LogisticRegression()\n",
    "classifier.fit(train_x, train_y)"
   ]
  },
  {
   "cell_type": "code",
   "execution_count": null,
   "id": "e48f3038-12f4-4bdf-8ecb-3e8259067151",
   "metadata": {},
   "outputs": [],
   "source": [
    "classifier.score(test_x, test_y)"
   ]
  },
  {
   "cell_type": "code",
   "execution_count": null,
   "id": "e929e41b-8b64-459b-aa83-82f91a6a8266",
   "metadata": {},
   "outputs": [],
   "source": [
    "predictions = classifier.predict(test_x)"
   ]
  },
  {
   "cell_type": "code",
   "execution_count": null,
   "id": "248ecbe2-643d-43c2-9c0f-5d4f726b6f3f",
   "metadata": {},
   "outputs": [],
   "source": [
    "f1_score(test_y, predictions)"
   ]
  },
  {
   "cell_type": "markdown",
   "id": "4fb28082-32c8-4b1a-a977-643449b7c338",
   "metadata": {
    "tags": []
   },
   "source": [
    "### Use probabilities for PSL observed data."
   ]
  },
  {
   "cell_type": "code",
   "execution_count": null,
   "id": "427ecd7e-f638-4898-a37e-fe87bda74c17",
   "metadata": {},
   "outputs": [],
   "source": [
    "coref_truth"
   ]
  },
  {
   "cell_type": "code",
   "execution_count": null,
   "id": "4c7eb557-7aad-4911-8951-84cbc4655ebc",
   "metadata": {},
   "outputs": [],
   "source": [
    "local_CoRef_probabilities = classifier.predict_proba(test_x)"
   ]
  },
  {
   "cell_type": "code",
   "execution_count": null,
   "id": "168909c3-21e8-4976-b9e7-f04603746cb3",
   "metadata": {},
   "outputs": [],
   "source": [
    "local_CoRef_obs = pd.DataFrame()\n",
    "row_list = []\n",
    "# build a table\n",
    "for index, probabilities in enumerate(local_CoRef_probabilities):\n",
    "    row_dict = {'email': int(coref_truth.iloc[index]['email']), 'alt_email': int(coref_truth.iloc[index]['alt_email']), 'exists': probabilities[1]}\n",
    "    row_list.append(row_dict)\n",
    "    #print(email_nodes_truth.iloc[index]['id'], \"\\t\", title_map[classifier.classes_[class_index]], \"\\t\", probability)\n",
    "\n",
    "local_CoRef_obs = pd.concat([local_CoRef_obs, pd.DataFrame(row_list)], ignore_index=True)"
   ]
  },
  {
   "cell_type": "code",
   "execution_count": null,
   "id": "2a9f1557-275a-43f1-9b91-c127b4466463",
   "metadata": {},
   "outputs": [],
   "source": [
    "#local_CoRef_obs.to_csv('Local_CoRef_obs.csv', sep ='\\t', index=False, header=False, columns=['email', 'alt_email', 'exists'])"
   ]
  },
  {
   "cell_type": "code",
   "execution_count": null,
   "id": "e19d019d-a8fa-4b6d-8f25-5821944d2fc1",
   "metadata": {},
   "outputs": [],
   "source": [
    "# Sanity check the positive instances\n",
    "set_1 = {(pair[0], pair[1]) for pair in zip(local_CoRef_obs[local_CoRef_obs['exists'] > 0.5]['email'], local_CoRef_obs[local_CoRef_obs['exists'] > 0.5]['alt_email'])}\n",
    "set_2 = {(pair[0], pair[1]) for pair in zip(coref_truth[coref_truth['exists'] == 1]['email'], coref_truth[coref_truth['exists'] == 1]['alt_email'])}\n",
    "set_2 & set_1"
   ]
  },
  {
   "cell_type": "markdown",
   "id": "f92b1315-ef85-439b-8e23-8c9dd8c90e33",
   "metadata": {
    "tags": []
   },
   "source": [
    "# Calculate Similarity Metrics"
   ]
  },
  {
   "cell_type": "markdown",
   "id": "07efe1fb-2264-42cf-8530-ff7a87464e14",
   "metadata": {
    "tags": []
   },
   "source": [
    "## Entity Resolution"
   ]
  },
  {
   "cell_type": "markdown",
   "id": "cf731375-2130-4432-b214-db5f7b4b5834",
   "metadata": {
    "tags": []
   },
   "source": [
    "### Email Address similarity"
   ]
  },
  {
   "cell_type": "code",
   "execution_count": 54,
   "id": "fdb5d563-d694-4718-b2d9-124d0bb09be3",
   "metadata": {
    "tags": []
   },
   "outputs": [
    {
     "data": {
      "text/plain": [
       "'laura.luce@enron.com'"
      ]
     },
     "execution_count": 54,
     "metadata": {},
     "output_type": "execute_result"
    }
   ],
   "source": [
    "\n",
    "# qgram = QGram(1)\n",
    "# print(qgram.distance('ABCD', 'ABCE'))\n",
    "email_nodes[email_nodes['id'] == 268]['emailaddress'].iloc[0]"
   ]
  },
  {
   "cell_type": "code",
   "execution_count": 61,
   "id": "b60b0d45-4d86-4498-9b7f-b6cf243a8c05",
   "metadata": {
    "tags": []
   },
   "outputs": [
    {
     "name": "stdout",
     "output_type": "stream",
     "text": [
      "0\n",
      "1000\n",
      "2000\n",
      "3000\n",
      "4000\n",
      "5000\n",
      "6000\n",
      "7000\n",
      "8000\n",
      "9000\n",
      "10000\n",
      "11000\n",
      "12000\n",
      "13000\n",
      "14000\n",
      "15000\n",
      "16000\n",
      "17000\n",
      "18000\n",
      "19000\n",
      "20000\n",
      "21000\n",
      "22000\n"
     ]
    }
   ],
   "source": [
    "email_pairs = {pair for pair in itertools.combinations(email_nodes['id'], 2)}\n",
    "\n",
    "qgram = QGram(1)\n",
    "\n",
    "sim_email = pd.DataFrame()\n",
    "row_list = []\n",
    "\n",
    "i = 0\n",
    "for pair in email_pairs:\n",
    "    if i % 1000 == 0:\n",
    "        print(i)\n",
    "    i += 1\n",
    "\n",
    "    email_1 = email_nodes[email_nodes['id'] == pair[0]]['emailaddress'].iloc[0]\n",
    "    email_2 = email_nodes[email_nodes['id'] == pair[1]]['emailaddress'].iloc[0]    \n",
    "\n",
    "    string_similarity = qgram.distance(email_1, email_2)\n",
    "\n",
    "    row_dict = {'email':pair[0], 'other_email':pair[1], 'qgram_sim':string_similarity}\n",
    "    row_list.append(row_dict)\n",
    "    \n",
    "sim_email = pd.concat([sim_email, pd.DataFrame(row_list)])"
   ]
  },
  {
   "cell_type": "code",
   "execution_count": 62,
   "id": "f161ec0b-5bcc-4499-bce3-ae7c6e49a73b",
   "metadata": {
    "tags": []
   },
   "outputs": [
    {
     "data": {
      "text/html": [
       "<div>\n",
       "<style scoped>\n",
       "    .dataframe tbody tr th:only-of-type {\n",
       "        vertical-align: middle;\n",
       "    }\n",
       "\n",
       "    .dataframe tbody tr th {\n",
       "        vertical-align: top;\n",
       "    }\n",
       "\n",
       "    .dataframe thead th {\n",
       "        text-align: right;\n",
       "    }\n",
       "</style>\n",
       "<table border=\"1\" class=\"dataframe\">\n",
       "  <thead>\n",
       "    <tr style=\"text-align: right;\">\n",
       "      <th></th>\n",
       "      <th>email</th>\n",
       "      <th>other_email</th>\n",
       "      <th>qgram_sim</th>\n",
       "    </tr>\n",
       "  </thead>\n",
       "  <tbody>\n",
       "    <tr>\n",
       "      <th>0</th>\n",
       "      <td>132</td>\n",
       "      <td>268</td>\n",
       "      <td>10</td>\n",
       "    </tr>\n",
       "    <tr>\n",
       "      <th>1</th>\n",
       "      <td>266</td>\n",
       "      <td>268</td>\n",
       "      <td>13</td>\n",
       "    </tr>\n",
       "    <tr>\n",
       "      <th>2</th>\n",
       "      <td>185</td>\n",
       "      <td>279</td>\n",
       "      <td>11</td>\n",
       "    </tr>\n",
       "    <tr>\n",
       "      <th>3</th>\n",
       "      <td>160</td>\n",
       "      <td>222</td>\n",
       "      <td>14</td>\n",
       "    </tr>\n",
       "    <tr>\n",
       "      <th>4</th>\n",
       "      <td>220</td>\n",
       "      <td>273</td>\n",
       "      <td>16</td>\n",
       "    </tr>\n",
       "    <tr>\n",
       "      <th>...</th>\n",
       "      <td>...</td>\n",
       "      <td>...</td>\n",
       "      <td>...</td>\n",
       "    </tr>\n",
       "    <tr>\n",
       "      <th>22150</th>\n",
       "      <td>138</td>\n",
       "      <td>83</td>\n",
       "      <td>19</td>\n",
       "    </tr>\n",
       "    <tr>\n",
       "      <th>22151</th>\n",
       "      <td>229</td>\n",
       "      <td>201</td>\n",
       "      <td>9</td>\n",
       "    </tr>\n",
       "    <tr>\n",
       "      <th>22152</th>\n",
       "      <td>303</td>\n",
       "      <td>150</td>\n",
       "      <td>15</td>\n",
       "    </tr>\n",
       "    <tr>\n",
       "      <th>22153</th>\n",
       "      <td>14</td>\n",
       "      <td>47</td>\n",
       "      <td>15</td>\n",
       "    </tr>\n",
       "    <tr>\n",
       "      <th>22154</th>\n",
       "      <td>41</td>\n",
       "      <td>150</td>\n",
       "      <td>9</td>\n",
       "    </tr>\n",
       "  </tbody>\n",
       "</table>\n",
       "<p>22155 rows × 3 columns</p>\n",
       "</div>"
      ],
      "text/plain": [
       "       email  other_email  qgram_sim\n",
       "0        132          268         10\n",
       "1        266          268         13\n",
       "2        185          279         11\n",
       "3        160          222         14\n",
       "4        220          273         16\n",
       "...      ...          ...        ...\n",
       "22150    138           83         19\n",
       "22151    229          201          9\n",
       "22152    303          150         15\n",
       "22153     14           47         15\n",
       "22154     41          150          9\n",
       "\n",
       "[22155 rows x 3 columns]"
      ]
     },
     "execution_count": 62,
     "metadata": {},
     "output_type": "execute_result"
    }
   ],
   "source": [
    "sim_email"
   ]
  },
  {
   "cell_type": "code",
   "execution_count": 67,
   "id": "b536de52-4cf5-40a3-b4d5-dec90e68d1b6",
   "metadata": {
    "tags": []
   },
   "outputs": [],
   "source": [
    "# Since it's undirected, add in the reverse edges.\n",
    "sim_email_sym = sim_email[['other_email', 'email', 'qgram_sim']].copy()\n",
    "\n",
    "sim_email_sym.rename(columns = {'other_email':'email', 'email':'other_email'}, inplace = True)\n",
    "\n",
    "total_sim_email = pd.concat([sim_email, sim_email_sym], ignore_index=True)"
   ]
  },
  {
   "cell_type": "code",
   "execution_count": 68,
   "id": "0fdf9ba4-0b2e-4f67-ab30-42592f44f80e",
   "metadata": {
    "tags": []
   },
   "outputs": [
    {
     "data": {
      "text/html": [
       "<div>\n",
       "<style scoped>\n",
       "    .dataframe tbody tr th:only-of-type {\n",
       "        vertical-align: middle;\n",
       "    }\n",
       "\n",
       "    .dataframe tbody tr th {\n",
       "        vertical-align: top;\n",
       "    }\n",
       "\n",
       "    .dataframe thead th {\n",
       "        text-align: right;\n",
       "    }\n",
       "</style>\n",
       "<table border=\"1\" class=\"dataframe\">\n",
       "  <thead>\n",
       "    <tr style=\"text-align: right;\">\n",
       "      <th></th>\n",
       "      <th>email</th>\n",
       "      <th>other_email</th>\n",
       "      <th>qgram_sim</th>\n",
       "    </tr>\n",
       "  </thead>\n",
       "  <tbody>\n",
       "    <tr>\n",
       "      <th>0</th>\n",
       "      <td>132</td>\n",
       "      <td>268</td>\n",
       "      <td>10</td>\n",
       "    </tr>\n",
       "    <tr>\n",
       "      <th>1</th>\n",
       "      <td>266</td>\n",
       "      <td>268</td>\n",
       "      <td>13</td>\n",
       "    </tr>\n",
       "    <tr>\n",
       "      <th>2</th>\n",
       "      <td>185</td>\n",
       "      <td>279</td>\n",
       "      <td>11</td>\n",
       "    </tr>\n",
       "    <tr>\n",
       "      <th>3</th>\n",
       "      <td>160</td>\n",
       "      <td>222</td>\n",
       "      <td>14</td>\n",
       "    </tr>\n",
       "    <tr>\n",
       "      <th>4</th>\n",
       "      <td>220</td>\n",
       "      <td>273</td>\n",
       "      <td>16</td>\n",
       "    </tr>\n",
       "    <tr>\n",
       "      <th>...</th>\n",
       "      <td>...</td>\n",
       "      <td>...</td>\n",
       "      <td>...</td>\n",
       "    </tr>\n",
       "    <tr>\n",
       "      <th>44305</th>\n",
       "      <td>83</td>\n",
       "      <td>138</td>\n",
       "      <td>19</td>\n",
       "    </tr>\n",
       "    <tr>\n",
       "      <th>44306</th>\n",
       "      <td>201</td>\n",
       "      <td>229</td>\n",
       "      <td>9</td>\n",
       "    </tr>\n",
       "    <tr>\n",
       "      <th>44307</th>\n",
       "      <td>150</td>\n",
       "      <td>303</td>\n",
       "      <td>15</td>\n",
       "    </tr>\n",
       "    <tr>\n",
       "      <th>44308</th>\n",
       "      <td>47</td>\n",
       "      <td>14</td>\n",
       "      <td>15</td>\n",
       "    </tr>\n",
       "    <tr>\n",
       "      <th>44309</th>\n",
       "      <td>150</td>\n",
       "      <td>41</td>\n",
       "      <td>9</td>\n",
       "    </tr>\n",
       "  </tbody>\n",
       "</table>\n",
       "<p>44310 rows × 3 columns</p>\n",
       "</div>"
      ],
      "text/plain": [
       "       email  other_email  qgram_sim\n",
       "0        132          268         10\n",
       "1        266          268         13\n",
       "2        185          279         11\n",
       "3        160          222         14\n",
       "4        220          273         16\n",
       "...      ...          ...        ...\n",
       "44305     83          138         19\n",
       "44306    201          229          9\n",
       "44307    150          303         15\n",
       "44308     47           14         15\n",
       "44309    150           41          9\n",
       "\n",
       "[44310 rows x 3 columns]"
      ]
     },
     "execution_count": 68,
     "metadata": {},
     "output_type": "execute_result"
    }
   ],
   "source": [
    "total_sim_email"
   ]
  },
  {
   "cell_type": "code",
   "execution_count": 74,
   "id": "858978df-7abc-4675-8f19-a00486d8e795",
   "metadata": {
    "tags": []
   },
   "outputs": [],
   "source": [
    "is_similar = []\n",
    "for sim in total_sim_email['qgram_sim']:\n",
    "    is_similar.append(float(sim < 3))\n",
    "    \n",
    "total_sim_email[\"is_similar\"] = is_similar\n",
    "    "
   ]
  },
  {
   "cell_type": "code",
   "execution_count": 75,
   "id": "c0406d48-f012-4435-a243-d48e64d54bb9",
   "metadata": {
    "tags": []
   },
   "outputs": [
    {
     "data": {
      "text/html": [
       "<div>\n",
       "<style scoped>\n",
       "    .dataframe tbody tr th:only-of-type {\n",
       "        vertical-align: middle;\n",
       "    }\n",
       "\n",
       "    .dataframe tbody tr th {\n",
       "        vertical-align: top;\n",
       "    }\n",
       "\n",
       "    .dataframe thead th {\n",
       "        text-align: right;\n",
       "    }\n",
       "</style>\n",
       "<table border=\"1\" class=\"dataframe\">\n",
       "  <thead>\n",
       "    <tr style=\"text-align: right;\">\n",
       "      <th></th>\n",
       "      <th>email</th>\n",
       "      <th>other_email</th>\n",
       "      <th>qgram_sim</th>\n",
       "      <th>is_similar</th>\n",
       "    </tr>\n",
       "  </thead>\n",
       "  <tbody>\n",
       "    <tr>\n",
       "      <th>0</th>\n",
       "      <td>132</td>\n",
       "      <td>268</td>\n",
       "      <td>10</td>\n",
       "      <td>0.0</td>\n",
       "    </tr>\n",
       "    <tr>\n",
       "      <th>1</th>\n",
       "      <td>266</td>\n",
       "      <td>268</td>\n",
       "      <td>13</td>\n",
       "      <td>0.0</td>\n",
       "    </tr>\n",
       "    <tr>\n",
       "      <th>2</th>\n",
       "      <td>185</td>\n",
       "      <td>279</td>\n",
       "      <td>11</td>\n",
       "      <td>0.0</td>\n",
       "    </tr>\n",
       "    <tr>\n",
       "      <th>3</th>\n",
       "      <td>160</td>\n",
       "      <td>222</td>\n",
       "      <td>14</td>\n",
       "      <td>0.0</td>\n",
       "    </tr>\n",
       "    <tr>\n",
       "      <th>4</th>\n",
       "      <td>220</td>\n",
       "      <td>273</td>\n",
       "      <td>16</td>\n",
       "      <td>0.0</td>\n",
       "    </tr>\n",
       "    <tr>\n",
       "      <th>...</th>\n",
       "      <td>...</td>\n",
       "      <td>...</td>\n",
       "      <td>...</td>\n",
       "      <td>...</td>\n",
       "    </tr>\n",
       "    <tr>\n",
       "      <th>44305</th>\n",
       "      <td>83</td>\n",
       "      <td>138</td>\n",
       "      <td>19</td>\n",
       "      <td>0.0</td>\n",
       "    </tr>\n",
       "    <tr>\n",
       "      <th>44306</th>\n",
       "      <td>201</td>\n",
       "      <td>229</td>\n",
       "      <td>9</td>\n",
       "      <td>0.0</td>\n",
       "    </tr>\n",
       "    <tr>\n",
       "      <th>44307</th>\n",
       "      <td>150</td>\n",
       "      <td>303</td>\n",
       "      <td>15</td>\n",
       "      <td>0.0</td>\n",
       "    </tr>\n",
       "    <tr>\n",
       "      <th>44308</th>\n",
       "      <td>47</td>\n",
       "      <td>14</td>\n",
       "      <td>15</td>\n",
       "      <td>0.0</td>\n",
       "    </tr>\n",
       "    <tr>\n",
       "      <th>44309</th>\n",
       "      <td>150</td>\n",
       "      <td>41</td>\n",
       "      <td>9</td>\n",
       "      <td>0.0</td>\n",
       "    </tr>\n",
       "  </tbody>\n",
       "</table>\n",
       "<p>44310 rows × 4 columns</p>\n",
       "</div>"
      ],
      "text/plain": [
       "       email  other_email  qgram_sim  is_similar\n",
       "0        132          268         10         0.0\n",
       "1        266          268         13         0.0\n",
       "2        185          279         11         0.0\n",
       "3        160          222         14         0.0\n",
       "4        220          273         16         0.0\n",
       "...      ...          ...        ...         ...\n",
       "44305     83          138         19         0.0\n",
       "44306    201          229          9         0.0\n",
       "44307    150          303         15         0.0\n",
       "44308     47           14         15         0.0\n",
       "44309    150           41          9         0.0\n",
       "\n",
       "[44310 rows x 4 columns]"
      ]
     },
     "execution_count": 75,
     "metadata": {},
     "output_type": "execute_result"
    }
   ],
   "source": [
    "total_sim_email"
   ]
  },
  {
   "cell_type": "code",
   "execution_count": 76,
   "id": "47011ebe-09dd-42bc-b379-460fe2c8e70f",
   "metadata": {
    "tags": []
   },
   "outputs": [],
   "source": [
    "total_sim_email.to_csv('Sim_Email_thresh_3.csv', sep ='\\t', index=False, header=False, columns=['email', 'other_email', 'is_similar'])"
   ]
  },
  {
   "cell_type": "code",
   "execution_count": 63,
   "id": "6424a298-1144-4ae7-bbdf-1b85f8e1b9a0",
   "metadata": {
    "tags": []
   },
   "outputs": [],
   "source": [
    "# sim_email.to_csv('Sim_Email.csv', sep ='\\t', index=False, header=False, columns=['email', 'other_email', 'qgram_sim'])"
   ]
  },
  {
   "cell_type": "code",
   "execution_count": 64,
   "id": "9db78f04-dd02-4a1e-8abe-c7453927c74a",
   "metadata": {
    "tags": []
   },
   "outputs": [
    {
     "name": "stdout",
     "output_type": "stream",
     "text": [
      "5961    0.0\n",
      "Name: exists, dtype: float64\n",
      "--------\n",
      "5745    1.0\n",
      "Name: exists, dtype: float64\n",
      "--------\n",
      "9390    1.0\n",
      "Name: exists, dtype: float64\n",
      "--------\n",
      "11133    1.0\n",
      "Name: exists, dtype: float64\n",
      "--------\n",
      "10448    1.0\n",
      "Name: exists, dtype: float64\n",
      "--------\n",
      "24983    1.0\n",
      "Name: exists, dtype: float64\n",
      "--------\n",
      "40046    0.0\n",
      "Name: exists, dtype: float64\n",
      "--------\n",
      "44266    0.0\n",
      "Name: exists, dtype: float64\n",
      "--------\n",
      "33492    1.0\n",
      "Name: exists, dtype: float64\n",
      "--------\n",
      "9061    1.0\n",
      "Name: exists, dtype: float64\n",
      "--------\n",
      "17292    0.0\n",
      "Name: exists, dtype: float64\n",
      "--------\n",
      "38822    1.0\n",
      "Name: exists, dtype: float64\n",
      "--------\n",
      "39965    1.0\n",
      "Name: exists, dtype: float64\n",
      "--------\n",
      "24851    0.0\n",
      "Name: exists, dtype: float64\n",
      "--------\n",
      "12085    1.0\n",
      "Name: exists, dtype: float64\n",
      "--------\n",
      "9477    1.0\n",
      "Name: exists, dtype: float64\n",
      "--------\n",
      "27945    1.0\n",
      "Name: exists, dtype: float64\n",
      "--------\n",
      "10317    1.0\n",
      "Name: exists, dtype: float64\n",
      "--------\n",
      "817    1.0\n",
      "Name: exists, dtype: float64\n",
      "--------\n",
      "18743    0.0\n",
      "Name: exists, dtype: float64\n",
      "--------\n",
      "38730    1.0\n",
      "Name: exists, dtype: float64\n",
      "--------\n",
      "32512    0.0\n",
      "Name: exists, dtype: float64\n",
      "--------\n",
      "30059    1.0\n",
      "Name: exists, dtype: float64\n",
      "--------\n",
      "2040    1.0\n",
      "Name: exists, dtype: float64\n",
      "--------\n",
      "19400    0.0\n",
      "Name: exists, dtype: float64\n",
      "--------\n",
      "8316    1.0\n",
      "Name: exists, dtype: float64\n",
      "--------\n",
      "15745    0.0\n",
      "Name: exists, dtype: float64\n",
      "--------\n",
      "11411    1.0\n",
      "Name: exists, dtype: float64\n",
      "--------\n",
      "7287    1.0\n",
      "Name: exists, dtype: float64\n",
      "--------\n",
      "19246    1.0\n",
      "Name: exists, dtype: float64\n",
      "--------\n",
      "15219    1.0\n",
      "Name: exists, dtype: float64\n",
      "--------\n",
      "3797    0.0\n",
      "Name: exists, dtype: float64\n",
      "--------\n",
      "4373    0.0\n",
      "Name: exists, dtype: float64\n",
      "--------\n",
      "31925    1.0\n",
      "Name: exists, dtype: float64\n",
      "--------\n",
      "18441    1.0\n",
      "Name: exists, dtype: float64\n",
      "--------\n",
      "24018    1.0\n",
      "Name: exists, dtype: float64\n",
      "--------\n",
      "13478    0.0\n",
      "Name: exists, dtype: float64\n",
      "--------\n",
      "2047    0.0\n",
      "Name: exists, dtype: float64\n",
      "--------\n",
      "31852    1.0\n",
      "Name: exists, dtype: float64\n",
      "--------\n",
      "33299    0.0\n",
      "Name: exists, dtype: float64\n",
      "--------\n",
      "2590    0.0\n",
      "Name: exists, dtype: float64\n",
      "--------\n",
      "9246    1.0\n",
      "Name: exists, dtype: float64\n",
      "--------\n",
      "15901    0.0\n",
      "Name: exists, dtype: float64\n",
      "--------\n",
      "23629    1.0\n",
      "Name: exists, dtype: float64\n",
      "--------\n",
      "20035    0.0\n",
      "Name: exists, dtype: float64\n",
      "--------\n",
      "19093    0.0\n",
      "Name: exists, dtype: float64\n",
      "--------\n",
      "43823    0.0\n",
      "Name: exists, dtype: float64\n",
      "--------\n"
     ]
    }
   ],
   "source": [
    "# Sanity Check, this should print mostly \"exists=1.0\"\n",
    "\n",
    "for pair in zip(sim_email[sim_email['qgram_sim'] < 5]['email'], sim_email[sim_email['qgram_sim'] < 5]['other_email']):\n",
    "    print(full_set_coref_edges_data[(full_set_coref_edges_data['email'] == pair[0]) & (full_set_coref_edges_data['alt_email'] == pair[1])]['exists'])\n",
    "    print(\"--------\")"
   ]
  },
  {
   "cell_type": "markdown",
   "id": "6c4d997b-671d-4c7a-b13a-bf059d1aa463",
   "metadata": {
    "tags": []
   },
   "source": [
    "### Bag of words similarity"
   ]
  },
  {
   "cell_type": "code",
   "execution_count": null,
   "id": "7db77662-be4c-46db-8732-db764d178e82",
   "metadata": {},
   "outputs": [],
   "source": [
    "# These similarity features will be used for PSL predicates instead of a local classifier.\n",
    "from scipy.spatial import distance\n",
    "from matplotlib import pyplot as plt"
   ]
  },
  {
   "cell_type": "code",
   "execution_count": null,
   "id": "609941be-118d-4376-a99b-17de2022bae0",
   "metadata": {
    "tags": []
   },
   "outputs": [],
   "source": [
    "sim_bow = pd.DataFrame()\n",
    "row_list = []\n",
    "\n",
    "\n",
    "for pair in email_pairs:\n",
    "    entity_1 = email_nodes[email_nodes['id'] == pair[0]]\n",
    "    entity_2 = email_nodes[email_nodes['id'] == pair[1]]\n",
    "    \n",
    "    bow_1 = entity_1.iloc[0][5:-1]\n",
    "    bow_2 = entity_2.iloc[0][5:-1]\n",
    "    # FIXME: Jaccard distance needs to be on sets\n",
    "    row_dict = {'email':pair[0], 'other_email':pair[1], 'jaccard_sim_bow':distance.jaccard(list(bow_1), list(bow_2)), 'cosine_sim_bow':distance.cosine(np.nan_to_num(list(bow_1)), np.nan_to_num(list(bow_2)))}\n",
    "    row_list.append(row_dict)\n",
    "    \n",
    "sim_bow = pd.concat([sim_bow, pd.DataFrame(row_list)])\n"
   ]
  },
  {
   "cell_type": "code",
   "execution_count": null,
   "id": "5b817ac4-8d5b-4f34-b3be-6d2b58198d09",
   "metadata": {},
   "outputs": [],
   "source": [
    "sim_bow['jaccard_sim_bow'].describe()"
   ]
  },
  {
   "cell_type": "code",
   "execution_count": null,
   "id": "d11d1e36-fa2b-4c94-85d8-8d6f328f072c",
   "metadata": {},
   "outputs": [],
   "source": [
    "sim_bow['cosine_sim_bow'].describe()"
   ]
  },
  {
   "cell_type": "code",
   "execution_count": null,
   "id": "05548168-0a53-4e39-9863-daae33a0f4ab",
   "metadata": {},
   "outputs": [],
   "source": [
    "# Since it's undirected, add in the reverse edges.\n",
    "sim_bow_sym = sim_bow[['other_email', 'email', 'jaccard_sim_bow', 'cosine_sim_bow']].copy()\n",
    "sim_bow_sym.rename(columns = {'other_email':'email', 'email':'other_email'}, inplace = True)\n",
    "\n",
    "sim_bow = pd.concat([sim_bow, sim_bow_sym])"
   ]
  },
  {
   "cell_type": "code",
   "execution_count": null,
   "id": "da3ce440-ca4f-4327-b30b-d83324e73972",
   "metadata": {},
   "outputs": [],
   "source": [
    "# sim_bow.to_csv('Sim_Jaccard_Bow.csv', sep ='\\t', index=False, header=False, columns=['email', 'other_email', 'jaccard_sim_bow'])"
   ]
  },
  {
   "cell_type": "code",
   "execution_count": null,
   "id": "ff38e721-dcb7-4165-9239-b6a1fd184ee0",
   "metadata": {
    "tags": []
   },
   "outputs": [],
   "source": [
    "# sim_bow.to_csv('Sim_Cosine_Bow.csv', sep ='\\t', index=False, header=False, columns=['email', 'other_email', 'cosine_sim_bow'])"
   ]
  },
  {
   "cell_type": "markdown",
   "id": "7b8bf1c4-ab6d-4a3d-a05c-9a56bfb0e970",
   "metadata": {
    "tags": []
   },
   "source": [
    "### Network Based silmilarity"
   ]
  },
  {
   "cell_type": "code",
   "execution_count": null,
   "id": "1c2d4f9e-2d24-4e61-8106-ad83511be175",
   "metadata": {
    "tags": []
   },
   "outputs": [],
   "source": [
    "# Load in the observed communication network\n",
    "# need to rename one of the columns due to key collision\n",
    "# use copy for safety\n",
    "!cp $FILE_GROUND_TRUTH_COMMUNICATION_EDGES .\n",
    "!sed -i 's/\\temail/\\tother_email/2g' enron.DIRECTED.sentto.tab\n",
    "\n",
    "communication_edges = load_table('enron.DIRECTED.sentto.tab')\n",
    "\n",
    "# FIXME: can probably omit this line\n",
    "# manager_edges.drop('NOTEXIST,EXIST', axis=1, inplace=True)\n",
    "\n",
    "resolve_column_type(communication_edges)\n",
    "\n",
    "communication_edges.dtypes"
   ]
  },
  {
   "cell_type": "code",
   "execution_count": null,
   "id": "0d436ee9-137f-4d7f-ac82-eb691cbeedc6",
   "metadata": {
    "tags": []
   },
   "outputs": [],
   "source": [
    "communication_edges"
   ]
  },
  {
   "cell_type": "code",
   "execution_count": null,
   "id": "86a8c3f7-2b7c-4804-b2c1-6cee4b1f18cb",
   "metadata": {},
   "outputs": [],
   "source": [
    "# Add in existence\n",
    "communication_edges['exists'] = 1.0\n",
    "\n",
    "# Calculated the missing edges that were blocked.\n",
    "missing_edges = {pair for pair in itertools.permutations(email_nodes['id'], 2)} - {pair for pair in zip(communication_edges['email'], communication_edges['other_email'])}\n",
    "# add in the missing edges\n",
    "row_list = []\n",
    "for email, alt_email in missing_edges:\n",
    "    row_dict = {'email':email, 'other_email':alt_email, 'exists':0 }\n",
    "    row_list.append(row_dict)\n",
    "\n",
    "full_set_communication_edges = pd.concat([communication_edges, pd.DataFrame(row_list)], ignore_index=True)"
   ]
  },
  {
   "cell_type": "code",
   "execution_count": null,
   "id": "c433c602-9160-4e3f-9f6e-373eebad0ca9",
   "metadata": {},
   "outputs": [],
   "source": [
    "# full_set_communication_edges.to_csv('Communicates.csv', sep ='\\t', index=False, header=False, columns=['email', 'other_email', 'exists'])"
   ]
  },
  {
   "cell_type": "code",
   "execution_count": null,
   "id": "acf29363-9ef7-4aa8-b0d8-0f3a847a7e77",
   "metadata": {},
   "outputs": [],
   "source": [
    "# prepare ground truth\n",
    "coref_map = {(int(full_set_coref_edges_data.iloc[index]['email']), int(full_set_coref_edges_data.iloc[index]['alt_email'])):full_set_coref_edges_data.iloc[index]['exists'] for index in full_set_coref_edges_data.index}\n"
   ]
  },
  {
   "cell_type": "code",
   "execution_count": null,
   "id": "96c89823-a693-4858-9208-64f860d89e36",
   "metadata": {
    "tags": []
   },
   "outputs": [],
   "source": [
    "sim_network = pd.DataFrame()\n",
    "row_list = []\n",
    "\n",
    "\n",
    "for id_1, id_2 in email_pairs:\n",
    "    \n",
    "    adjacent_nodes_1 = set(communication_edges[communication_edges['email'] == id_1]['other_email'])\n",
    "    adjacent_nodes_2 = set(communication_edges[communication_edges['email'] == id_2]['other_email'])\n",
    "\n",
    "    entity_1 = email_nodes[email_nodes['id'] == id_1]\n",
    "    entity_2 = email_nodes[email_nodes['id'] == id_2]\n",
    "    \n",
    "    bow_1 = entity_1.iloc[0][5:-1]\n",
    "    bow_2 = entity_2.iloc[0][5:-1]\n",
    "\n",
    "\n",
    "    jaccard_sim =  len(adjacent_nodes_1 & adjacent_nodes_2) / len(adjacent_nodes_1 | adjacent_nodes_2 ) if len(adjacent_nodes_1 | adjacent_nodes_2) != 0 else 0\n",
    "    dice_sim =  (2 * len(adjacent_nodes_1 & adjacent_nodes_2) ) / (len(adjacent_nodes_1) + len(adjacent_nodes_2)) if len(adjacent_nodes_1) + len(adjacent_nodes_2) != 0 else 0\n",
    "    \n",
    "    # dice_sim = \n",
    "    \n",
    "    row_dict = {'email':id_1, 'other_email':id_2, 'jaccard_sim_network':jaccard_sim, 'dice_sim_network':dice_sim, 'jaccard_sim_bow':distance.jaccard(list(bow_1), list(bow_2)), 'cosine_sim_bow':distance.cosine(np.nan_to_num(list(bow_1)), np.nan_to_num(list(bow_2))), 'is_coref': coref_map[(id_1, id_2)]}\n",
    "    row_list.append(row_dict)\n",
    "    \n",
    "sim_network = pd.concat([sim_network, pd.DataFrame(row_list)])\n",
    "    "
   ]
  },
  {
   "cell_type": "code",
   "execution_count": null,
   "id": "ceef394c-2b2c-4337-ab6d-9d13b4ad0739",
   "metadata": {},
   "outputs": [],
   "source": [
    "# Since it's undirected, add in the reverse edges.\n",
    "sim_network_sym = sim_network[['other_email', 'email', 'jaccard_sim_network', 'dice_sim_network', 'jaccard_sim_bow', 'cosine_sim_bow', 'is_coref']].copy()\n",
    "sim_network_sym.rename(columns = {'other_email':'email', 'email':'other_email'}, inplace = True)\n",
    "\n",
    "sim_network = pd.concat([sim_network, sim_network_sym], ignore_index=True)"
   ]
  },
  {
   "cell_type": "code",
   "execution_count": null,
   "id": "fe5eeb53-c2e1-465d-80ae-54651bea2a15",
   "metadata": {},
   "outputs": [],
   "source": [
    "sim_network"
   ]
  },
  {
   "cell_type": "code",
   "execution_count": null,
   "id": "3acee4f8-cfb0-4e33-89ec-88c86dc8cb4c",
   "metadata": {},
   "outputs": [],
   "source": [
    "#sim_network.to_csv('Sim_network.csv', sep ='\\t', index=False)"
   ]
  },
  {
   "cell_type": "markdown",
   "id": "53d438f6-e20e-40e3-baaf-3f371e354834",
   "metadata": {
    "tags": []
   },
   "source": [
    "### Feature analysis"
   ]
  },
  {
   "cell_type": "code",
<<<<<<< HEAD
   "execution_count": null,
   "id": "d748a063-e147-44b5-a4e5-b3a32a5ab845",
=======
   "execution_count": 85,
   "id": "2dbab0be-2762-4509-b379-dd7c917bcfd3",
>>>>>>> e4909ba5cc2d5b4a39c21f03850aa9c502f2ba85
   "metadata": {},
   "outputs": [],
   "source": [
    "import math\n",
    "from sklearn.metrics import mean_squared_error\n",
    "\n",
    "# Computes RMSEs from ground truth and similarity metric\n",
    "# Returns (Total RMSE, Positive RMSE, Negative RMSE )\n",
    "def compute_rmse(table, similarity):\n",
    "    total_rmse = math.sqrt(mean_squared_error(table['is_coref'], table[similarity]))\n",
    "    pos_rmse = math.sqrt(mean_squared_error(table[table['is_coref'] == 1]['is_coref'], table[table['is_coref'] == 1][similarity]))\n",
    "    neg_rmse = math.sqrt(mean_squared_error(table[table['is_coref'] == 0]['is_coref'], table[table['is_coref'] == 0][similarity]))\n",
    "    print(\"total_rmse:\\tpos_rmse:\\tneg_rmse: \")\n",
    "    print(total_rmse, pos_rmse, neg_rmse, sep=\"\\t\")\n",
    "    "
   ]
  },
  {
   "cell_type": "code",
<<<<<<< HEAD
   "execution_count": null,
   "id": "24652eb2-5f41-4590-ae45-ec6b5f561482",
=======
   "execution_count": 86,
   "id": "77e56ebf-fd6d-493f-9130-ec18d0a9b7bb",
>>>>>>> e4909ba5cc2d5b4a39c21f03850aa9c502f2ba85
   "metadata": {},
   "outputs": [
    {
     "name": "stdout",
     "output_type": "stream",
     "text": [
      "total_rmse:\tpos_rmse:\tneg_rmse: \n",
      "0.13848393033621553\t0.9086121900017012\t0.12369745279302635\n"
     ]
    }
   ],
   "source": [
    "compute_rmse(sim_network, 'dice_sim_network')\n"
   ]
  },
  {
   "cell_type": "code",
<<<<<<< HEAD
   "execution_count": null,
   "id": "aec1afbc-74c9-47d7-a2b4-c24d65d050d1",
   "metadata": {},
   "outputs": [],
=======
   "execution_count": 87,
   "id": "82649c24-9eff-4e56-9a56-faf252ca0740",
   "metadata": {},
   "outputs": [
    {
     "name": "stdout",
     "output_type": "stream",
     "text": [
      "total_rmse:\tpos_rmse:\tneg_rmse: \n",
      "0.1007772878286104\t0.9369029082861241\t0.07736244600129531\n"
     ]
    }
   ],
>>>>>>> e4909ba5cc2d5b4a39c21f03850aa9c502f2ba85
   "source": [
    "compute_rmse(sim_network, 'jaccard_sim_network')\n"
   ]
  },
  {
   "cell_type": "code",
<<<<<<< HEAD
   "execution_count": null,
   "id": "66c76da7-68fa-459a-9581-9ce192064c4a",
   "metadata": {},
   "outputs": [],
   "source": [
    "from matplotlib import pyplot as plt\n",
    "\n",
    "fig, axis = plt.subplots(figsize = (10, 5))\n",
    "axis.hist(filtered_frame[\"jaccard_sim_network\"], bins = [0, 0.05, 0.1, 0.15, .20, 0.25, 0.255, 0.30, 0.35, 0.40, 0.50, 0.55, .60, 0.65, 0.70, 0.75, .80, 0.85, 0.90, 0.95, 1.00])\n",
    "# Displaying the graph\n",
    "plt.show()"
   ]
  },
  {
   "cell_type": "code",
   "execution_count": null,
   "id": "77e56ebf-fd6d-493f-9130-ec18d0a9b7bb",
   "metadata": {},
   "outputs": [],
   "source": [
    "import math\n",
    "from sklearn.metrics import mean_squared_error\n",
    "y_truth = sim_network['is_coref']\n",
    "y_pred  = sim_network['dice_sim_network']\n",
    "\n",
    "math.sqrt(mean_squared_error(y_pred, y_truth))"
   ]
  },
  {
   "cell_type": "code",
   "execution_count": null,
   "id": "82649c24-9eff-4e56-9a56-faf252ca0740",
   "metadata": {},
   "outputs": [],
   "source": [
    "y_truth = sim_network['is_coref']\n",
    "y_pred  = sim_network['jaccard_sim_network']\n",
    "\n",
    "math.sqrt(mean_squared_error(y_pred, y_truth))"
   ]
  },
  {
   "cell_type": "code",
   "execution_count": null,
   "id": "45254373-524f-41a9-a14a-f143184e8068",
   "metadata": {},
   "outputs": [],
   "source": [
    "y_truth = sim_network[sim_network['is_coref'] == 1]['is_coref']\n",
    "y_pred  = sim_network[sim_network['is_coref'] == 1]['jaccard_sim_network']\n",
    "\n",
    "math.sqrt(mean_squared_error(y_pred, y_truth))"
   ]
  },
  {
   "cell_type": "code",
   "execution_count": null,
   "id": "cfe03562-fe4b-43d0-a158-a53b28233c5c",
   "metadata": {},
   "outputs": [],
   "source": [
    "sim_network"
   ]
  },
  {
   "cell_type": "code",
   "execution_count": null,
   "id": "995a3f7e-28eb-43ca-a092-3315eaf1132c",
   "metadata": {},
   "outputs": [],
=======
   "execution_count": 88,
   "id": "cfe03562-fe4b-43d0-a158-a53b28233c5c",
   "metadata": {},
   "outputs": [
    {
     "data": {
      "text/plain": [
       "(array([3.9112e+04, 3.4340e+03, 1.1320e+03, 3.6200e+02, 1.6400e+02,\n",
       "        9.2000e+01, 1.0000e+01, 0.0000e+00, 2.0000e+00, 2.0000e+00]),\n",
       " array([0. , 0.1, 0.2, 0.3, 0.4, 0.5, 0.6, 0.7, 0.8, 0.9, 1. ]),\n",
       " <BarContainer object of 10 artists>)"
      ]
     },
     "execution_count": 88,
     "metadata": {},
     "output_type": "execute_result"
    },
    {
     "data": {
      "image/png": "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\n",
      "text/plain": [
       "<Figure size 640x480 with 1 Axes>"
      ]
     },
     "metadata": {},
     "output_type": "display_data"
    }
   ],
>>>>>>> e4909ba5cc2d5b4a39c21f03850aa9c502f2ba85
   "source": [
    "# visualize distribution\n",
    "import matplotlib.pyplot as plt\n",
    "\n",
    "plt.hist(sim_network[\"jaccard_sim_network\"])\n"
   ]
  },
  {
   "cell_type": "code",
<<<<<<< HEAD
   "execution_count": null,
   "id": "199001c1-d55a-4659-83ce-373393262e44",
   "metadata": {},
   "outputs": [],
   "source": [
    "# TODO: Give a function a similarity method.  Computes RMSEs"
   ]
  },
  {
   "cell_type": "code",
   "execution_count": null,
   "id": "240d2ce0-bd83-4851-b942-9fda8b64a225",
   "metadata": {},
   "outputs": [],
=======
   "execution_count": 89,
   "id": "e376ca68-b100-45b4-b93c-4af281e08a9d",
   "metadata": {},
   "outputs": [
    {
     "data": {
      "text/plain": [
       "(array([150.,  22.,  18.,   6.,  10.,   0.,   2.,   2.,   0.,   2.]),\n",
       " array([0.        , 0.08163265, 0.16326531, 0.24489796, 0.32653061,\n",
       "        0.40816327, 0.48979592, 0.57142857, 0.65306122, 0.73469388,\n",
       "        0.81632653]),\n",
       " <BarContainer object of 10 artists>)"
      ]
     },
     "execution_count": 89,
     "metadata": {},
     "output_type": "execute_result"
    },
    {
     "data": {
      "image/png": "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\n",
      "text/plain": [
       "<Figure size 640x480 with 1 Axes>"
      ]
     },
     "metadata": {},
     "output_type": "display_data"
    }
   ],
>>>>>>> e4909ba5cc2d5b4a39c21f03850aa9c502f2ba85
   "source": [
    "plt.hist(sim_network[sim_network[\"is_coref\"] == 1][\"jaccard_sim_network\"] )\n"
   ]
  },
  {
   "cell_type": "code",
<<<<<<< HEAD
   "execution_count": null,
   "id": "c5159a05-4a1b-43fe-8047-193d6df4d589",
   "metadata": {},
   "outputs": [],
=======
   "execution_count": 90,
   "id": "d90f1a8b-0e56-42b5-81d9-5fb4fd3f8801",
   "metadata": {},
   "outputs": [
    {
     "data": {
      "text/plain": [
       "(array([3.8958e+04, 3.4040e+03, 1.1200e+03, 3.5400e+02, 1.6200e+02,\n",
       "        9.0000e+01, 8.0000e+00, 0.0000e+00, 0.0000e+00, 2.0000e+00]),\n",
       " array([0. , 0.1, 0.2, 0.3, 0.4, 0.5, 0.6, 0.7, 0.8, 0.9, 1. ]),\n",
       " <BarContainer object of 10 artists>)"
      ]
     },
     "execution_count": 90,
     "metadata": {},
     "output_type": "execute_result"
    },
    {
     "data": {
      "image/png": "iVBORw0KGgoAAAANSUhEUgAAAjkAAAGdCAYAAADwjmIIAAAAOXRFWHRTb2Z0d2FyZQBNYXRwbG90bGliIHZlcnNpb24zLjYuMiwgaHR0cHM6Ly9tYXRwbG90bGliLm9yZy8o6BhiAAAACXBIWXMAAA9hAAAPYQGoP6dpAAAyg0lEQVR4nO3dfXBU9b3H8U8S2A0guwiYhFyCIFQhEqAECeszmrJKtHKlU1CGRgxyoYGRpOUhlRsQexsuthVaEGppDXcGykNHaE0wGEMDV4miwVweNLlV4w0ObMBKshghgeTcPzo5dUsQNuTB/fl+zZyRPed7fud7fgL7mZNzDmGWZVkCAAAwTHhnNwAAANAeCDkAAMBIhBwAAGAkQg4AADASIQcAABiJkAMAAIxEyAEAAEYi5AAAACN16ewGOlNTU5OOHz+unj17KiwsrLPbAQAAV8CyLJ05c0axsbEKD7/09ZpvdMg5fvy44uLiOrsNAADQCseOHVP//v0vuf0bHXJ69uwp6e+T5HK5OrkbAABwJfx+v+Li4uzv8Uv5Roec5h9RuVwuQg4AACHmcreacOMxAAAw0lWFnBUrVigsLEzz58+31507d07p6enq06ePrrnmGk2ePFnV1dUB+1VVVSklJUXdu3dXVFSUFixYoAsXLgTUFBcXa/To0XI6nRoyZIhyc3MvOv7atWs1cOBARUZGKikpSQcOHLia0wEAAAZpdch5++239Zvf/EYjRowIWJ+RkaGXX35Z27dv1969e3X8+HE9/PDD9vbGxkalpKSooaFB+/fv18aNG5Wbm6vs7Gy7prKyUikpKRo/frzKyso0f/58zZw5U7t377Zrtm7dqszMTC1dulQHDx7UyJEj5fV6dfLkydaeEgAAMInVCmfOnLG+9a1vWYWFhdZdd91lPfnkk5ZlWVZNTY3VtWtXa/v27Xbt+++/b0mySkpKLMuyrF27dlnh4eGWz+eza9atW2e5XC6rvr7esizLWrhwoXXzzTcHHHPKlCmW1+u1P48dO9ZKT0+3Pzc2NlqxsbFWTk7OFZ9HbW2tJcmqra298pMHAACd6kq/v1t1JSc9PV0pKSlKTk4OWF9aWqrz588HrB86dKgGDBigkpISSVJJSYkSEhIUHR1t13i9Xvn9fh09etSu+eexvV6vPUZDQ4NKS0sDasLDw5WcnGzXtKS+vl5+vz9gAQAAZgr66aotW7bo4MGDevvtty/a5vP55HA41KtXr4D10dHR8vl8ds2XA07z9uZtX1Xj9/t19uxZnT59Wo2NjS3WlJeXX7L3nJwcPf3001d2ogAAIKQFdSXn2LFjevLJJ7Vp0yZFRka2V0/tJisrS7W1tfZy7Nixzm4JAAC0k6BCTmlpqU6ePKnRo0erS5cu6tKli/bu3atf/epX6tKli6Kjo9XQ0KCampqA/aqrqxUTEyNJiomJuehpq+bPl6txuVzq1q2b+vbtq4iIiBZrmsdoidPptN+Jw7txAAAwW1Ah595779Xhw4dVVlZmL2PGjNG0adPsX3ft2lVFRUX2PhUVFaqqqpLH45EkeTweHT58OOApqMLCQrlcLsXHx9s1Xx6juaZ5DIfDocTExICapqYmFRUV2TUAAOCbLah7cnr27Knhw4cHrOvRo4f69Oljr09LS1NmZqZ69+4tl8ulefPmyePxaNy4cZKkCRMmKD4+XtOnT9fKlSvl8/m0ZMkSpaeny+l0SpJmz56tNWvWaOHChXr88ce1Z88ebdu2Tfn5+fZxMzMzlZqaqjFjxmjs2LFatWqV6urqNGPGjKuaEAAAYIY2/2cdnnvuOYWHh2vy5Mmqr6+X1+vV888/b2+PiIhQXl6e5syZI4/Hox49eig1NVXLly+3awYNGqT8/HxlZGRo9erV6t+/vzZs2CCv12vXTJkyRadOnVJ2drZ8Pp9GjRqlgoKCi25GBgAA30xhlmVZnd1EZ/H7/XK73aqtreX+HAAAQsSVfn/zb1cBAAAjEXIAAICR2vyeHPzdwMX5ly/6mvl4RUpntwAAQJvhSg4AADASIQcAABiJkAMAAIxEyAEAAEYi5AAAACMRcgAAgJEIOQAAwEiEHAAAYCRCDgAAMBIhBwAAGImQAwAAjETIAQAARiLkAAAAIxFyAACAkQg5AADASIQcAABgJEIOAAAwEiEHAAAYiZADAACMRMgBAABGIuQAAAAjEXIAAICRCDkAAMBIhBwAAGAkQg4AADASIQcAABiJkAMAAIxEyAEAAEYi5AAAACMRcgAAgJEIOQAAwEhBhZx169ZpxIgRcrlccrlc8ng8euWVV+ztd999t8LCwgKW2bNnB4xRVVWllJQUde/eXVFRUVqwYIEuXLgQUFNcXKzRo0fL6XRqyJAhys3NvaiXtWvXauDAgYqMjFRSUpIOHDgQzKkAAADDBRVy+vfvrxUrVqi0tFTvvPOO7rnnHj300EM6evSoXfPEE0/oxIkT9rJy5Up7W2Njo1JSUtTQ0KD9+/dr48aNys3NVXZ2tl1TWVmplJQUjR8/XmVlZZo/f75mzpyp3bt32zVbt25VZmamli5dqoMHD2rkyJHyer06efLk1cwFAAAwSJhlWdbVDNC7d289++yzSktL0913361Ro0Zp1apVLda+8soreuCBB3T8+HFFR0dLktavX69Fixbp1KlTcjgcWrRokfLz83XkyBF7v6lTp6qmpkYFBQWSpKSkJN1yyy1as2aNJKmpqUlxcXGaN2+eFi9efMW9+/1+ud1u1dbWyuVytXIGWjZwcX6bjtcRPl6R0tktAABwWVf6/d3qe3IaGxu1ZcsW1dXVyePx2Os3bdqkvn37avjw4crKytIXX3xhbyspKVFCQoIdcCTJ6/XK7/fbV4NKSkqUnJwccCyv16uSkhJJUkNDg0pLSwNqwsPDlZycbNdcSn19vfx+f8ACAADM1CXYHQ4fPiyPx6Nz587pmmuu0Y4dOxQfHy9JevTRR3X99dcrNjZWhw4d0qJFi1RRUaGXXnpJkuTz+QICjiT7s8/n+8oav9+vs2fP6vTp02psbGyxpry8/Ct7z8nJ0dNPPx3sKQMAgBAUdMi56aabVFZWptraWv3xj39Uamqq9u7dq/j4eM2aNcuuS0hIUL9+/XTvvffqww8/1ODBg9u08dbIyspSZmam/dnv9ysuLq4TOwIAAO0l6JDjcDg0ZMgQSVJiYqLefvttrV69Wr/5zW8uqk1KSpIkffDBBxo8eLBiYmIuegqqurpakhQTE2P/t3ndl2tcLpe6deumiIgIRUREtFjTPMalOJ1OOZ3OIM4WAACEqqt+T05TU5Pq6+tb3FZWViZJ6tevnyTJ4/Ho8OHDAU9BFRYWyuVy2T/y8ng8KioqChinsLDQvu/H4XAoMTExoKapqUlFRUUB9wYBAIBvtqCu5GRlZen+++/XgAEDdObMGW3evFnFxcXavXu3PvzwQ23evFkTJ05Unz59dOjQIWVkZOjOO+/UiBEjJEkTJkxQfHy8pk+frpUrV8rn82nJkiVKT0+3r7DMnj1ba9as0cKFC/X4449rz5492rZtm/Lz//G0UmZmplJTUzVmzBiNHTtWq1atUl1dnWbMmNGGUwMAAEJZUCHn5MmT+sEPfqATJ07I7XZrxIgR2r17t77zne/o2LFjeu211+zAERcXp8mTJ2vJkiX2/hEREcrLy9OcOXPk8XjUo0cPpaamavny5XbNoEGDlJ+fr4yMDK1evVr9+/fXhg0b5PV67ZopU6bo1KlTys7Ols/n06hRo1RQUHDRzcgAAOCb66rfkxPKeE9OIN6TAwAIBe3+nhwAAICvM0IOAAAwEiEHAAAYiZADAACMRMgBAABGIuQAAAAjEXIAAICRCDkAAMBIhBwAAGAkQg4AADASIQcAABiJkAMAAIxEyAEAAEYi5AAAACMRcgAAgJEIOQAAwEiEHAAAYCRCDgAAMBIhBwAAGImQAwAAjETIAQAARiLkAAAAIxFyAACAkQg5AADASIQcAABgJEIOAAAwEiEHAAAYiZADAACMRMgBAABGIuQAAAAjEXIAAICRCDkAAMBIhBwAAGAkQg4AADBSUCFn3bp1GjFihFwul1wulzwej1555RV7+7lz55Senq4+ffrommuu0eTJk1VdXR0wRlVVlVJSUtS9e3dFRUVpwYIFunDhQkBNcXGxRo8eLafTqSFDhig3N/eiXtauXauBAwcqMjJSSUlJOnDgQDCnAgAADBdUyOnfv79WrFih0tJSvfPOO7rnnnv00EMP6ejRo5KkjIwMvfzyy9q+fbv27t2r48eP6+GHH7b3b2xsVEpKihoaGrR//35t3LhRubm5ys7OtmsqKyuVkpKi8ePHq6ysTPPnz9fMmTO1e/duu2br1q3KzMzU0qVLdfDgQY0cOVJer1cnT5682vkAAACGCLMsy7qaAXr37q1nn31W3/ve93Tddddp8+bN+t73vidJKi8v17Bhw1RSUqJx48bplVde0QMPPKDjx48rOjpakrR+/XotWrRIp06dksPh0KJFi5Sfn68jR47Yx5g6dapqampUUFAgSUpKStItt9yiNWvWSJKampoUFxenefPmafHixVfcu9/vl9vtVm1trVwu19VMw0UGLs5v0/E6wscrUjq7BQAALutKv79bfU9OY2OjtmzZorq6Onk8HpWWlur8+fNKTk62a4YOHaoBAwaopKREklRSUqKEhAQ74EiS1+uV3++3rwaVlJQEjNFc0zxGQ0ODSktLA2rCw8OVnJxs11xKfX29/H5/wAIAAMwUdMg5fPiwrrnmGjmdTs2ePVs7duxQfHy8fD6fHA6HevXqFVAfHR0tn88nSfL5fAEBp3l787avqvH7/Tp79qw+/fRTNTY2tljTPMal5OTkyO1220tcXFywpw8AAEJE0CHnpptuUllZmd566y3NmTNHqampeu+999qjtzaXlZWl2tpaezl27FhntwQAANpJl2B3cDgcGjJkiCQpMTFRb7/9tlavXq0pU6aooaFBNTU1AVdzqqurFRMTI0mKiYm56Cmo5qevvlzzz09kVVdXy+VyqVu3boqIiFBERESLNc1jXIrT6ZTT6Qz2lAEAQAi66vfkNDU1qb6+XomJieratauKiorsbRUVFaqqqpLH45EkeTweHT58OOApqMLCQrlcLsXHx9s1Xx6juaZ5DIfDocTExICapqYmFRUV2TUAAABBXcnJysrS/fffrwEDBujMmTPavHmziouLtXv3brndbqWlpSkzM1O9e/eWy+XSvHnz5PF4NG7cOEnShAkTFB8fr+nTp2vlypXy+XxasmSJ0tPT7Ssss2fP1po1a7Rw4UI9/vjj2rNnj7Zt26b8/H88rZSZmanU1FSNGTNGY8eO1apVq1RXV6cZM2a04dQAAIBQFlTIOXnypH7wgx/oxIkTcrvdGjFihHbv3q3vfOc7kqTnnntO4eHhmjx5surr6+X1evX888/b+0dERCgvL09z5syRx+NRjx49lJqaquXLl9s1gwYNUn5+vjIyMrR69Wr1799fGzZskNfrtWumTJmiU6dOKTs7Wz6fT6NGjVJBQcFFNyMDAIBvrqt+T04o4z05gXhPDgAgFLT7e3IAAAC+zgg5AADASIQcAABgJEIOAAAwEiEHAAAYiZADAACMRMgBAABGIuQAAAAjEXIAAICRCDkAAMBIhBwAAGAkQg4AADASIQcAABiJkAMAAIxEyAEAAEYi5AAAACMRcgAAgJEIOQAAwEiEHAAAYCRCDgAAMBIhBwAAGImQAwAAjETIAQAARiLkAAAAIxFyAACAkQg5AADASIQcAABgJEIOAAAwEiEHAAAYiZADAACMRMgBAABGIuQAAAAjEXIAAICRCDkAAMBIQYWcnJwc3XLLLerZs6eioqI0adIkVVRUBNTcfffdCgsLC1hmz54dUFNVVaWUlBR1795dUVFRWrBggS5cuBBQU1xcrNGjR8vpdGrIkCHKzc29qJ+1a9dq4MCBioyMVFJSkg4cOBDM6QAAAIMFFXL27t2r9PR0vfnmmyosLNT58+c1YcIE1dXVBdQ98cQTOnHihL2sXLnS3tbY2KiUlBQ1NDRo//792rhxo3Jzc5WdnW3XVFZWKiUlRePHj1dZWZnmz5+vmTNnavfu3XbN1q1blZmZqaVLl+rgwYMaOXKkvF6vTp482dq5AAAABgmzLMtq7c6nTp1SVFSU9u7dqzvvvFPS36/kjBo1SqtWrWpxn1deeUUPPPCAjh8/rujoaEnS+vXrtWjRIp06dUoOh0OLFi1Sfn6+jhw5Yu83depU1dTUqKCgQJKUlJSkW265RWvWrJEkNTU1KS4uTvPmzdPixYuvqH+/3y+3263a2lq5XK7WTkOLBi7Ob9PxOsLHK1I6uwUAAC7rSr+/r+qenNraWklS7969A9Zv2rRJffv21fDhw5WVlaUvvvjC3lZSUqKEhAQ74EiS1+uV3+/X0aNH7Zrk5OSAMb1er0pKSiRJDQ0NKi0tDagJDw9XcnKyXdOS+vp6+f3+gAUAAJipS2t3bGpq0vz583Xbbbdp+PDh9vpHH31U119/vWJjY3Xo0CEtWrRIFRUVeumllyRJPp8vIOBIsj/7fL6vrPH7/Tp79qxOnz6txsbGFmvKy8sv2XNOTo6efvrp1p4yAAAIIa0OOenp6Tpy5Ihef/31gPWzZs2yf52QkKB+/frp3nvv1YcffqjBgwe3vtM2kJWVpczMTPuz3+9XXFxcJ3YEAADaS6tCzty5c5WXl6d9+/apf//+X1mblJQkSfrggw80ePBgxcTEXPQUVHV1tSQpJibG/m/zui/XuFwudevWTREREYqIiGixpnmMljidTjmdzis7SQAAENKCuifHsizNnTtXO3bs0J49ezRo0KDL7lNWViZJ6tevnyTJ4/Ho8OHDAU9BFRYWyuVyKT4+3q4pKioKGKewsFAej0eS5HA4lJiYGFDT1NSkoqIiuwYAAHyzBXUlJz09XZs3b9af/vQn9ezZ076Hxu12q1u3bvrwww+1efNmTZw4UX369NGhQ4eUkZGhO++8UyNGjJAkTZgwQfHx8Zo+fbpWrlwpn8+nJUuWKD093b7KMnv2bK1Zs0YLFy7U448/rj179mjbtm3Kz//HE0uZmZlKTU3VmDFjNHbsWK1atUp1dXWaMWNGW80NAAAIYUGFnHXr1kn6+2PiX/biiy/qsccek8Ph0GuvvWYHjri4OE2ePFlLliyxayMiIpSXl6c5c+bI4/GoR48eSk1N1fLly+2aQYMGKT8/XxkZGVq9erX69++vDRs2yOv12jVTpkzRqVOnlJ2dLZ/Pp1GjRqmgoOCim5EBAMA301W9JyfU8Z6cQLwnBwAQCjrkPTkAAABfV4QcAABgJEIOAAAwEiEHAAAYiZADAACMRMgBAABGIuQAAAAjEXIAAICRCDkAAMBIhBwAAGAkQg4AADASIQcAABiJkAMAAIxEyAEAAEYi5AAAACMRcgAAgJEIOQAAwEiEHAAAYCRCDgAAMBIhBwAAGImQAwAAjETIAQAARiLkAAAAIxFyAACAkQg5AADASIQcAABgJEIOAAAwEiEHAAAYiZADAACMRMgBAABGIuQAAAAjEXIAAICRCDkAAMBIhBwAAGCkoEJOTk6ObrnlFvXs2VNRUVGaNGmSKioqAmrOnTun9PR09enTR9dcc40mT56s6urqgJqqqiqlpKSoe/fuioqK0oIFC3ThwoWAmuLiYo0ePVpOp1NDhgxRbm7uRf2sXbtWAwcOVGRkpJKSknTgwIFgTgcAABgsqJCzd+9epaen680331RhYaHOnz+vCRMmqK6uzq7JyMjQyy+/rO3bt2vv3r06fvy4Hn74YXt7Y2OjUlJS1NDQoP3792vjxo3Kzc1Vdna2XVNZWamUlBSNHz9eZWVlmj9/vmbOnKndu3fbNVu3blVmZqaWLl2qgwcPauTIkfJ6vTp58uTVzAcAADBEmGVZVmt3PnXqlKKiorR3717deeedqq2t1XXXXafNmzfre9/7niSpvLxcw4YNU0lJicaNG6dXXnlFDzzwgI4fP67o6GhJ0vr167Vo0SKdOnVKDodDixYtUn5+vo4cOWIfa+rUqaqpqVFBQYEkKSkpSbfccovWrFkjSWpqalJcXJzmzZunxYsXX1H/fr9fbrdbtbW1crlcrZ2GFg1cnN+m43WEj1ekdHYLAABc1pV+f1/VPTm1tbWSpN69e0uSSktLdf78eSUnJ9s1Q4cO1YABA1RSUiJJKikpUUJCgh1wJMnr9crv9+vo0aN2zZfHaK5pHqOhoUGlpaUBNeHh4UpOTrZrAADAN1uX1u7Y1NSk+fPn67bbbtPw4cMlST6fTw6HQ7169QqojY6Ols/ns2u+HHCatzdv+6oav9+vs2fP6vTp02psbGyxpry8/JI919fXq76+3v7s9/uDOGMAABBKWn0lJz09XUeOHNGWLVvasp92lZOTI7fbbS9xcXGd3RIAAGgnrQo5c+fOVV5env7yl7+of//+9vqYmBg1NDSopqYmoL66uloxMTF2zT8/bdX8+XI1LpdL3bp1U9++fRUREdFiTfMYLcnKylJtba29HDt2LLgTBwAAISOokGNZlubOnasdO3Zoz549GjRoUMD2xMREde3aVUVFRfa6iooKVVVVyePxSJI8Ho8OHz4c8BRUYWGhXC6X4uPj7Zovj9Fc0zyGw+FQYmJiQE1TU5OKiorsmpY4nU65XK6ABQAAmCmoe3LS09O1efNm/elPf1LPnj3te2jcbre6desmt9uttLQ0ZWZmqnfv3nK5XJo3b548Ho/GjRsnSZowYYLi4+M1ffp0rVy5Uj6fT0uWLFF6erqcTqckafbs2VqzZo0WLlyoxx9/XHv27NG2bduUn/+PJ5YyMzOVmpqqMWPGaOzYsVq1apXq6uo0Y8aMtpobAAAQwoIKOevWrZMk3X333QHrX3zxRT322GOSpOeee07h4eGaPHmy6uvr5fV69fzzz9u1ERERysvL05w5c+TxeNSjRw+lpqZq+fLlds2gQYOUn5+vjIwMrV69Wv3799eGDRvk9XrtmilTpujUqVPKzs6Wz+fTqFGjVFBQcNHNyAAA4Jvpqt6TE+p4T04g3pMDAAgFHfKeHAAAgK8rQg4AADASIQcAABiJkAMAAIxEyAEAAEYi5AAAACMRcgAAgJEIOQAAwEiEHAAAYCRCDgAAMBIhBwAAGImQAwAAjETIAQAARiLkAAAAIxFyAACAkQg5AADASIQcAABgJEIOAAAwEiEHAAAYiZADAACMRMgBAABGIuQAAAAjEXIAAICRCDkAAMBIhBwAAGAkQg4AADASIQcAABiJkAMAAIxEyAEAAEYi5AAAACMRcgAAgJEIOQAAwEiEHAAAYCRCDgAAMBIhBwAAGCnokLNv3z49+OCDio2NVVhYmHbu3Bmw/bHHHlNYWFjAct999wXUfPbZZ5o2bZpcLpd69eqltLQ0ff755wE1hw4d0h133KHIyEjFxcVp5cqVF/Wyfft2DR06VJGRkUpISNCuXbuCPR0AAGCooENOXV2dRo4cqbVr116y5r777tOJEyfs5Q9/+EPA9mnTpuno0aMqLCxUXl6e9u3bp1mzZtnb/X6/JkyYoOuvv16lpaV69tlntWzZMr3wwgt2zf79+/XII48oLS1N7777riZNmqRJkybpyJEjwZ4SAAAwUJhlWVardw4L044dOzRp0iR73WOPPaaampqLrvA0e//99xUfH6+3335bY8aMkSQVFBRo4sSJ+uSTTxQbG6t169bpqaeeks/nk8PhkCQtXrxYO3fuVHl5uSRpypQpqqurU15enj32uHHjNGrUKK1fv/6K+vf7/XK73aqtrZXL5WrFDFzawMX5bTpeR/h4RUpntwAAwGVd6fd3u9yTU1xcrKioKN10002aM2eO/va3v9nbSkpK1KtXLzvgSFJycrLCw8P11ltv2TV33nmnHXAkyev1qqKiQqdPn7ZrkpOTA47r9XpVUlJyyb7q6+vl9/sDFgAAYKY2Dzn33Xef/uu//ktFRUX6z//8T+3du1f333+/GhsbJUk+n09RUVEB+3Tp0kW9e/eWz+eza6KjowNqmj9frqZ5e0tycnLkdrvtJS4u7upOFgAAfG11aesBp06dav86ISFBI0aM0ODBg1VcXKx77723rQ8XlKysLGVmZtqf/X4/QQcAAEO1+yPkN9xwg/r27asPPvhAkhQTE6OTJ08G1Fy4cEGfffaZYmJi7Jrq6uqAmubPl6tp3t4Sp9Mpl8sVsAAAADO1e8j55JNP9Le//U39+vWTJHk8HtXU1Ki0tNSu2bNnj5qampSUlGTX7Nu3T+fPn7drCgsLddNNN+naa6+1a4qKigKOVVhYKI/H096nBAAAQkDQIefzzz9XWVmZysrKJEmVlZUqKytTVVWVPv/8cy1YsEBvvvmmPv74YxUVFemhhx7SkCFD5PV6JUnDhg3TfffdpyeeeEIHDhzQG2+8oblz52rq1KmKjY2VJD366KNyOBxKS0vT0aNHtXXrVq1evTrgR01PPvmkCgoK9Itf/ELl5eVatmyZ3nnnHc2dO7cNpgUAAIS6oEPOO++8o29/+9v69re/LUnKzMzUt7/9bWVnZysiIkKHDh3Sd7/7Xd14441KS0tTYmKi/vu//1tOp9MeY9OmTRo6dKjuvfdeTZw4UbfffnvAO3DcbrdeffVVVVZWKjExUT/60Y+UnZ0d8C6dW2+9VZs3b9YLL7ygkSNH6o9//KN27typ4cOHX818AAAAQ1zVe3JCHe/JCcR7cgAAoaBT35MDAADQ2Qg5AADASIQcAABgJEIOAAAwEiEHAAAYiZADAACMRMgBAABGIuQAAAAjEXIAAICRCDkAAMBIhBwAAGAkQg4AADASIQcAABiJkAMAAIxEyAEAAEYi5AAAACMRcgAAgJEIOQAAwEiEHAAAYCRCDgAAMBIhBwAAGImQAwAAjETIAQAARiLkAAAAIxFyAACAkQg5AADASIQcAABgJEIOAAAwEiEHAAAYiZADAACMRMgBAABGIuQAAAAjEXIAAICRCDkAAMBIQYecffv26cEHH1RsbKzCwsK0c+fOgO2WZSk7O1v9+vVTt27dlJycrL/+9a8BNZ999pmmTZsml8ulXr16KS0tTZ9//nlAzaFDh3THHXcoMjJScXFxWrly5UW9bN++XUOHDlVkZKQSEhK0a9euYE8HAAAYKuiQU1dXp5EjR2rt2rUtbl+5cqV+9atfaf369XrrrbfUo0cPeb1enTt3zq6ZNm2ajh49qsLCQuXl5Wnfvn2aNWuWvd3v92vChAm6/vrrVVpaqmeffVbLli3TCy+8YNfs379fjzzyiNLS0vTuu+9q0qRJmjRpko4cORLsKQEAAAOFWZZltXrnsDDt2LFDkyZNkvT3qzixsbH60Y9+pB//+MeSpNraWkVHRys3N1dTp07V+++/r/j4eL399tsaM2aMJKmgoEATJ07UJ598otjYWK1bt05PPfWUfD6fHA6HJGnx4sXauXOnysvLJUlTpkxRXV2d8vLy7H7GjRunUaNGaf369VfUv9/vl9vtVm1trVwuV2unoUUDF+e36Xgd4eMVKZ3dAgAAl3Wl399tek9OZWWlfD6fkpOT7XVut1tJSUkqKSmRJJWUlKhXr152wJGk5ORkhYeH66233rJr7rzzTjvgSJLX61VFRYVOnz5t13z5OM01zcdpSX19vfx+f8ACAADM1KYhx+fzSZKio6MD1kdHR9vbfD6foqKiArZ36dJFvXv3DqhpaYwvH+NSNc3bW5KTkyO3220vcXFxwZ4iAAAIEd+op6uysrJUW1trL8eOHevslgAAQDtp05ATExMjSaqurg5YX11dbW+LiYnRyZMnA7ZfuHBBn332WUBNS2N8+RiXqmne3hKn0ymXyxWwAAAAM7VpyBk0aJBiYmJUVFRkr/P7/Xrrrbfk8XgkSR6PRzU1NSotLbVr9uzZo6amJiUlJdk1+/bt0/nz5+2awsJC3XTTTbr22mvtmi8fp7mm+TgAAOCbLeiQ8/nnn6usrExlZWWS/n6zcVlZmaqqqhQWFqb58+frpz/9qf785z/r8OHD+sEPfqDY2Fj7Caxhw4bpvvvu0xNPPKEDBw7ojTfe0Ny5czV16lTFxsZKkh599FE5HA6lpaXp6NGj2rp1q1avXq3MzEy7jyeffFIFBQX6xS9+ofLyci1btkzvvPOO5s6de/WzAgAAQl6XYHd45513NH78ePtzc/BITU1Vbm6uFi5cqLq6Os2aNUs1NTW6/fbbVVBQoMjISHufTZs2ae7cubr33nsVHh6uyZMn61e/+pW93e1269VXX1V6eroSExPVt29fZWdnB7xL59Zbb9XmzZu1ZMkS/eQnP9G3vvUt7dy5U8OHD2/VRAAAALNc1XtyQh3vyQnEe3IAAKGgU96TAwAA8HVByAEAAEYi5AAAACMRcgAAgJEIOQAAwEiEHAAAYCRCDgAAMBIhBwAAGImQAwAAjETIAQAARiLkAAAAIxFyAACAkQg5AADASIQcAABgJEIOAAAwEiEHAAAYiZADAACMRMgBAABGIuQAAAAjEXIAAICRCDkAAMBIhBwAAGAkQg4AADASIQcAABiJkAMAAIxEyAEAAEYi5AAAACMRcgAAgJEIOQAAwEiEHAAAYCRCDgAAMBIhBwAAGImQAwAAjETIAQAARmrzkLNs2TKFhYUFLEOHDrW3nzt3Tunp6erTp4+uueYaTZ48WdXV1QFjVFVVKSUlRd27d1dUVJQWLFigCxcuBNQUFxdr9OjRcjqdGjJkiHJzc9v6VAAAQAhrlys5N998s06cOGEvr7/+ur0tIyNDL7/8srZv3669e/fq+PHjevjhh+3tjY2NSklJUUNDg/bv36+NGzcqNzdX2dnZdk1lZaVSUlI0fvx4lZWVaf78+Zo5c6Z2797dHqcDAABCUJd2GbRLF8XExFy0vra2Vr/73e+0efNm3XPPPZKkF198UcOGDdObb76pcePG6dVXX9V7772n1157TdHR0Ro1apSeeeYZLVq0SMuWLZPD4dD69es1aNAg/eIXv5AkDRs2TK+//rqee+45eb3e9jglAAAQYtrlSs5f//pXxcbG6oYbbtC0adNUVVUlSSotLdX58+eVnJxs1w4dOlQDBgxQSUmJJKmkpEQJCQmKjo62a7xer/x+v44ePWrXfHmM5prmMS6lvr5efr8/YAEAAGZq85CTlJSk3NxcFRQUaN26daqsrNQdd9yhM2fOyOfzyeFwqFevXgH7REdHy+fzSZJ8Pl9AwGne3rztq2r8fr/Onj17yd5ycnLkdrvtJS4u7mpPFwAAfE21+Y+r7r//fvvXI0aMUFJSkq6//npt27ZN3bp1a+vDBSUrK0uZmZn2Z7/fT9ABAMBQ7f4Iea9evXTjjTfqgw8+UExMjBoaGlRTUxNQU11dbd/DExMTc9HTVs2fL1fjcrm+Mkg5nU65XK6ABQAAmKndQ87nn3+uDz/8UP369VNiYqK6du2qoqIie3tFRYWqqqrk8XgkSR6PR4cPH9bJkyftmsLCQrlcLsXHx9s1Xx6juaZ5DAAAgDYPOT/+8Y+1d+9effzxx9q/f7/+9V//VREREXrkkUfkdruVlpamzMxM/eUvf1FpaalmzJghj8ejcePGSZImTJig+Ph4TZ8+Xf/zP/+j3bt3a8mSJUpPT5fT6ZQkzZ49Wx999JEWLlyo8vJyPf/889q2bZsyMjLa+nQAAECIavN7cj755BM98sgj+tvf/qbrrrtOt99+u958801dd911kqTnnntO4eHhmjx5surr6+X1evX888/b+0dERCgvL09z5syRx+NRjx49lJqaquXLl9s1gwYNUn5+vjIyMrR69Wr1799fGzZs4PFxAABgC7Msy+rsJjqL3++X2+1WbW1tm9+fM3BxfpuO1xE+XpHS2S0AAHBZV/r9zb9dBQAAjETIAQAARiLkAAAAIxFyAACAkQg5AADASIQcAABgJEIOAAAwEiEHAAAYqc3feIzQxQsMAQAm4UoOAAAwEiEHAAAYiZADAACMRMgBAABGIuQAAAAjEXIAAICRCDkAAMBIhBwAAGAkQg4AADASIQcAABiJkAMAAIxEyAEAAEYi5AAAACMRcgAAgJEIOQAAwEiEHAAAYCRCDgAAMBIhBwAAGImQAwAAjNSlsxsArsbAxfmd3ULQPl6R0tktAMA3AldyAACAkQg5AADASIQcAABgJEIOAAAwEiEHAAAYKeRDztq1azVw4EBFRkYqKSlJBw4c6OyWAADA10BIP0K+detWZWZmav369UpKStKqVavk9XpVUVGhqKiozm4PaFEoPvYu8eg7gNAT0ldyfvnLX+qJJ57QjBkzFB8fr/Xr16t79+76/e9/39mtAQCAThayV3IaGhpUWlqqrKwse114eLiSk5NVUlLS4j719fWqr6+3P9fW1kqS/H5/m/fXVP9Fm48JdKYBGds7u4VvhCNPezu7BeBrr/l727Ksr6wL2ZDz6aefqrGxUdHR0QHro6OjVV5e3uI+OTk5evrppy9aHxcX1y49AkCw3Ks6uwMgdJw5c0Zut/uS20M25LRGVlaWMjMz7c9NTU367LPP1KdPH4WFhbXZcfx+v+Li4nTs2DG5XK42GxeBmOeOw1x3DOa5YzDPHaM959myLJ05c0axsbFfWReyIadv376KiIhQdXV1wPrq6mrFxMS0uI/T6ZTT6QxY16tXr/ZqUS6Xiz9AHYB57jjMdcdgnjsG89wx2muev+oKTrOQvfHY4XAoMTFRRUVF9rqmpiYVFRXJ4/F0YmcAAODrIGSv5EhSZmamUlNTNWbMGI0dO1arVq1SXV2dZsyY0dmtAQCAThbSIWfKlCk6deqUsrOz5fP5NGrUKBUUFFx0M3JHczqdWrp06UU/GkPbYp47DnPdMZjnjsE8d4yvwzyHWZd7/goAACAEhew9OQAAAF+FkAMAAIxEyAEAAEYi5AAAACMRclpp7dq1GjhwoCIjI5WUlKQDBw58Zf327ds1dOhQRUZGKiEhQbt27eqgTkNbMPP829/+VnfccYeuvfZaXXvttUpOTr7s/xf8XbC/n5tt2bJFYWFhmjRpUvs2aJBg57qmpkbp6enq16+fnE6nbrzxRv7+uALBzvOqVat00003qVu3boqLi1NGRobOnTvXQd2Gpn379unBBx9UbGyswsLCtHPnzsvuU1xcrNGjR8vpdGrIkCHKzc1t3yYtBG3Lli2Ww+Gwfv/731tHjx61nnjiCatXr15WdXV1i/VvvPGGFRERYa1cudJ67733rCVLllhdu3a1Dh8+3MGdh5Zg5/nRRx+11q5da7377rvW+++/bz322GOW2+22Pvnkkw7uPLQEO8/NKisrrX/5l3+x7rjjDuuhhx7qmGZDXLBzXV9fb40ZM8aaOHGi9frrr1uVlZVWcXGxVVZW1sGdh5Zg53nTpk2W0+m0Nm3aZFVWVlq7d++2+vXrZ2VkZHRw56Fl165d1lNPPWW99NJLliRrx44dX1n/0UcfWd27d7cyMzOt9957z/r1r39tRUREWAUFBe3WIyGnFcaOHWulp6fbnxsbG63Y2FgrJyenxfrvf//7VkpKSsC6pKQk69/+7d/atc9QF+w8/7MLFy5YPXv2tDZu3NheLRqhNfN84cIF69Zbb7U2bNhgpaamEnKuULBzvW7dOuuGG26wGhoaOqpFIwQ7z+np6dY999wTsC4zM9O67bbb2rVPk1xJyFm4cKF18803B6ybMmWK5fV6260vflwVpIaGBpWWlio5OdleFx4eruTkZJWUlLS4T0lJSUC9JHm93kvWo3Xz/M+++OILnT9/Xr17926vNkNea+d5+fLlioqKUlpaWke0aYTWzPWf//xneTwepaenKzo6WsOHD9fPfvYzNTY2dlTbIac183zrrbeqtLTU/pHWRx99pF27dmnixIkd0vM3RWd8F4b0G487w6effqrGxsaL3qocHR2t8vLyFvfx+Xwt1vt8vnbrM9S1Zp7/2aJFixQbG3vRHyr8Q2vm+fXXX9fvfvc7lZWVdUCH5mjNXH/00Ufas2ePpk2bpl27dumDDz7QD3/4Q50/f15Lly7tiLZDTmvm+dFHH9Wnn36q22+/XZZl6cKFC5o9e7Z+8pOfdETL3xiX+i70+/06e/asunXr1ubH5EoOjLRixQpt2bJFO3bsUGRkZGe3Y4wzZ85o+vTp+u1vf6u+fft2djvGa2pqUlRUlF544QUlJiZqypQpeuqpp7R+/frObs0oxcXF+tnPfqbnn39eBw8e1EsvvaT8/Hw988wznd0arhJXcoLUt29fRUREqLq6OmB9dXW1YmJiWtwnJiYmqHq0bp6b/fznP9eKFSv02muvacSIEe3ZZsgLdp4//PBDffzxx3rwwQftdU1NTZKkLl26qKKiQoMHD27fpkNUa35P9+vXT127dlVERIS9btiwYfL5fGpoaJDD4WjXnkNRa+b53//93zV9+nTNnDlTkpSQkKC6ujrNmjVLTz31lMLDuR7QFi71XehyudrlKo7ElZygORwOJSYmqqioyF7X1NSkoqIieTyeFvfxeDwB9ZJUWFh4yXq0bp4laeXKlXrmmWdUUFCgMWPGdESrIS3YeR46dKgOHz6ssrIye/nud7+r8ePHq6ysTHFxcR3Zfkhpze/p2267TR988IEdJCXpf//3f9WvXz8CziW0Zp6/+OKLi4JMc7C0+Ocd20ynfBe22y3NBtuyZYvldDqt3Nxc67333rNmzZpl9erVy/L5fJZlWdb06dOtxYsX2/VvvPGG1aVLF+vnP/+59f7771tLly7lEfIrEOw8r1ixwnI4HNYf//hH68SJE/Zy5syZzjqFkBDsPP8znq66csHOdVVVldWzZ09r7ty5VkVFhZWXl2dFRUVZP/3pTzvrFEJCsPO8dOlSq2fPntYf/vAH66OPPrJeffVVa/Dgwdb3v//9zjqFkHDmzBnr3Xfftd59911LkvXLX/7Sevfdd63/+7//syzLshYvXmxNnz7drm9+hHzBggXW+++/b61du5ZHyL+ufv3rX1sDBgywHA6HNXbsWOvNN9+0t911111WampqQP22bdusG2+80XI4HNbNN99s5efnd3DHoSmYeb7++ustSRctS5cu7fjGQ0ywv5+/jJATnGDnev/+/VZSUpLldDqtG264wfqP//gP68KFCx3cdegJZp7Pnz9vLVu2zBo8eLAVGRlpxcXFWT/84Q+t06dPd3zjIeQvf/lLi3/nNs9tamqqddddd120z6hRoyyHw2HdcMMN1osvvtiuPYZZFtfiAACAebgnBwAAGImQAwAAjETIAQAARiLkAAAAIxFyAACAkQg5AADASIQcAABgJEIOAAAwEiEHAAAYiZADAACMRMgBAABGIuQAAAAj/T/prsxCbdxTFgAAAABJRU5ErkJggg==\n",
      "text/plain": [
       "<Figure size 640x480 with 1 Axes>"
      ]
     },
     "metadata": {},
     "output_type": "display_data"
    }
   ],
>>>>>>> e4909ba5cc2d5b4a39c21f03850aa9c502f2ba85
   "source": [
    "plt.hist(sim_network[sim_network[\"is_coref\"] == 0][\"jaccard_sim_network\"] )"
   ]
  },
  {
   "cell_type": "code",
<<<<<<< HEAD
   "execution_count": null,
=======
   "execution_count": 91,
>>>>>>> e4909ba5cc2d5b4a39c21f03850aa9c502f2ba85
   "id": "a0fc95bd-120b-497a-98b9-98d37c760cc7",
   "metadata": {},
   "outputs": [],
   "source": [
    "# sim_network.to_csv('Sim_Jaccard_Network.csv', sep ='\\t', index=False, header=False, columns=['email', 'other_email', 'jaccard_sim_network'])"
   ]
<<<<<<< HEAD
  },
  {
   "cell_type": "code",
   "execution_count": null,
   "id": "f9de3d9a-3f8a-4f46-a7f0-f3470ef41578",
   "metadata": {},
   "outputs": [],
   "source": [
    "fig, axis = plt.subplots(figsize = (10, 5))\n",
    "axis.hist(filtered_frame[\"dice_sim_network\"], bins = [0, 0.05, 0.1, 0.15, .20, 0.25, 0.255, 0.30, 0.35, 0.40, 0.50, 0.55, .60, 0.65, 0.70, 0.75, .80, 0.85, 0.90, 0.95, 1.00] )\n",
    "# Displaying the graph\n",
    "plt.show()"
   ]
  },
  {
   "cell_type": "code",
   "execution_count": null,
   "id": "0ef8b9c0-176d-487d-947c-c303a61d7c91",
   "metadata": {},
   "outputs": [],
   "source": [
    "# TODO: why isn't this printing mostly \"exists\"?\n",
    "# for pair in zip(sim_network[sim_network['jaccard_sim_network'] > 0.5]['email'], sim_network[sim_network['jaccard_sim_network'] > 0.5]['other_email']):\n",
    "#     print(full_set_coref_edges_data[(full_set_coref_edges_data['email'] == pair[0]) & (full_set_coref_edges_data['alt_email'] == pair[1])]['exists'])\n",
    "#     print(\"--------\")"
   ]
  },
  {
   "cell_type": "markdown",
   "id": "52739b95-2a64-4f87-a599-f31226868227",
   "metadata": {
    "tags": []
   },
   "source": [
    "## Node Labeling"
   ]
  },
  {
   "cell_type": "markdown",
   "id": "fd2ac717-d1d8-4b33-b4c9-0812524788b9",
   "metadata": {},
   "source": [
    "### Proportion of Neighbors' titles"
   ]
  },
  {
   "cell_type": "code",
   "execution_count": null,
   "id": "329713ee-a2ca-43c7-a51e-dbe531669092",
   "metadata": {},
   "outputs": [],
   "source": []
=======
>>>>>>> e4909ba5cc2d5b4a39c21f03850aa9c502f2ba85
  }
 ],
 "metadata": {
  "kernelspec": {
   "display_name": "Python 3 (ipykernel)",
   "language": "python",
   "name": "python3"
  },
  "language_info": {
   "codemirror_mode": {
    "name": "ipython",
    "version": 3
   },
   "file_extension": ".py",
   "mimetype": "text/x-python",
   "name": "python",
   "nbconvert_exporter": "python",
   "pygments_lexer": "ipython3",
   "version": "3.11.3"
  }
 },
 "nbformat": 4,
 "nbformat_minor": 5
}
